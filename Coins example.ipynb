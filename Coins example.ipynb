{
 "cells": [
  {
   "cell_type": "code",
   "execution_count": 2,
   "metadata": {},
   "outputs": [],
   "source": [
    "import numpy as np\n",
    "from scipy.stats import beta, binom\n",
    "import matplotlib.pyplot as plt"
   ]
  },
  {
   "cell_type": "code",
   "execution_count": 1,
   "metadata": {},
   "outputs": [],
   "source": [
    "def betaDensity(a,b):\n",
    "    xs = np.linspace(0,1,1000)\n",
    "    f = lambda x: beta.pdf(x,a,b)\n",
    "    plt.plot(xs,f(xs))\n",
    "    plt.xlabel(\"$\\\\theta$\")\n",
    "    plt.ylabel(\"Density\")"
   ]
  },
  {
   "cell_type": "markdown",
   "metadata": {},
   "source": [
    "# Prior distribution"
   ]
  },
  {
   "cell_type": "code",
   "execution_count": null,
   "metadata": {},
   "outputs": [],
   "source": [
    "coin = []\n",
    "a = b = 2\n",
    "heads = 0\n",
    "tails = 0\n",
    "betaDensity(a,b)"
   ]
  },
  {
   "cell_type": "markdown",
   "metadata": {},
   "source": [
    "# Make one coin toss"
   ]
  },
  {
   "cell_type": "code",
   "execution_count": null,
   "metadata": {},
   "outputs": [],
   "source": [
    "t = binom.rvs(1,p)\n",
    "if t==1:\n",
    "    heads+=1\n",
    "    coin.append(\"H\")\n",
    "else:\n",
    "    tails+=1\n",
    "    coin.append(\"T\")\n",
    "print(coin)\n",
    "betaDensity(a+heads,b+tails)"
   ]
  },
  {
   "cell_type": "markdown",
   "metadata": {},
   "source": [
    "# Ten more coin tosses"
   ]
  },
  {
   "cell_type": "code",
   "execution_count": null,
   "metadata": {},
   "outputs": [],
   "source": [
    "for i in range(10):\n",
    "    t = binom.rvs(1,p)\n",
    "    if t==1:\n",
    "        heads+=1\n",
    "        coin.append(\"H\")\n",
    "    else:\n",
    "        tails+=1\n",
    "        coin.append(\"T\")\n",
    "print(str(heads)+\" heads, \"+str(tails)+\" tails\")\n",
    "betaDensity(a+heads,b+tails)"
   ]
  }
 ],
 "metadata": {
  "kernelspec": {
   "display_name": "py_36_env",
   "language": "python",
   "name": "py_36_env"
  },
  "language_info": {
   "codemirror_mode": {
    "name": "ipython",
    "version": 3
   },
   "file_extension": ".py",
   "mimetype": "text/x-python",
   "name": "python",
   "nbconvert_exporter": "python",
   "pygments_lexer": "ipython3",
   "version": "3.6.4"
  }
 },
 "nbformat": 4,
 "nbformat_minor": 2
}
