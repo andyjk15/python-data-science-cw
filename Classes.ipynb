{
 "cells": [
  {
   "cell_type": "markdown",
   "metadata": {},
   "source": [
    "# Defining classes"
   ]
  },
  {
   "cell_type": "code",
   "execution_count": 1,
   "metadata": {},
   "outputs": [],
   "source": [
    "class MyClass:\n",
    "    # An instance method\n",
    "    def set(self,value):\n",
    "        # A variable defined in each instance\n",
    "        self.val = value\n",
    "    def get(self):\n",
    "        return self.val"
   ]
  },
  {
   "cell_type": "code",
   "execution_count": 2,
   "metadata": {},
   "outputs": [
    {
     "data": {
      "text/plain": [
       "2222"
      ]
     },
     "execution_count": 2,
     "metadata": {},
     "output_type": "execute_result"
    }
   ],
   "source": [
    "a = MyClass() # An instance of MyClass\n",
    "a.set(2222)\n",
    "a.get()"
   ]
  },
  {
   "cell_type": "markdown",
   "metadata": {},
   "source": [
    "Class variables are shared across all instances of the class"
   ]
  },
  {
   "cell_type": "code",
   "execution_count": 3,
   "metadata": {},
   "outputs": [],
   "source": [
    "class MyClassCounter:\n",
    "    readCounter = 0 # A class variable\n",
    "    writeCounter = 0 # A class variable\n",
    "    def set(self,value):\n",
    "        # A class variable for *all* instances.\n",
    "        MyClassCounter.writeCounter += 1\n",
    "        self.val = value\n",
    "    def get(self):\n",
    "        # A class variable for *all* instances.\n",
    "        MyClassCounter.readCounter += 1\n",
    "        return self.val"
   ]
  },
  {
   "cell_type": "code",
   "execution_count": 4,
   "metadata": {},
   "outputs": [
    {
     "name": "stdout",
     "output_type": "stream",
     "text": [
      "32\n",
      "1\n",
      "2\n"
     ]
    }
   ],
   "source": [
    "storeA = MyClassCounter()\n",
    "storeA.set(32)\n",
    "print(storeA.get()) # 32\n",
    "storeB = MyClassCounter()\n",
    "storeB.set(16)\n",
    "print(MyClassCounter.readCounter) # 1\n",
    "print(MyClassCounter.writeCounter) # 2"
   ]
  },
  {
   "cell_type": "markdown",
   "metadata": {},
   "source": [
    "We can overload operators and keywords for instances of a class, for example by defining \\_\\_add\\_\\_ to implement addition."
   ]
  },
  {
   "cell_type": "code",
   "execution_count": 5,
   "metadata": {},
   "outputs": [],
   "source": [
    "class MyClassAdd:\n",
    "    def __init__(self,value):\n",
    "        self.val = value\n",
    "        # A class method\n",
    "    def set(self,value):\n",
    "        # A variable defined in each instance\n",
    "        self.val = value\n",
    "    def get(self):\n",
    "        return self.val\n",
    "    def __add__(self,b):\n",
    "        return MyClassAdd(self.val+b.get())"
   ]
  },
  {
   "cell_type": "code",
   "execution_count": 6,
   "metadata": {},
   "outputs": [
    {
     "data": {
      "text/plain": [
       "5"
      ]
     },
     "execution_count": 6,
     "metadata": {},
     "output_type": "execute_result"
    }
   ],
   "source": [
    "a = MyClassAdd(2)\n",
    "b = MyClassAdd(3)\n",
    "c=a+b\n",
    "c.get()"
   ]
  },
  {
   "cell_type": "markdown",
   "metadata": {},
   "source": [
    "# An example class - sets of unordered pairs\n",
    "\n",
    "We can build a class that treats pairs $(a,b)$ and $(b,a)$ as equivalent, by representing pairs as $(c,d)$ with $c = min(a,b)$ and $d = max(a,b)$. This gives a canonical representation that is the same regardless of the ordering of $a$ and $b$."
   ]
  },
  {
   "cell_type": "code",
   "execution_count": 7,
   "metadata": {},
   "outputs": [],
   "source": [
    "class upairset:\n",
    "    def __init__(self):\n",
    "        self.pairs = set()\n",
    "    def add(self,pair):\n",
    "        a,b = pair\n",
    "        if a<b:\n",
    "            self.pairs.add((a,b))\n",
    "        else:\n",
    "            self.pairs.add((b,a))      \n",
    "    def __contains__(self,pair):\n",
    "        a,b = pair\n",
    "        if a<b:\n",
    "            return (a,b) in self.pairs\n",
    "        else:\n",
    "            return (b,a) in self.pairs"
   ]
  },
  {
   "cell_type": "code",
   "execution_count": 8,
   "metadata": {},
   "outputs": [
    {
     "data": {
      "text/plain": [
       "True"
      ]
     },
     "execution_count": 8,
     "metadata": {},
     "output_type": "execute_result"
    }
   ],
   "source": [
    "edges = upairset()\n",
    "edges.add((5,2))\n",
    "(2,5) in edges"
   ]
  },
  {
   "cell_type": "markdown",
   "metadata": {},
   "source": [
    "# A simple network class\n",
    "\n",
    "Storing edges in a Python list, and with a method to parse a network from a tsv file."
   ]
  },
  {
   "cell_type": "code",
   "execution_count": 9,
   "metadata": {},
   "outputs": [],
   "source": [
    "class Network:\n",
    "    def __init__(self):\n",
    "        self.edges = []\n",
    "    def readFile(self,filename):\n",
    "        with open(filename,'r') as f:\n",
    "            for l in f:\n",
    "                a,b = l.split(\"\\t\")\n",
    "                e = (int(a),int(b))\n",
    "                self.addEdge(e)\n",
    "    def addEdge(self,e):\n",
    "        self.edges.append(e)"
   ]
  },
  {
   "cell_type": "markdown",
   "metadata": {},
   "source": [
    "We can make a better Network class using a set of unordered pairs to store the edge list. We can do this by inheriting the readFile method from the network class above, and overwriting the \\_\\_init\\_\\_ and addEdge methods.\n",
    "\n",
    "We can also define a \\_\\_contains\\_\\_ method for the class, that simply uses the method of the upairset class."
   ]
  },
  {
   "cell_type": "code",
   "execution_count": 10,
   "metadata": {},
   "outputs": [],
   "source": [
    "class NetworkEdgeList(Network):\n",
    "    def __init__(self):\n",
    "        self.edges = upairset()\n",
    "    def addEdge(self,e):\n",
    "        self.edges.add(e) \n",
    "    def __contains__(self,e):\n",
    "        return e in self.edges"
   ]
  },
  {
   "cell_type": "markdown",
   "metadata": {},
   "source": [
    "We can do something similar for a neighbour list class, using sets to represent neighbour lists."
   ]
  },
  {
   "cell_type": "code",
   "execution_count": 11,
   "metadata": {},
   "outputs": [],
   "source": [
    "class NetworkNeighbourList(Network):\n",
    "    def __init__(self):\n",
    "        self.neighbours = {}\n",
    "    def addEdge(self,e):\n",
    "        a,b = e\n",
    "        if a in self.neighbours:\n",
    "            self.neighbours[a].add(b)\n",
    "        else:\n",
    "            self.neighbours[a] = {b}\n",
    "        if b in self.neighbours:\n",
    "            self.neighbours[b].add(a)\n",
    "        else:\n",
    "            self.neighbours[b] = {a}        \n",
    "    def __contains__(self,e):\n",
    "        a,b = e\n",
    "        return b in self.neighbours[a]\n",
    "    def neighbourList(self,a):\n",
    "        return self.neighbours[a]"
   ]
  },
  {
   "cell_type": "markdown",
   "metadata": {},
   "source": [
    "Testing out our various Network classes:"
   ]
  },
  {
   "cell_type": "code",
   "execution_count": 12,
   "metadata": {},
   "outputs": [
    {
     "data": {
      "text/plain": [
       "[(9, 4), (10, 6), (10, 7), (11, 1)]"
      ]
     },
     "execution_count": 12,
     "metadata": {},
     "output_type": "execute_result"
    }
   ],
   "source": [
    "n = Network()\n",
    "n.readFile(\"dolphins.tsv\")\n",
    "n.edges[:4] # First four edges"
   ]
  },
  {
   "cell_type": "code",
   "execution_count": 13,
   "metadata": {},
   "outputs": [
    {
     "data": {
      "text/plain": [
       "True"
      ]
     },
     "execution_count": 13,
     "metadata": {},
     "output_type": "execute_result"
    }
   ],
   "source": [
    "ne = NetworkEdgeList()\n",
    "ne.readFile(\"dolphins.tsv\")\n",
    "(4,9) in ne.edges"
   ]
  },
  {
   "cell_type": "code",
   "execution_count": 14,
   "metadata": {},
   "outputs": [
    {
     "data": {
      "text/plain": [
       "{6, 7, 14, 18, 33, 42, 58}"
      ]
     },
     "execution_count": 14,
     "metadata": {},
     "output_type": "execute_result"
    }
   ],
   "source": [
    "nn = NetworkNeighbourList()\n",
    "nn.readFile(\"dolphins.tsv\")\n",
    "nn.neighbourList(10)"
   ]
  },
  {
   "cell_type": "markdown",
   "metadata": {},
   "source": [
    "# Drawing the network with NetworkX and Bokeh\n",
    "\n",
    "We can use the Bokeh visualisation library to draw our network, but we need to use the NetworkX library to produce a layout (set of node coordinates) for the network.\n",
    "\n",
    "We can extend our simple network class with a method to convert the network to a networkx object."
   ]
  },
  {
   "cell_type": "code",
   "execution_count": 15,
   "metadata": {},
   "outputs": [],
   "source": [
    "import networkx as nx\n",
    "\n",
    "class Network:\n",
    "    def __init__(self):\n",
    "        self.edges = []\n",
    "    def readFile(self,filename):\n",
    "        with open(filename,'r') as f:\n",
    "            for l in f:\n",
    "                a,b = l.split(\"\\t\")\n",
    "                e = (int(a),int(b))\n",
    "                self.addEdge(e)\n",
    "    def addEdge(self,e):\n",
    "        self.edges.append(e)\n",
    "    def __contains__(self,e):\n",
    "        return e in self.edges\n",
    "    def toNetworkX(self):\n",
    "        n = nx.Graph()\n",
    "        n.add_edges_from(self.edges)\n",
    "        return n"
   ]
  },
  {
   "cell_type": "code",
   "execution_count": 16,
   "metadata": {},
   "outputs": [],
   "source": [
    "dolphins = Network()\n",
    "dolphins.readFile(\"dolphins.tsv\")"
   ]
  },
  {
   "cell_type": "markdown",
   "metadata": {},
   "source": [
    "Then we can use Bokeh to plot the network:"
   ]
  },
  {
   "cell_type": "code",
   "execution_count": 17,
   "metadata": {},
   "outputs": [
    {
     "data": {
      "text/html": [
       "\n",
       "    <div class=\"bk-root\">\n",
       "        <a href=\"https://bokeh.pydata.org\" target=\"_blank\" class=\"bk-logo bk-logo-small bk-logo-notebook\"></a>\n",
       "        <span id=\"72e79b7f-071d-4655-baab-b668dd42094d\">Loading BokehJS ...</span>\n",
       "    </div>"
      ]
     },
     "metadata": {},
     "output_type": "display_data"
    },
    {
     "data": {
      "application/javascript": [
       "\n",
       "(function(root) {\n",
       "  function now() {\n",
       "    return new Date();\n",
       "  }\n",
       "\n",
       "  var force = true;\n",
       "\n",
       "  if (typeof (root._bokeh_onload_callbacks) === \"undefined\" || force === true) {\n",
       "    root._bokeh_onload_callbacks = [];\n",
       "    root._bokeh_is_loading = undefined;\n",
       "  }\n",
       "\n",
       "  var JS_MIME_TYPE = 'application/javascript';\n",
       "  var HTML_MIME_TYPE = 'text/html';\n",
       "  var EXEC_MIME_TYPE = 'application/vnd.bokehjs_exec.v0+json';\n",
       "  var CLASS_NAME = 'output_bokeh rendered_html';\n",
       "\n",
       "  /**\n",
       "   * Render data to the DOM node\n",
       "   */\n",
       "  function render(props, node) {\n",
       "    var script = document.createElement(\"script\");\n",
       "    node.appendChild(script);\n",
       "  }\n",
       "\n",
       "  /**\n",
       "   * Handle when an output is cleared or removed\n",
       "   */\n",
       "  function handleClearOutput(event, handle) {\n",
       "    var cell = handle.cell;\n",
       "\n",
       "    var id = cell.output_area._bokeh_element_id;\n",
       "    var server_id = cell.output_area._bokeh_server_id;\n",
       "    // Clean up Bokeh references\n",
       "    if (id != null && id in Bokeh.index) {\n",
       "      Bokeh.index[id].model.document.clear();\n",
       "      delete Bokeh.index[id];\n",
       "    }\n",
       "\n",
       "    if (server_id !== undefined) {\n",
       "      // Clean up Bokeh references\n",
       "      var cmd = \"from bokeh.io.state import curstate; print(curstate().uuid_to_server['\" + server_id + \"'].get_sessions()[0].document.roots[0]._id)\";\n",
       "      cell.notebook.kernel.execute(cmd, {\n",
       "        iopub: {\n",
       "          output: function(msg) {\n",
       "            var id = msg.content.text.trim();\n",
       "            if (id in Bokeh.index) {\n",
       "              Bokeh.index[id].model.document.clear();\n",
       "              delete Bokeh.index[id];\n",
       "            }\n",
       "          }\n",
       "        }\n",
       "      });\n",
       "      // Destroy server and session\n",
       "      var cmd = \"import bokeh.io.notebook as ion; ion.destroy_server('\" + server_id + \"')\";\n",
       "      cell.notebook.kernel.execute(cmd);\n",
       "    }\n",
       "  }\n",
       "\n",
       "  /**\n",
       "   * Handle when a new output is added\n",
       "   */\n",
       "  function handleAddOutput(event, handle) {\n",
       "    var output_area = handle.output_area;\n",
       "    var output = handle.output;\n",
       "\n",
       "    // limit handleAddOutput to display_data with EXEC_MIME_TYPE content only\n",
       "    if ((output.output_type != \"display_data\") || (!output.data.hasOwnProperty(EXEC_MIME_TYPE))) {\n",
       "      return\n",
       "    }\n",
       "\n",
       "    var toinsert = output_area.element.find(\".\" + CLASS_NAME.split(' ')[0]);\n",
       "\n",
       "    if (output.metadata[EXEC_MIME_TYPE][\"id\"] !== undefined) {\n",
       "      toinsert[toinsert.length - 1].firstChild.textContent = output.data[JS_MIME_TYPE];\n",
       "      // store reference to embed id on output_area\n",
       "      output_area._bokeh_element_id = output.metadata[EXEC_MIME_TYPE][\"id\"];\n",
       "    }\n",
       "    if (output.metadata[EXEC_MIME_TYPE][\"server_id\"] !== undefined) {\n",
       "      var bk_div = document.createElement(\"div\");\n",
       "      bk_div.innerHTML = output.data[HTML_MIME_TYPE];\n",
       "      var script_attrs = bk_div.children[0].attributes;\n",
       "      for (var i = 0; i < script_attrs.length; i++) {\n",
       "        toinsert[toinsert.length - 1].firstChild.setAttribute(script_attrs[i].name, script_attrs[i].value);\n",
       "      }\n",
       "      // store reference to server id on output_area\n",
       "      output_area._bokeh_server_id = output.metadata[EXEC_MIME_TYPE][\"server_id\"];\n",
       "    }\n",
       "  }\n",
       "\n",
       "  function register_renderer(events, OutputArea) {\n",
       "\n",
       "    function append_mime(data, metadata, element) {\n",
       "      // create a DOM node to render to\n",
       "      var toinsert = this.create_output_subarea(\n",
       "        metadata,\n",
       "        CLASS_NAME,\n",
       "        EXEC_MIME_TYPE\n",
       "      );\n",
       "      this.keyboard_manager.register_events(toinsert);\n",
       "      // Render to node\n",
       "      var props = {data: data, metadata: metadata[EXEC_MIME_TYPE]};\n",
       "      render(props, toinsert[toinsert.length - 1]);\n",
       "      element.append(toinsert);\n",
       "      return toinsert\n",
       "    }\n",
       "\n",
       "    /* Handle when an output is cleared or removed */\n",
       "    events.on('clear_output.CodeCell', handleClearOutput);\n",
       "    events.on('delete.Cell', handleClearOutput);\n",
       "\n",
       "    /* Handle when a new output is added */\n",
       "    events.on('output_added.OutputArea', handleAddOutput);\n",
       "\n",
       "    /**\n",
       "     * Register the mime type and append_mime function with output_area\n",
       "     */\n",
       "    OutputArea.prototype.register_mime_type(EXEC_MIME_TYPE, append_mime, {\n",
       "      /* Is output safe? */\n",
       "      safe: true,\n",
       "      /* Index of renderer in `output_area.display_order` */\n",
       "      index: 0\n",
       "    });\n",
       "  }\n",
       "\n",
       "  // register the mime type if in Jupyter Notebook environment and previously unregistered\n",
       "  if (root.Jupyter !== undefined) {\n",
       "    var events = require('base/js/events');\n",
       "    var OutputArea = require('notebook/js/outputarea').OutputArea;\n",
       "\n",
       "    if (OutputArea.prototype.mime_types().indexOf(EXEC_MIME_TYPE) == -1) {\n",
       "      register_renderer(events, OutputArea);\n",
       "    }\n",
       "  }\n",
       "\n",
       "  \n",
       "  if (typeof (root._bokeh_timeout) === \"undefined\" || force === true) {\n",
       "    root._bokeh_timeout = Date.now() + 5000;\n",
       "    root._bokeh_failed_load = false;\n",
       "  }\n",
       "\n",
       "  var NB_LOAD_WARNING = {'data': {'text/html':\n",
       "     \"<div style='background-color: #fdd'>\\n\"+\n",
       "     \"<p>\\n\"+\n",
       "     \"BokehJS does not appear to have successfully loaded. If loading BokehJS from CDN, this \\n\"+\n",
       "     \"may be due to a slow or bad network connection. Possible fixes:\\n\"+\n",
       "     \"</p>\\n\"+\n",
       "     \"<ul>\\n\"+\n",
       "     \"<li>re-rerun `output_notebook()` to attempt to load from CDN again, or</li>\\n\"+\n",
       "     \"<li>use INLINE resources instead, as so:</li>\\n\"+\n",
       "     \"</ul>\\n\"+\n",
       "     \"<code>\\n\"+\n",
       "     \"from bokeh.resources import INLINE\\n\"+\n",
       "     \"output_notebook(resources=INLINE)\\n\"+\n",
       "     \"</code>\\n\"+\n",
       "     \"</div>\"}};\n",
       "\n",
       "  function display_loaded() {\n",
       "    var el = document.getElementById(\"72e79b7f-071d-4655-baab-b668dd42094d\");\n",
       "    if (el != null) {\n",
       "      el.textContent = \"BokehJS is loading...\";\n",
       "    }\n",
       "    if (root.Bokeh !== undefined) {\n",
       "      if (el != null) {\n",
       "        el.textContent = \"BokehJS \" + root.Bokeh.version + \" successfully loaded.\";\n",
       "      }\n",
       "    } else if (Date.now() < root._bokeh_timeout) {\n",
       "      setTimeout(display_loaded, 100)\n",
       "    }\n",
       "  }\n",
       "\n",
       "\n",
       "  function run_callbacks() {\n",
       "    try {\n",
       "      root._bokeh_onload_callbacks.forEach(function(callback) { callback() });\n",
       "    }\n",
       "    finally {\n",
       "      delete root._bokeh_onload_callbacks\n",
       "    }\n",
       "    console.info(\"Bokeh: all callbacks have finished\");\n",
       "  }\n",
       "\n",
       "  function load_libs(js_urls, callback) {\n",
       "    root._bokeh_onload_callbacks.push(callback);\n",
       "    if (root._bokeh_is_loading > 0) {\n",
       "      console.log(\"Bokeh: BokehJS is being loaded, scheduling callback at\", now());\n",
       "      return null;\n",
       "    }\n",
       "    if (js_urls == null || js_urls.length === 0) {\n",
       "      run_callbacks();\n",
       "      return null;\n",
       "    }\n",
       "    console.log(\"Bokeh: BokehJS not loaded, scheduling load and callback at\", now());\n",
       "    root._bokeh_is_loading = js_urls.length;\n",
       "    for (var i = 0; i < js_urls.length; i++) {\n",
       "      var url = js_urls[i];\n",
       "      var s = document.createElement('script');\n",
       "      s.src = url;\n",
       "      s.async = false;\n",
       "      s.onreadystatechange = s.onload = function() {\n",
       "        root._bokeh_is_loading--;\n",
       "        if (root._bokeh_is_loading === 0) {\n",
       "          console.log(\"Bokeh: all BokehJS libraries loaded\");\n",
       "          run_callbacks()\n",
       "        }\n",
       "      };\n",
       "      s.onerror = function() {\n",
       "        console.warn(\"failed to load library \" + url);\n",
       "      };\n",
       "      console.log(\"Bokeh: injecting script tag for BokehJS library: \", url);\n",
       "      document.getElementsByTagName(\"head\")[0].appendChild(s);\n",
       "    }\n",
       "  };var element = document.getElementById(\"72e79b7f-071d-4655-baab-b668dd42094d\");\n",
       "  if (element == null) {\n",
       "    console.log(\"Bokeh: ERROR: autoload.js configured with elementid '72e79b7f-071d-4655-baab-b668dd42094d' but no matching script tag was found. \")\n",
       "    return false;\n",
       "  }\n",
       "\n",
       "  var js_urls = [\"https://cdn.pydata.org/bokeh/release/bokeh-0.13.0.min.js\", \"https://cdn.pydata.org/bokeh/release/bokeh-widgets-0.13.0.min.js\", \"https://cdn.pydata.org/bokeh/release/bokeh-tables-0.13.0.min.js\", \"https://cdn.pydata.org/bokeh/release/bokeh-gl-0.13.0.min.js\"];\n",
       "\n",
       "  var inline_js = [\n",
       "    function(Bokeh) {\n",
       "      Bokeh.set_log_level(\"info\");\n",
       "    },\n",
       "    \n",
       "    function(Bokeh) {\n",
       "      \n",
       "    },\n",
       "    function(Bokeh) {\n",
       "      console.log(\"Bokeh: injecting CSS: https://cdn.pydata.org/bokeh/release/bokeh-0.13.0.min.css\");\n",
       "      Bokeh.embed.inject_css(\"https://cdn.pydata.org/bokeh/release/bokeh-0.13.0.min.css\");\n",
       "      console.log(\"Bokeh: injecting CSS: https://cdn.pydata.org/bokeh/release/bokeh-widgets-0.13.0.min.css\");\n",
       "      Bokeh.embed.inject_css(\"https://cdn.pydata.org/bokeh/release/bokeh-widgets-0.13.0.min.css\");\n",
       "      console.log(\"Bokeh: injecting CSS: https://cdn.pydata.org/bokeh/release/bokeh-tables-0.13.0.min.css\");\n",
       "      Bokeh.embed.inject_css(\"https://cdn.pydata.org/bokeh/release/bokeh-tables-0.13.0.min.css\");\n",
       "    }\n",
       "  ];\n",
       "\n",
       "  function run_inline_js() {\n",
       "    \n",
       "    if ((root.Bokeh !== undefined) || (force === true)) {\n",
       "      for (var i = 0; i < inline_js.length; i++) {\n",
       "        inline_js[i].call(root, root.Bokeh);\n",
       "      }if (force === true) {\n",
       "        display_loaded();\n",
       "      }} else if (Date.now() < root._bokeh_timeout) {\n",
       "      setTimeout(run_inline_js, 100);\n",
       "    } else if (!root._bokeh_failed_load) {\n",
       "      console.log(\"Bokeh: BokehJS failed to load within specified timeout.\");\n",
       "      root._bokeh_failed_load = true;\n",
       "    } else if (force !== true) {\n",
       "      var cell = $(document.getElementById(\"72e79b7f-071d-4655-baab-b668dd42094d\")).parents('.cell').data().cell;\n",
       "      cell.output_area.append_execute_result(NB_LOAD_WARNING)\n",
       "    }\n",
       "\n",
       "  }\n",
       "\n",
       "  if (root._bokeh_is_loading === 0) {\n",
       "    console.log(\"Bokeh: BokehJS loaded, going straight to plotting\");\n",
       "    run_inline_js();\n",
       "  } else {\n",
       "    load_libs(js_urls, function() {\n",
       "      console.log(\"Bokeh: BokehJS plotting callback run at\", now());\n",
       "      run_inline_js();\n",
       "    });\n",
       "  }\n",
       "}(window));"
      ],
      "application/vnd.bokehjs_load.v0+json": "\n(function(root) {\n  function now() {\n    return new Date();\n  }\n\n  var force = true;\n\n  if (typeof (root._bokeh_onload_callbacks) === \"undefined\" || force === true) {\n    root._bokeh_onload_callbacks = [];\n    root._bokeh_is_loading = undefined;\n  }\n\n  \n\n  \n  if (typeof (root._bokeh_timeout) === \"undefined\" || force === true) {\n    root._bokeh_timeout = Date.now() + 5000;\n    root._bokeh_failed_load = false;\n  }\n\n  var NB_LOAD_WARNING = {'data': {'text/html':\n     \"<div style='background-color: #fdd'>\\n\"+\n     \"<p>\\n\"+\n     \"BokehJS does not appear to have successfully loaded. If loading BokehJS from CDN, this \\n\"+\n     \"may be due to a slow or bad network connection. Possible fixes:\\n\"+\n     \"</p>\\n\"+\n     \"<ul>\\n\"+\n     \"<li>re-rerun `output_notebook()` to attempt to load from CDN again, or</li>\\n\"+\n     \"<li>use INLINE resources instead, as so:</li>\\n\"+\n     \"</ul>\\n\"+\n     \"<code>\\n\"+\n     \"from bokeh.resources import INLINE\\n\"+\n     \"output_notebook(resources=INLINE)\\n\"+\n     \"</code>\\n\"+\n     \"</div>\"}};\n\n  function display_loaded() {\n    var el = document.getElementById(\"72e79b7f-071d-4655-baab-b668dd42094d\");\n    if (el != null) {\n      el.textContent = \"BokehJS is loading...\";\n    }\n    if (root.Bokeh !== undefined) {\n      if (el != null) {\n        el.textContent = \"BokehJS \" + root.Bokeh.version + \" successfully loaded.\";\n      }\n    } else if (Date.now() < root._bokeh_timeout) {\n      setTimeout(display_loaded, 100)\n    }\n  }\n\n\n  function run_callbacks() {\n    try {\n      root._bokeh_onload_callbacks.forEach(function(callback) { callback() });\n    }\n    finally {\n      delete root._bokeh_onload_callbacks\n    }\n    console.info(\"Bokeh: all callbacks have finished\");\n  }\n\n  function load_libs(js_urls, callback) {\n    root._bokeh_onload_callbacks.push(callback);\n    if (root._bokeh_is_loading > 0) {\n      console.log(\"Bokeh: BokehJS is being loaded, scheduling callback at\", now());\n      return null;\n    }\n    if (js_urls == null || js_urls.length === 0) {\n      run_callbacks();\n      return null;\n    }\n    console.log(\"Bokeh: BokehJS not loaded, scheduling load and callback at\", now());\n    root._bokeh_is_loading = js_urls.length;\n    for (var i = 0; i < js_urls.length; i++) {\n      var url = js_urls[i];\n      var s = document.createElement('script');\n      s.src = url;\n      s.async = false;\n      s.onreadystatechange = s.onload = function() {\n        root._bokeh_is_loading--;\n        if (root._bokeh_is_loading === 0) {\n          console.log(\"Bokeh: all BokehJS libraries loaded\");\n          run_callbacks()\n        }\n      };\n      s.onerror = function() {\n        console.warn(\"failed to load library \" + url);\n      };\n      console.log(\"Bokeh: injecting script tag for BokehJS library: \", url);\n      document.getElementsByTagName(\"head\")[0].appendChild(s);\n    }\n  };var element = document.getElementById(\"72e79b7f-071d-4655-baab-b668dd42094d\");\n  if (element == null) {\n    console.log(\"Bokeh: ERROR: autoload.js configured with elementid '72e79b7f-071d-4655-baab-b668dd42094d' but no matching script tag was found. \")\n    return false;\n  }\n\n  var js_urls = [\"https://cdn.pydata.org/bokeh/release/bokeh-0.13.0.min.js\", \"https://cdn.pydata.org/bokeh/release/bokeh-widgets-0.13.0.min.js\", \"https://cdn.pydata.org/bokeh/release/bokeh-tables-0.13.0.min.js\", \"https://cdn.pydata.org/bokeh/release/bokeh-gl-0.13.0.min.js\"];\n\n  var inline_js = [\n    function(Bokeh) {\n      Bokeh.set_log_level(\"info\");\n    },\n    \n    function(Bokeh) {\n      \n    },\n    function(Bokeh) {\n      console.log(\"Bokeh: injecting CSS: https://cdn.pydata.org/bokeh/release/bokeh-0.13.0.min.css\");\n      Bokeh.embed.inject_css(\"https://cdn.pydata.org/bokeh/release/bokeh-0.13.0.min.css\");\n      console.log(\"Bokeh: injecting CSS: https://cdn.pydata.org/bokeh/release/bokeh-widgets-0.13.0.min.css\");\n      Bokeh.embed.inject_css(\"https://cdn.pydata.org/bokeh/release/bokeh-widgets-0.13.0.min.css\");\n      console.log(\"Bokeh: injecting CSS: https://cdn.pydata.org/bokeh/release/bokeh-tables-0.13.0.min.css\");\n      Bokeh.embed.inject_css(\"https://cdn.pydata.org/bokeh/release/bokeh-tables-0.13.0.min.css\");\n    }\n  ];\n\n  function run_inline_js() {\n    \n    if ((root.Bokeh !== undefined) || (force === true)) {\n      for (var i = 0; i < inline_js.length; i++) {\n        inline_js[i].call(root, root.Bokeh);\n      }if (force === true) {\n        display_loaded();\n      }} else if (Date.now() < root._bokeh_timeout) {\n      setTimeout(run_inline_js, 100);\n    } else if (!root._bokeh_failed_load) {\n      console.log(\"Bokeh: BokehJS failed to load within specified timeout.\");\n      root._bokeh_failed_load = true;\n    } else if (force !== true) {\n      var cell = $(document.getElementById(\"72e79b7f-071d-4655-baab-b668dd42094d\")).parents('.cell').data().cell;\n      cell.output_area.append_execute_result(NB_LOAD_WARNING)\n    }\n\n  }\n\n  if (root._bokeh_is_loading === 0) {\n    console.log(\"Bokeh: BokehJS loaded, going straight to plotting\");\n    run_inline_js();\n  } else {\n    load_libs(js_urls, function() {\n      console.log(\"Bokeh: BokehJS plotting callback run at\", now());\n      run_inline_js();\n    });\n  }\n}(window));"
     },
     "metadata": {},
     "output_type": "display_data"
    },
    {
     "data": {
      "text/html": [
       "\n",
       "\n",
       "\n",
       "\n",
       "\n",
       "\n",
       "  <div class=\"bk-root\" id=\"be74da4d-8c8c-4772-9964-3b3c23699e24\"></div>\n"
      ]
     },
     "metadata": {},
     "output_type": "display_data"
    },
    {
     "data": {
      "application/javascript": [
       "(function(root) {\n",
       "  function embed_document(root) {\n",
       "    \n",
       "  var docs_json = {\"a33eda86-71aa-4977-88bc-131dff1332e6\":{\"roots\":{\"references\":[{\"attributes\":{\"bottom_units\":\"screen\",\"fill_alpha\":{\"value\":0.5},\"fill_color\":{\"value\":\"lightgrey\"},\"left_units\":\"screen\",\"level\":\"overlay\",\"line_alpha\":{\"value\":1.0},\"line_color\":{\"value\":\"black\"},\"line_dash\":[4,4],\"line_width\":{\"value\":2},\"plot\":null,\"render_mode\":\"css\",\"right_units\":\"screen\",\"top_units\":\"screen\"},\"id\":\"112c8d1d-3ad9-4238-b618-ce43411bd769\",\"type\":\"BoxAnnotation\"},{\"attributes\":{\"plot\":null,\"text\":\"\"},\"id\":\"51f69ea0-4222-42c6-be34-74c5c348cb19\",\"type\":\"Title\"},{\"attributes\":{\"callback\":null,\"data\":{\"index\":[9,4,10,6,7,11,1,3,14,15,16,17,18,2,19,20,8,21,22,23,25,26,27,28,29,30,31,32,33,34,13,35,36,37,24,38,39,40,41,42,43,44,45,46,47,48,50,51,52,5,12,53,54,55,56,57,58,49,59,60,61,62]},\"selected\":{\"id\":\"bdb482c9-9a50-41c2-936a-c1cfc383fa92\",\"type\":\"Selection\"},\"selection_policy\":{\"id\":\"367c5573-20a9-4920-85dc-676334b8697b\",\"type\":\"UnionRenderers\"}},\"id\":\"7b95ed3f-725a-49e0-803b-8825e480e5d6\",\"type\":\"ColumnDataSource\"},{\"attributes\":{},\"id\":\"89571f3b-97db-4ef5-9c2b-637ce89fb2cd\",\"type\":\"HelpTool\"},{\"attributes\":{},\"id\":\"7049d994-d38c-431a-9682-bcf65871359f\",\"type\":\"Selection\"},{\"attributes\":{\"formatter\":{\"id\":\"011c7350-30b1-4771-abfa-dd12df1d6b15\",\"type\":\"BasicTickFormatter\"},\"plot\":{\"id\":\"85d6860c-b39a-4aa4-90ce-c40b3e157f6c\",\"subtype\":\"Figure\",\"type\":\"Plot\"},\"ticker\":{\"id\":\"4bd5573a-5649-4d36-ae60-9af73391b4c6\",\"type\":\"BasicTicker\"}},\"id\":\"97135653-399e-4cbf-b88d-2c19f9e4c42a\",\"type\":\"LinearAxis\"},{\"attributes\":{},\"id\":\"68ff2735-9030-47b6-9e21-b20ee35f488b\",\"type\":\"UnionRenderers\"},{\"attributes\":{\"plot\":{\"id\":\"85d6860c-b39a-4aa4-90ce-c40b3e157f6c\",\"subtype\":\"Figure\",\"type\":\"Plot\"},\"ticker\":{\"id\":\"4bd5573a-5649-4d36-ae60-9af73391b4c6\",\"type\":\"BasicTicker\"}},\"id\":\"e0076f99-9ab8-4ef0-be79-b93cd62c2b99\",\"type\":\"Grid\"},{\"attributes\":{\"formatter\":{\"id\":\"c3b1144f-39ee-40b7-8e6b-9244db1dc9e5\",\"type\":\"BasicTickFormatter\"},\"plot\":{\"id\":\"85d6860c-b39a-4aa4-90ce-c40b3e157f6c\",\"subtype\":\"Figure\",\"type\":\"Plot\"},\"ticker\":{\"id\":\"4ab34b25-7aca-4cf5-83ad-a153a1ac9196\",\"type\":\"BasicTicker\"}},\"id\":\"8ba13b77-5fba-4301-a7bf-d1ac6beefda0\",\"type\":\"LinearAxis\"},{\"attributes\":{},\"id\":\"367c5573-20a9-4920-85dc-676334b8697b\",\"type\":\"UnionRenderers\"},{\"attributes\":{\"dimension\":1,\"plot\":{\"id\":\"85d6860c-b39a-4aa4-90ce-c40b3e157f6c\",\"subtype\":\"Figure\",\"type\":\"Plot\"},\"ticker\":{\"id\":\"4ab34b25-7aca-4cf5-83ad-a153a1ac9196\",\"type\":\"BasicTicker\"}},\"id\":\"bf2b4ec8-e630-4687-9976-79a137ebdc12\",\"type\":\"Grid\"},{\"attributes\":{},\"id\":\"011c7350-30b1-4771-abfa-dd12df1d6b15\",\"type\":\"BasicTickFormatter\"},{\"attributes\":{},\"id\":\"4ab34b25-7aca-4cf5-83ad-a153a1ac9196\",\"type\":\"BasicTicker\"},{\"attributes\":{\"fill_color\":{\"value\":\"orange\"},\"size\":{\"units\":\"screen\",\"value\":10}},\"id\":\"664d7ce4-12e0-4489-91ca-d9b2e242ee82\",\"type\":\"Circle\"},{\"attributes\":{},\"id\":\"4bd5573a-5649-4d36-ae60-9af73391b4c6\",\"type\":\"BasicTicker\"},{\"attributes\":{\"active_drag\":\"auto\",\"active_inspect\":\"auto\",\"active_multi\":null,\"active_scroll\":\"auto\",\"active_tap\":\"auto\",\"tools\":[{\"id\":\"985321c9-2098-453f-9e0f-eee9d6b53f8b\",\"type\":\"PanTool\"},{\"id\":\"0a6c2a91-a67e-4cc5-a416-626e29bcb38c\",\"type\":\"WheelZoomTool\"},{\"id\":\"dde77286-31b5-4454-8dd7-227002d6c953\",\"type\":\"BoxZoomTool\"},{\"id\":\"de6721c0-e4c4-44ac-a679-2d1a2a74893d\",\"type\":\"SaveTool\"},{\"id\":\"6e19e343-d85c-4a3d-9ea0-cba2546c4479\",\"type\":\"ResetTool\"},{\"id\":\"89571f3b-97db-4ef5-9c2b-637ce89fb2cd\",\"type\":\"HelpTool\"}]},\"id\":\"b054756f-e86a-40bd-a15d-7cd0eea7062c\",\"type\":\"Toolbar\"},{\"attributes\":{\"callback\":null,\"data\":{\"end\":[4,21,29,38,46,60,15,60,6,7,14,18,33,42,58,14,57,58,14,18,55,57,58,1,3,30,43,48,15,16,41,43,48,43,45,62,18,33,42,55,58,17,25,34,35,38,39,41,44,51,53,19,25,41,46,56,60,21,34,38,39,51,2,23,26,28,32,58,20,27,28,29,37,42,55,21,22,25,30,46,52,8,31,55,28,31,41,55,29,37,39,45,48,51,30,34,38,46,52,30,46,52,27,28,28,31,48,36,44,46,52,53,43,48,61,13,35,38,39,41,44,51,38,45,50,24,38,40,41,60,46,52,41,44,46,62,44,45,53,59,58,53,55,58,48,51,47,54,51,52,60,50,52,5,12,56,62,58,49],\"start\":[9,9,9,9,9,9,4,4,10,10,10,10,10,10,10,6,6,6,7,7,7,7,7,11,11,11,11,11,1,1,1,1,1,3,3,3,14,14,14,14,14,15,15,15,15,15,15,15,15,15,15,16,16,16,16,16,16,17,17,17,17,17,18,18,18,18,18,18,2,2,2,2,2,2,2,19,19,19,19,19,19,20,20,20,8,8,8,8,21,21,21,21,21,21,22,22,22,22,22,25,25,25,26,26,27,29,29,30,30,30,30,30,31,31,33,34,34,34,34,34,34,34,35,35,35,37,37,37,37,37,24,24,38,38,38,38,39,39,39,39,40,41,42,42,43,43,44,44,46,46,46,47,51,52,52,52,54,55,58]},\"selected\":{\"id\":\"7049d994-d38c-431a-9682-bcf65871359f\",\"type\":\"Selection\"},\"selection_policy\":{\"id\":\"68ff2735-9030-47b6-9e21-b20ee35f488b\",\"type\":\"UnionRenderers\"}},\"id\":\"22b61254-83a6-4fbd-bc25-322df3c73641\",\"type\":\"ColumnDataSource\"},{\"attributes\":{\"source\":{\"id\":\"7b95ed3f-725a-49e0-803b-8825e480e5d6\",\"type\":\"ColumnDataSource\"}},\"id\":\"64a1adcb-ab37-4596-a514-f5ecb8a1a22a\",\"type\":\"CDSView\"},{\"attributes\":{},\"id\":\"7d981aca-7f78-4b12-9230-bb2cc01c0861\",\"type\":\"NodesOnly\"},{\"attributes\":{},\"id\":\"da02ecec-7a12-4df4-b3b4-90d0769a8edf\",\"type\":\"LinearScale\"},{\"attributes\":{},\"id\":\"de6721c0-e4c4-44ac-a679-2d1a2a74893d\",\"type\":\"SaveTool\"},{\"attributes\":{},\"id\":\"bdb482c9-9a50-41c2-936a-c1cfc383fa92\",\"type\":\"Selection\"},{\"attributes\":{\"edge_renderer\":{\"id\":\"36d10619-566e-4d3a-b581-b4a7d310e4ab\",\"type\":\"GlyphRenderer\"},\"inspection_policy\":{\"id\":\"7d981aca-7f78-4b12-9230-bb2cc01c0861\",\"type\":\"NodesOnly\"},\"layout_provider\":{\"id\":\"fdb68d48-4a2e-4673-8adf-43ffc4de8e2c\",\"type\":\"StaticLayoutProvider\"},\"node_renderer\":{\"id\":\"11eaca55-8b78-419f-9226-683ff188b90f\",\"type\":\"GlyphRenderer\"},\"selection_policy\":{\"id\":\"b1adf6d4-b5fb-4166-9387-0472e210c6bb\",\"type\":\"NodesOnly\"}},\"id\":\"a6824af6-4bd5-4105-af1e-f85f2e795cd5\",\"type\":\"GraphRenderer\"},{\"attributes\":{\"graph_layout\":{\"1\":[0.19513170388808318,0.3782067619102392],\"10\":[-0.2074347182767075,-1.461351620219481],\"11\":[0.38441349888122434,0.5161248146269055],\"12\":[-0.7510336732594,1.1799593668079715],\"13\":[-0.5156722473404024,0.8524345245057124],\"14\":[-0.1935437273538621,-1.3653711038159477],\"15\":[0.06878546348917988,0.6719089008713867],\"16\":[-0.27145899886750463,0.5868495398965091],\"17\":[-0.03765882315617372,0.5054662596294435],\"18\":[0.12987762991748453,-1.2964826302576724],\"19\":[-0.21292685488977395,0.7559346808000641],\"2\":[0.09192966811306352,-0.715790575990602],\"20\":[0.2345591730348339,-0.6286664206008163],\"21\":[0.0654156628748533,0.33373467518866895],\"22\":[-0.1277213141152794,0.9063396274414447],\"23\":[0.2752870248483746,-1.6982520408737716],\"24\":[-0.3797986400230262,0.3973118353207672],\"25\":[-0.23481411053825957,0.8775492264973024],\"26\":[0.3953773256593179,-1.2066348896830965],\"27\":[0.38812567831114236,-0.9849343889011033],\"28\":[0.23812340003749186,-0.9331917776105547],\"29\":[0.1634976840302483,-0.1332842895072748],\"3\":[0.6273630120163838,0.5584152664753252],\"30\":[-0.018044985948066295,0.9056558354901296],\"31\":[0.3470663555286067,-0.20433927529371593],\"32\":[0.412302170727837,-1.6081942034981178],\"33\":[-0.4778116650641426,-1.6987703851562923],\"34\":[-0.033945767251832286,0.7507924487411773],\"35\":[0.22633210749141566,0.9788480621447575],\"36\":[-0.04576103015982382,1.3850565513477249],\"37\":[-0.08071686982032432,-0.04078390633623877],\"38\":[0.1284779545273553,0.5769739392862655],\"39\":[-0.06655179126156606,0.6340664373159376],\"4\":[0.1459732549575326,0.42583995797461627],\"40\":[-0.19477515998552367,-0.6638380832281665],\"41\":[-0.02827537396214528,0.263202801462292],\"42\":[-0.11276563035603843,-1.1263283232289074],\"43\":[0.41209358739731233,0.2787271162350002],\"44\":[0.25801243650331873,0.9122439559785377],\"45\":[0.3202316462361325,0.6755849493278038],\"46\":[-0.1714974653395873,0.6345012628501306],\"47\":[0.5046782625105448,1.3066444424922543],\"48\":[0.3363933128966364,0.13033983970940013],\"49\":[-0.09571401714721878,-1.6753799861930179],\"5\":[-0.6088944118059401,1.3030098131275867],\"50\":[0.39759303188716305,1.4085694899600338],\"51\":[0.021725682953692458,0.5786755747453219],\"52\":[-0.37447685545168913,0.8920147473615773],\"53\":[-0.20122831650161813,0.5442865902479891],\"54\":[0.6486138077812189,1.059992260337248],\"55\":[0.0013878686297337135,-0.9844550856094642],\"56\":[-0.6031900058103381,0.9228985276132439],\"57\":[-0.19135619610927054,-1.8173804472224637],\"58\":[-0.14570534280072492,-1.2548325503978446],\"59\":[-0.5756754317288959,0.5539756452772528],\"6\":[-0.2823919706293958,-1.5906703819720982],\"60\":[-0.16659969387280543,0.2944565579720011],\"61\":[-0.7201142172373024,-1.9999999999999998],\"62\":[0.5900832764285923,0.7979516514294435],\"7\":[-0.05739450539828617,-1.4366546301751442],\"8\":[0.11728393385369981,-0.4558507794246293],\"9\":[0.05881419605045314,0.2468938367969631]}},\"id\":\"fdb68d48-4a2e-4673-8adf-43ffc4de8e2c\",\"type\":\"StaticLayoutProvider\"},{\"attributes\":{},\"id\":\"6e19e343-d85c-4a3d-9ea0-cba2546c4479\",\"type\":\"ResetTool\"},{\"attributes\":{\"callback\":null,\"end\":2,\"start\":-2},\"id\":\"01177be8-cdd6-4389-8529-90867c20fc04\",\"type\":\"Range1d\"},{\"attributes\":{},\"id\":\"985321c9-2098-453f-9e0f-eee9d6b53f8b\",\"type\":\"PanTool\"},{\"attributes\":{\"source\":{\"id\":\"22b61254-83a6-4fbd-bc25-322df3c73641\",\"type\":\"ColumnDataSource\"}},\"id\":\"d00a3111-9cec-4359-ac5b-7ce2d3d95df8\",\"type\":\"CDSView\"},{\"attributes\":{\"overlay\":{\"id\":\"112c8d1d-3ad9-4238-b618-ce43411bd769\",\"type\":\"BoxAnnotation\"}},\"id\":\"dde77286-31b5-4454-8dd7-227002d6c953\",\"type\":\"BoxZoomTool\"},{\"attributes\":{},\"id\":\"81027001-a142-4960-9e27-cde0e547049c\",\"type\":\"MultiLine\"},{\"attributes\":{\"data_source\":{\"id\":\"22b61254-83a6-4fbd-bc25-322df3c73641\",\"type\":\"ColumnDataSource\"},\"glyph\":{\"id\":\"81027001-a142-4960-9e27-cde0e547049c\",\"type\":\"MultiLine\"},\"hover_glyph\":null,\"muted_glyph\":null,\"view\":{\"id\":\"d00a3111-9cec-4359-ac5b-7ce2d3d95df8\",\"type\":\"CDSView\"}},\"id\":\"36d10619-566e-4d3a-b581-b4a7d310e4ab\",\"type\":\"GlyphRenderer\"},{\"attributes\":{},\"id\":\"b1adf6d4-b5fb-4166-9387-0472e210c6bb\",\"type\":\"NodesOnly\"},{\"attributes\":{},\"id\":\"20ccf744-d923-4851-9a0a-60fe65ccd436\",\"type\":\"LinearScale\"},{\"attributes\":{},\"id\":\"c3b1144f-39ee-40b7-8e6b-9244db1dc9e5\",\"type\":\"BasicTickFormatter\"},{\"attributes\":{},\"id\":\"0a6c2a91-a67e-4cc5-a416-626e29bcb38c\",\"type\":\"WheelZoomTool\"},{\"attributes\":{\"callback\":null,\"end\":2,\"start\":-2},\"id\":\"564f4c26-15b7-4e4a-a0b5-08a58e55ccd6\",\"type\":\"Range1d\"},{\"attributes\":{\"below\":[{\"id\":\"97135653-399e-4cbf-b88d-2c19f9e4c42a\",\"type\":\"LinearAxis\"}],\"left\":[{\"id\":\"8ba13b77-5fba-4301-a7bf-d1ac6beefda0\",\"type\":\"LinearAxis\"}],\"plot_height\":400,\"plot_width\":400,\"renderers\":[{\"id\":\"97135653-399e-4cbf-b88d-2c19f9e4c42a\",\"type\":\"LinearAxis\"},{\"id\":\"e0076f99-9ab8-4ef0-be79-b93cd62c2b99\",\"type\":\"Grid\"},{\"id\":\"8ba13b77-5fba-4301-a7bf-d1ac6beefda0\",\"type\":\"LinearAxis\"},{\"id\":\"bf2b4ec8-e630-4687-9976-79a137ebdc12\",\"type\":\"Grid\"},{\"id\":\"112c8d1d-3ad9-4238-b618-ce43411bd769\",\"type\":\"BoxAnnotation\"},{\"id\":\"a6824af6-4bd5-4105-af1e-f85f2e795cd5\",\"type\":\"GraphRenderer\"}],\"title\":{\"id\":\"51f69ea0-4222-42c6-be34-74c5c348cb19\",\"type\":\"Title\"},\"toolbar\":{\"id\":\"b054756f-e86a-40bd-a15d-7cd0eea7062c\",\"type\":\"Toolbar\"},\"x_range\":{\"id\":\"564f4c26-15b7-4e4a-a0b5-08a58e55ccd6\",\"type\":\"Range1d\"},\"x_scale\":{\"id\":\"da02ecec-7a12-4df4-b3b4-90d0769a8edf\",\"type\":\"LinearScale\"},\"y_range\":{\"id\":\"01177be8-cdd6-4389-8529-90867c20fc04\",\"type\":\"Range1d\"},\"y_scale\":{\"id\":\"20ccf744-d923-4851-9a0a-60fe65ccd436\",\"type\":\"LinearScale\"}},\"id\":\"85d6860c-b39a-4aa4-90ce-c40b3e157f6c\",\"subtype\":\"Figure\",\"type\":\"Plot\"},{\"attributes\":{\"data_source\":{\"id\":\"7b95ed3f-725a-49e0-803b-8825e480e5d6\",\"type\":\"ColumnDataSource\"},\"glyph\":{\"id\":\"664d7ce4-12e0-4489-91ca-d9b2e242ee82\",\"type\":\"Circle\"},\"hover_glyph\":null,\"muted_glyph\":null,\"view\":{\"id\":\"64a1adcb-ab37-4596-a514-f5ecb8a1a22a\",\"type\":\"CDSView\"}},\"id\":\"11eaca55-8b78-419f-9226-683ff188b90f\",\"type\":\"GlyphRenderer\"}],\"root_ids\":[\"85d6860c-b39a-4aa4-90ce-c40b3e157f6c\"]},\"title\":\"Bokeh Application\",\"version\":\"0.13.0\"}};\n",
       "  var render_items = [{\"docid\":\"a33eda86-71aa-4977-88bc-131dff1332e6\",\"roots\":{\"85d6860c-b39a-4aa4-90ce-c40b3e157f6c\":\"be74da4d-8c8c-4772-9964-3b3c23699e24\"}}];\n",
       "  root.Bokeh.embed.embed_items_notebook(docs_json, render_items);\n",
       "\n",
       "  }\n",
       "  if (root.Bokeh !== undefined) {\n",
       "    embed_document(root);\n",
       "  } else {\n",
       "    var attempts = 0;\n",
       "    var timer = setInterval(function(root) {\n",
       "      if (root.Bokeh !== undefined) {\n",
       "        embed_document(root);\n",
       "        clearInterval(timer);\n",
       "      }\n",
       "      attempts++;\n",
       "      if (attempts > 100) {\n",
       "        console.log(\"Bokeh: ERROR: Unable to run BokehJS code because BokehJS library is missing\")\n",
       "        clearInterval(timer);\n",
       "      }\n",
       "    }, 10, root)\n",
       "  }\n",
       "})(window);"
      ],
      "application/vnd.bokehjs_exec.v0+json": ""
     },
     "metadata": {
      "application/vnd.bokehjs_exec.v0+json": {
       "id": "85d6860c-b39a-4aa4-90ce-c40b3e157f6c"
      }
     },
     "output_type": "display_data"
    }
   ],
   "source": [
    "from bokeh.io import show, output_notebook\n",
    "from bokeh.plotting import figure\n",
    "from bokeh.models.graphs import from_networkx\n",
    "output_notebook()\n",
    "\n",
    "dolphins_nx=dolphins.toNetworkX()\n",
    "\n",
    "plot = figure(plot_width=400, plot_height=400,x_range=(-2,2), y_range=(-2,2))\n",
    "\n",
    "graph = from_networkx(dolphins_nx, nx.spring_layout, scale=2, center=(0,0))\n",
    "graph.node_renderer.glyph.update(size=10, fill_color=\"orange\")\n",
    "plot.renderers.append(graph)\n",
    "show(plot)"
   ]
  }
 ],
 "metadata": {
  "kernelspec": {
   "display_name": "Python 3",
   "language": "python",
   "name": "python3"
  },
  "language_info": {
   "codemirror_mode": {
    "name": "ipython",
    "version": 3
   },
   "file_extension": ".py",
   "mimetype": "text/x-python",
   "name": "python",
   "nbconvert_exporter": "python",
   "pygments_lexer": "ipython3",
   "version": "3.6.7"
  }
 },
 "nbformat": 4,
 "nbformat_minor": 2
}
