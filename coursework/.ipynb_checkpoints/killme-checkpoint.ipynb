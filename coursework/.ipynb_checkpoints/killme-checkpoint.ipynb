{
 "cells": [
  {
   "cell_type": "code",
   "execution_count": 53,
   "metadata": {},
   "outputs": [
    {
     "name": "stdout",
     "output_type": "stream",
     "text": [
      "Python 3.7.0\r\n"
     ]
    }
   ],
   "source": [
    "!python -V\n",
    "%matplotlib inline"
   ]
  },
  {
   "cell_type": "code",
   "execution_count": 54,
   "metadata": {},
   "outputs": [],
   "source": [
    "import pandas as pd\n",
    "import numpy as np\n",
    "import matplotlib.pyplot as plt\n",
    "from pprint import pprint\n",
    "from sklearn.preprocessing import StandardScaler"
   ]
  },
  {
   "cell_type": "markdown",
   "metadata": {},
   "source": [
    "Read data from the csv"
   ]
  },
  {
   "cell_type": "code",
   "execution_count": 55,
   "metadata": {},
   "outputs": [],
   "source": [
    "bike_df = pd.read_csv('data/metro.csv')"
   ]
  },
  {
   "cell_type": "markdown",
   "metadata": {},
   "source": [
    "# Exploratory Data Analysis\n",
    "Check for any columns with null fields"
   ]
  },
  {
   "cell_type": "code",
   "execution_count": 56,
   "metadata": {},
   "outputs": [
    {
     "data": {
      "text/plain": [
       "trip_id                False\n",
       "duration               False\n",
       "start_time             False\n",
       "end_time               False\n",
       "start_station          False\n",
       "start_lat               True\n",
       "start_lon               True\n",
       "end_station            False\n",
       "end_lat                 True\n",
       "end_lon                 True\n",
       "bike_id                False\n",
       "plan_duration          False\n",
       "trip_route_category    False\n",
       "passholder_type        False\n",
       "dtype: bool"
      ]
     },
     "execution_count": 56,
     "metadata": {},
     "output_type": "execute_result"
    }
   ],
   "source": [
    "bike_df.isnull().any()"
   ]
  },
  {
   "cell_type": "markdown",
   "metadata": {},
   "source": [
    "Only latitudes and longitudes may contain null values. Station IDs may be able to give us the latitude.\n",
    "From the data description, the station ID of 3000 is a virtual station used for maintenance etc. Below checks which station IDs are associated with null lat/long values"
   ]
  },
  {
   "cell_type": "code",
   "execution_count": 57,
   "metadata": {},
   "outputs": [
    {
     "data": {
      "text/html": [
       "<div>\n",
       "<style scoped>\n",
       "    .dataframe tbody tr th:only-of-type {\n",
       "        vertical-align: middle;\n",
       "    }\n",
       "\n",
       "    .dataframe tbody tr th {\n",
       "        vertical-align: top;\n",
       "    }\n",
       "\n",
       "    .dataframe thead th {\n",
       "        text-align: right;\n",
       "    }\n",
       "</style>\n",
       "<table border=\"1\" class=\"dataframe\">\n",
       "  <thead>\n",
       "    <tr style=\"text-align: right;\">\n",
       "      <th></th>\n",
       "      <th>duration</th>\n",
       "      <th>trip_id</th>\n",
       "      <th>start_station</th>\n",
       "      <th>end_station</th>\n",
       "    </tr>\n",
       "  </thead>\n",
       "  <tbody>\n",
       "    <tr>\n",
       "      <th>duration</th>\n",
       "      <td>1.000000</td>\n",
       "      <td>0.025259</td>\n",
       "      <td>0.111915</td>\n",
       "      <td>0.063256</td>\n",
       "    </tr>\n",
       "    <tr>\n",
       "      <th>trip_id</th>\n",
       "      <td>0.025259</td>\n",
       "      <td>1.000000</td>\n",
       "      <td>-0.099280</td>\n",
       "      <td>-0.099632</td>\n",
       "    </tr>\n",
       "    <tr>\n",
       "      <th>start_station</th>\n",
       "      <td>0.111915</td>\n",
       "      <td>-0.099280</td>\n",
       "      <td>1.000000</td>\n",
       "      <td>0.919653</td>\n",
       "    </tr>\n",
       "    <tr>\n",
       "      <th>end_station</th>\n",
       "      <td>0.063256</td>\n",
       "      <td>-0.099632</td>\n",
       "      <td>0.919653</td>\n",
       "      <td>1.000000</td>\n",
       "    </tr>\n",
       "  </tbody>\n",
       "</table>\n",
       "</div>"
      ],
      "text/plain": [
       "               duration   trip_id  start_station  end_station\n",
       "duration       1.000000  0.025259       0.111915     0.063256\n",
       "trip_id        0.025259  1.000000      -0.099280    -0.099632\n",
       "start_station  0.111915 -0.099280       1.000000     0.919653\n",
       "end_station    0.063256 -0.099632       0.919653     1.000000"
      ]
     },
     "execution_count": 57,
     "metadata": {},
     "output_type": "execute_result"
    }
   ],
   "source": [
    "bike_df[['duration', 'trip_id', 'start_station', 'end_station']].corr()"
   ]
  },
  {
   "cell_type": "code",
   "execution_count": 58,
   "metadata": {},
   "outputs": [
    {
     "name": "stdout",
     "output_type": "stream",
     "text": [
      "[(3000.0, None, None)]\n"
     ]
    }
   ],
   "source": [
    "s = list()\n",
    "bike_df[bike_df['start_lat'].isnull() | bike_df['start_lon'].isnull() | bike_df['end_lat'].isnull() | bike_df['end_lon'].isnull()][['start_station', 'start_lat', 'start_lon', 'end_station', 'end_lat', 'end_lon']].apply(lambda x: (s.append((x['start_station'], x['start_lat'], x['start_lon'])), s.append((x['end_station'], x['end_lat'], x['end_lon']))), axis=1);\n",
    "s = set(map(lambda x: (x[0], None if pd.isnull(x[1]) else x[1], None if pd.isnull(x[2]) else x[2]), s))\n",
    "s_lat_long_NaN = list(filter(lambda x: True if (x[1] is None and x[2] is None) else False, s))\n",
    "print(s_lat_long_NaN)\n"
   ]
  },
  {
   "cell_type": "markdown",
   "metadata": {},
   "source": [
    "As can be seen above, station 3000 is the only station where lat and lon are null. Depending on the analysis being made it may be wise to remove these from the dataset as they are non-standard values (unless the goal is to try and classify these!). The distribution of duration associated with these trips is far higher than standard (proof below in the 'Distribution of duration' section)"
   ]
  },
  {
   "cell_type": "code",
   "execution_count": 59,
   "metadata": {},
   "outputs": [
    {
     "data": {
      "text/html": [
       "<div>\n",
       "<style scoped>\n",
       "    .dataframe tbody tr th:only-of-type {\n",
       "        vertical-align: middle;\n",
       "    }\n",
       "\n",
       "    .dataframe tbody tr th {\n",
       "        vertical-align: top;\n",
       "    }\n",
       "\n",
       "    .dataframe thead th {\n",
       "        text-align: right;\n",
       "    }\n",
       "</style>\n",
       "<table border=\"1\" class=\"dataframe\">\n",
       "  <thead>\n",
       "    <tr style=\"text-align: right;\">\n",
       "      <th></th>\n",
       "      <th>trip_id</th>\n",
       "      <th>duration</th>\n",
       "      <th>start_time</th>\n",
       "      <th>end_time</th>\n",
       "      <th>start_station</th>\n",
       "      <th>start_lat</th>\n",
       "      <th>start_lon</th>\n",
       "      <th>end_station</th>\n",
       "      <th>end_lat</th>\n",
       "      <th>end_lon</th>\n",
       "      <th>bike_id</th>\n",
       "      <th>plan_duration</th>\n",
       "      <th>trip_route_category</th>\n",
       "      <th>passholder_type</th>\n",
       "    </tr>\n",
       "  </thead>\n",
       "  <tbody>\n",
       "    <tr>\n",
       "      <th>0</th>\n",
       "      <td>94851140</td>\n",
       "      <td>8</td>\n",
       "      <td>2018-07-01 00:04:00</td>\n",
       "      <td>2018-07-01 00:12:00</td>\n",
       "      <td>3058</td>\n",
       "      <td>34.035801</td>\n",
       "      <td>-118.233170</td>\n",
       "      <td>3082</td>\n",
       "      <td>34.046520</td>\n",
       "      <td>-118.237411</td>\n",
       "      <td>6279</td>\n",
       "      <td>30</td>\n",
       "      <td>One Way</td>\n",
       "      <td>Monthly Pass</td>\n",
       "    </tr>\n",
       "    <tr>\n",
       "      <th>1</th>\n",
       "      <td>94851141</td>\n",
       "      <td>8</td>\n",
       "      <td>2018-07-01 00:04:00</td>\n",
       "      <td>2018-07-01 00:12:00</td>\n",
       "      <td>3058</td>\n",
       "      <td>34.035801</td>\n",
       "      <td>-118.233170</td>\n",
       "      <td>3082</td>\n",
       "      <td>34.046520</td>\n",
       "      <td>-118.237411</td>\n",
       "      <td>6518</td>\n",
       "      <td>365</td>\n",
       "      <td>One Way</td>\n",
       "      <td>Flex Pass</td>\n",
       "    </tr>\n",
       "    <tr>\n",
       "      <th>2</th>\n",
       "      <td>94851138</td>\n",
       "      <td>15</td>\n",
       "      <td>2018-07-01 00:09:00</td>\n",
       "      <td>2018-07-01 00:24:00</td>\n",
       "      <td>4147</td>\n",
       "      <td>34.145248</td>\n",
       "      <td>-118.150070</td>\n",
       "      <td>4174</td>\n",
       "      <td>34.165291</td>\n",
       "      <td>-118.150970</td>\n",
       "      <td>4823</td>\n",
       "      <td>365</td>\n",
       "      <td>One Way</td>\n",
       "      <td>Monthly Pass</td>\n",
       "    </tr>\n",
       "    <tr>\n",
       "      <th>3</th>\n",
       "      <td>94851137</td>\n",
       "      <td>7</td>\n",
       "      <td>2018-07-01 00:22:00</td>\n",
       "      <td>2018-07-01 00:29:00</td>\n",
       "      <td>4157</td>\n",
       "      <td>34.140999</td>\n",
       "      <td>-118.132088</td>\n",
       "      <td>4162</td>\n",
       "      <td>34.147499</td>\n",
       "      <td>-118.148010</td>\n",
       "      <td>6115</td>\n",
       "      <td>30</td>\n",
       "      <td>One Way</td>\n",
       "      <td>Monthly Pass</td>\n",
       "    </tr>\n",
       "    <tr>\n",
       "      <th>4</th>\n",
       "      <td>94851136</td>\n",
       "      <td>35</td>\n",
       "      <td>2018-07-01 00:23:00</td>\n",
       "      <td>2018-07-01 00:58:00</td>\n",
       "      <td>3013</td>\n",
       "      <td>33.779819</td>\n",
       "      <td>-118.263023</td>\n",
       "      <td>3013</td>\n",
       "      <td>33.779819</td>\n",
       "      <td>-118.263023</td>\n",
       "      <td>12055</td>\n",
       "      <td>1</td>\n",
       "      <td>Round Trip</td>\n",
       "      <td>Walk-up</td>\n",
       "    </tr>\n",
       "    <tr>\n",
       "      <th>5</th>\n",
       "      <td>94851135</td>\n",
       "      <td>6</td>\n",
       "      <td>2018-07-01 00:38:00</td>\n",
       "      <td>2018-07-01 00:44:00</td>\n",
       "      <td>3029</td>\n",
       "      <td>34.048851</td>\n",
       "      <td>-118.246422</td>\n",
       "      <td>3082</td>\n",
       "      <td>34.046520</td>\n",
       "      <td>-118.237411</td>\n",
       "      <td>6370</td>\n",
       "      <td>1</td>\n",
       "      <td>One Way</td>\n",
       "      <td>Walk-up</td>\n",
       "    </tr>\n",
       "    <tr>\n",
       "      <th>6</th>\n",
       "      <td>94851134</td>\n",
       "      <td>5</td>\n",
       "      <td>2018-07-01 00:39:00</td>\n",
       "      <td>2018-07-01 00:44:00</td>\n",
       "      <td>3029</td>\n",
       "      <td>34.048851</td>\n",
       "      <td>-118.246422</td>\n",
       "      <td>3082</td>\n",
       "      <td>34.046520</td>\n",
       "      <td>-118.237411</td>\n",
       "      <td>6566</td>\n",
       "      <td>1</td>\n",
       "      <td>One Way</td>\n",
       "      <td>Walk-up</td>\n",
       "    </tr>\n",
       "    <tr>\n",
       "      <th>7</th>\n",
       "      <td>94857739</td>\n",
       "      <td>33</td>\n",
       "      <td>2018-07-01 00:40:00</td>\n",
       "      <td>2018-07-01 01:13:00</td>\n",
       "      <td>3069</td>\n",
       "      <td>34.050880</td>\n",
       "      <td>-118.248253</td>\n",
       "      <td>3075</td>\n",
       "      <td>34.042110</td>\n",
       "      <td>-118.256187</td>\n",
       "      <td>6407</td>\n",
       "      <td>1</td>\n",
       "      <td>One Way</td>\n",
       "      <td>Walk-up</td>\n",
       "    </tr>\n",
       "    <tr>\n",
       "      <th>8</th>\n",
       "      <td>94851133</td>\n",
       "      <td>6</td>\n",
       "      <td>2018-07-01 00:44:00</td>\n",
       "      <td>2018-07-01 00:50:00</td>\n",
       "      <td>3067</td>\n",
       "      <td>34.045181</td>\n",
       "      <td>-118.250237</td>\n",
       "      <td>3062</td>\n",
       "      <td>34.047749</td>\n",
       "      <td>-118.243172</td>\n",
       "      <td>5859</td>\n",
       "      <td>30</td>\n",
       "      <td>One Way</td>\n",
       "      <td>Monthly Pass</td>\n",
       "    </tr>\n",
       "    <tr>\n",
       "      <th>9</th>\n",
       "      <td>94851132</td>\n",
       "      <td>3</td>\n",
       "      <td>2018-07-01 00:46:00</td>\n",
       "      <td>2018-07-01 00:49:00</td>\n",
       "      <td>3034</td>\n",
       "      <td>34.042061</td>\n",
       "      <td>-118.263382</td>\n",
       "      <td>3074</td>\n",
       "      <td>34.044170</td>\n",
       "      <td>-118.261169</td>\n",
       "      <td>6562</td>\n",
       "      <td>30</td>\n",
       "      <td>One Way</td>\n",
       "      <td>Monthly Pass</td>\n",
       "    </tr>\n",
       "    <tr>\n",
       "      <th>10</th>\n",
       "      <td>94851130</td>\n",
       "      <td>7</td>\n",
       "      <td>2018-07-01 00:49:00</td>\n",
       "      <td>2018-07-01 00:56:00</td>\n",
       "      <td>3008</td>\n",
       "      <td>34.046612</td>\n",
       "      <td>-118.262733</td>\n",
       "      <td>3049</td>\n",
       "      <td>34.056969</td>\n",
       "      <td>-118.253593</td>\n",
       "      <td>12411</td>\n",
       "      <td>1</td>\n",
       "      <td>One Way</td>\n",
       "      <td>One Day Pass</td>\n",
       "    </tr>\n",
       "    <tr>\n",
       "      <th>11</th>\n",
       "      <td>94851131</td>\n",
       "      <td>7</td>\n",
       "      <td>2018-07-01 00:49:00</td>\n",
       "      <td>2018-07-01 00:56:00</td>\n",
       "      <td>3008</td>\n",
       "      <td>34.046612</td>\n",
       "      <td>-118.262733</td>\n",
       "      <td>3049</td>\n",
       "      <td>34.056969</td>\n",
       "      <td>-118.253593</td>\n",
       "      <td>12025</td>\n",
       "      <td>1</td>\n",
       "      <td>One Way</td>\n",
       "      <td>One Day Pass</td>\n",
       "    </tr>\n",
       "    <tr>\n",
       "      <th>12</th>\n",
       "      <td>94857733</td>\n",
       "      <td>19</td>\n",
       "      <td>2018-07-01 00:51:00</td>\n",
       "      <td>2018-07-01 01:10:00</td>\n",
       "      <td>4147</td>\n",
       "      <td>34.145248</td>\n",
       "      <td>-118.150070</td>\n",
       "      <td>4163</td>\n",
       "      <td>34.150471</td>\n",
       "      <td>-118.132019</td>\n",
       "      <td>6671</td>\n",
       "      <td>1</td>\n",
       "      <td>One Way</td>\n",
       "      <td>Walk-up</td>\n",
       "    </tr>\n",
       "    <tr>\n",
       "      <th>13</th>\n",
       "      <td>94857734</td>\n",
       "      <td>19</td>\n",
       "      <td>2018-07-01 00:51:00</td>\n",
       "      <td>2018-07-01 01:10:00</td>\n",
       "      <td>4147</td>\n",
       "      <td>34.145248</td>\n",
       "      <td>-118.150070</td>\n",
       "      <td>4163</td>\n",
       "      <td>34.150471</td>\n",
       "      <td>-118.132019</td>\n",
       "      <td>5824</td>\n",
       "      <td>1</td>\n",
       "      <td>One Way</td>\n",
       "      <td>Walk-up</td>\n",
       "    </tr>\n",
       "    <tr>\n",
       "      <th>14</th>\n",
       "      <td>94857732</td>\n",
       "      <td>16</td>\n",
       "      <td>2018-07-01 01:10:00</td>\n",
       "      <td>2018-07-01 01:26:00</td>\n",
       "      <td>3022</td>\n",
       "      <td>34.046070</td>\n",
       "      <td>-118.233093</td>\n",
       "      <td>3078</td>\n",
       "      <td>34.064281</td>\n",
       "      <td>-118.238937</td>\n",
       "      <td>6404</td>\n",
       "      <td>30</td>\n",
       "      <td>One Way</td>\n",
       "      <td>Monthly Pass</td>\n",
       "    </tr>\n",
       "    <tr>\n",
       "      <th>15</th>\n",
       "      <td>94857731</td>\n",
       "      <td>2</td>\n",
       "      <td>2018-07-01 01:29:00</td>\n",
       "      <td>2018-07-01 01:31:00</td>\n",
       "      <td>3064</td>\n",
       "      <td>34.046810</td>\n",
       "      <td>-118.256981</td>\n",
       "      <td>3031</td>\n",
       "      <td>34.044701</td>\n",
       "      <td>-118.252441</td>\n",
       "      <td>12091</td>\n",
       "      <td>30</td>\n",
       "      <td>One Way</td>\n",
       "      <td>Monthly Pass</td>\n",
       "    </tr>\n",
       "    <tr>\n",
       "      <th>16</th>\n",
       "      <td>94857730</td>\n",
       "      <td>21</td>\n",
       "      <td>2018-07-01 01:32:00</td>\n",
       "      <td>2018-07-01 01:53:00</td>\n",
       "      <td>4159</td>\n",
       "      <td>34.145901</td>\n",
       "      <td>-118.116539</td>\n",
       "      <td>4163</td>\n",
       "      <td>34.150471</td>\n",
       "      <td>-118.132019</td>\n",
       "      <td>5742</td>\n",
       "      <td>1</td>\n",
       "      <td>One Way</td>\n",
       "      <td>Walk-up</td>\n",
       "    </tr>\n",
       "    <tr>\n",
       "      <th>17</th>\n",
       "      <td>94897462</td>\n",
       "      <td>383</td>\n",
       "      <td>2018-07-01 01:35:00</td>\n",
       "      <td>2018-07-01 07:58:00</td>\n",
       "      <td>3063</td>\n",
       "      <td>34.048038</td>\n",
       "      <td>-118.253738</td>\n",
       "      <td>3038</td>\n",
       "      <td>34.046822</td>\n",
       "      <td>-118.248352</td>\n",
       "      <td>6137</td>\n",
       "      <td>30</td>\n",
       "      <td>One Way</td>\n",
       "      <td>Monthly Pass</td>\n",
       "    </tr>\n",
       "    <tr>\n",
       "      <th>18</th>\n",
       "      <td>94864344</td>\n",
       "      <td>17</td>\n",
       "      <td>2018-07-01 01:47:00</td>\n",
       "      <td>2018-07-01 02:04:00</td>\n",
       "      <td>3067</td>\n",
       "      <td>34.045181</td>\n",
       "      <td>-118.250237</td>\n",
       "      <td>3066</td>\n",
       "      <td>34.063389</td>\n",
       "      <td>-118.236160</td>\n",
       "      <td>5787</td>\n",
       "      <td>1</td>\n",
       "      <td>One Way</td>\n",
       "      <td>Walk-up</td>\n",
       "    </tr>\n",
       "    <tr>\n",
       "      <th>19</th>\n",
       "      <td>94864345</td>\n",
       "      <td>17</td>\n",
       "      <td>2018-07-01 01:47:00</td>\n",
       "      <td>2018-07-01 02:04:00</td>\n",
       "      <td>3067</td>\n",
       "      <td>34.045181</td>\n",
       "      <td>-118.250237</td>\n",
       "      <td>3066</td>\n",
       "      <td>34.063389</td>\n",
       "      <td>-118.236160</td>\n",
       "      <td>5936</td>\n",
       "      <td>1</td>\n",
       "      <td>One Way</td>\n",
       "      <td>Walk-up</td>\n",
       "    </tr>\n",
       "    <tr>\n",
       "      <th>20</th>\n",
       "      <td>94864343</td>\n",
       "      <td>16</td>\n",
       "      <td>2018-07-01 01:48:00</td>\n",
       "      <td>2018-07-01 02:04:00</td>\n",
       "      <td>3067</td>\n",
       "      <td>34.045181</td>\n",
       "      <td>-118.250237</td>\n",
       "      <td>3066</td>\n",
       "      <td>34.063389</td>\n",
       "      <td>-118.236160</td>\n",
       "      <td>6535</td>\n",
       "      <td>1</td>\n",
       "      <td>One Way</td>\n",
       "      <td>Walk-up</td>\n",
       "    </tr>\n",
       "    <tr>\n",
       "      <th>21</th>\n",
       "      <td>94864342</td>\n",
       "      <td>15</td>\n",
       "      <td>2018-07-01 01:49:00</td>\n",
       "      <td>2018-07-01 02:04:00</td>\n",
       "      <td>3067</td>\n",
       "      <td>34.045181</td>\n",
       "      <td>-118.250237</td>\n",
       "      <td>3066</td>\n",
       "      <td>34.063389</td>\n",
       "      <td>-118.236160</td>\n",
       "      <td>6613</td>\n",
       "      <td>1</td>\n",
       "      <td>One Way</td>\n",
       "      <td>Walk-up</td>\n",
       "    </tr>\n",
       "    <tr>\n",
       "      <th>22</th>\n",
       "      <td>94864341</td>\n",
       "      <td>12</td>\n",
       "      <td>2018-07-01 01:51:00</td>\n",
       "      <td>2018-07-01 02:03:00</td>\n",
       "      <td>3051</td>\n",
       "      <td>34.045422</td>\n",
       "      <td>-118.253517</td>\n",
       "      <td>3052</td>\n",
       "      <td>34.051102</td>\n",
       "      <td>-118.264557</td>\n",
       "      <td>5782</td>\n",
       "      <td>1</td>\n",
       "      <td>One Way</td>\n",
       "      <td>Walk-up</td>\n",
       "    </tr>\n",
       "    <tr>\n",
       "      <th>23</th>\n",
       "      <td>94857729</td>\n",
       "      <td>2</td>\n",
       "      <td>2018-07-01 01:52:00</td>\n",
       "      <td>2018-07-01 01:54:00</td>\n",
       "      <td>3051</td>\n",
       "      <td>34.045422</td>\n",
       "      <td>-118.253517</td>\n",
       "      <td>3051</td>\n",
       "      <td>34.045422</td>\n",
       "      <td>-118.253517</td>\n",
       "      <td>5972</td>\n",
       "      <td>1</td>\n",
       "      <td>Round Trip</td>\n",
       "      <td>Walk-up</td>\n",
       "    </tr>\n",
       "    <tr>\n",
       "      <th>24</th>\n",
       "      <td>94924451</td>\n",
       "      <td>591</td>\n",
       "      <td>2018-07-01 02:01:00</td>\n",
       "      <td>2018-07-01 11:52:00</td>\n",
       "      <td>4142</td>\n",
       "      <td>34.144588</td>\n",
       "      <td>-118.144592</td>\n",
       "      <td>4151</td>\n",
       "      <td>34.142361</td>\n",
       "      <td>-118.141510</td>\n",
       "      <td>5839</td>\n",
       "      <td>1</td>\n",
       "      <td>One Way</td>\n",
       "      <td>Walk-up</td>\n",
       "    </tr>\n",
       "    <tr>\n",
       "      <th>25</th>\n",
       "      <td>94864339</td>\n",
       "      <td>8</td>\n",
       "      <td>2018-07-01 02:03:00</td>\n",
       "      <td>2018-07-01 02:11:00</td>\n",
       "      <td>4138</td>\n",
       "      <td>34.145691</td>\n",
       "      <td>-118.148239</td>\n",
       "      <td>4183</td>\n",
       "      <td>34.146069</td>\n",
       "      <td>-118.129181</td>\n",
       "      <td>12454</td>\n",
       "      <td>1</td>\n",
       "      <td>One Way</td>\n",
       "      <td>Walk-up</td>\n",
       "    </tr>\n",
       "    <tr>\n",
       "      <th>26</th>\n",
       "      <td>94864337</td>\n",
       "      <td>10</td>\n",
       "      <td>2018-07-01 02:09:00</td>\n",
       "      <td>2018-07-01 02:19:00</td>\n",
       "      <td>3007</td>\n",
       "      <td>34.050480</td>\n",
       "      <td>-118.254593</td>\n",
       "      <td>3082</td>\n",
       "      <td>34.046520</td>\n",
       "      <td>-118.237411</td>\n",
       "      <td>12006</td>\n",
       "      <td>30</td>\n",
       "      <td>One Way</td>\n",
       "      <td>Monthly Pass</td>\n",
       "    </tr>\n",
       "    <tr>\n",
       "      <th>27</th>\n",
       "      <td>94864338</td>\n",
       "      <td>7</td>\n",
       "      <td>2018-07-01 02:09:00</td>\n",
       "      <td>2018-07-01 02:16:00</td>\n",
       "      <td>4215</td>\n",
       "      <td>34.014309</td>\n",
       "      <td>-118.491341</td>\n",
       "      <td>4215</td>\n",
       "      <td>34.014309</td>\n",
       "      <td>-118.491341</td>\n",
       "      <td>12039</td>\n",
       "      <td>1</td>\n",
       "      <td>Round Trip</td>\n",
       "      <td>One Day Pass</td>\n",
       "    </tr>\n",
       "    <tr>\n",
       "      <th>28</th>\n",
       "      <td>94864335</td>\n",
       "      <td>24</td>\n",
       "      <td>2018-07-01 02:20:00</td>\n",
       "      <td>2018-07-01 02:44:00</td>\n",
       "      <td>4215</td>\n",
       "      <td>34.014309</td>\n",
       "      <td>-118.491341</td>\n",
       "      <td>4208</td>\n",
       "      <td>33.998680</td>\n",
       "      <td>-118.472977</td>\n",
       "      <td>12039</td>\n",
       "      <td>1</td>\n",
       "      <td>One Way</td>\n",
       "      <td>One Day Pass</td>\n",
       "    </tr>\n",
       "    <tr>\n",
       "      <th>29</th>\n",
       "      <td>94864336</td>\n",
       "      <td>6</td>\n",
       "      <td>2018-07-01 02:20:00</td>\n",
       "      <td>2018-07-01 02:26:00</td>\n",
       "      <td>3008</td>\n",
       "      <td>34.046612</td>\n",
       "      <td>-118.262733</td>\n",
       "      <td>3031</td>\n",
       "      <td>34.044701</td>\n",
       "      <td>-118.252441</td>\n",
       "      <td>12383</td>\n",
       "      <td>30</td>\n",
       "      <td>One Way</td>\n",
       "      <td>Monthly Pass</td>\n",
       "    </tr>\n",
       "    <tr>\n",
       "      <th>...</th>\n",
       "      <td>...</td>\n",
       "      <td>...</td>\n",
       "      <td>...</td>\n",
       "      <td>...</td>\n",
       "      <td>...</td>\n",
       "      <td>...</td>\n",
       "      <td>...</td>\n",
       "      <td>...</td>\n",
       "      <td>...</td>\n",
       "      <td>...</td>\n",
       "      <td>...</td>\n",
       "      <td>...</td>\n",
       "      <td>...</td>\n",
       "      <td>...</td>\n",
       "    </tr>\n",
       "    <tr>\n",
       "      <th>95253</th>\n",
       "      <td>106411249</td>\n",
       "      <td>5</td>\n",
       "      <td>2018-09-30 22:23:00</td>\n",
       "      <td>2018-09-30 22:28:00</td>\n",
       "      <td>3049</td>\n",
       "      <td>34.056969</td>\n",
       "      <td>-118.253593</td>\n",
       "      <td>3007</td>\n",
       "      <td>34.050480</td>\n",
       "      <td>-118.254593</td>\n",
       "      <td>12330</td>\n",
       "      <td>30</td>\n",
       "      <td>One Way</td>\n",
       "      <td>Monthly Pass</td>\n",
       "    </tr>\n",
       "    <tr>\n",
       "      <th>95254</th>\n",
       "      <td>106469958</td>\n",
       "      <td>691</td>\n",
       "      <td>2018-09-30 22:24:00</td>\n",
       "      <td>2018-10-01 09:55:00</td>\n",
       "      <td>3029</td>\n",
       "      <td>34.048851</td>\n",
       "      <td>-118.246422</td>\n",
       "      <td>3029</td>\n",
       "      <td>34.048851</td>\n",
       "      <td>-118.246422</td>\n",
       "      <td>12163</td>\n",
       "      <td>1</td>\n",
       "      <td>Round Trip</td>\n",
       "      <td>Walk-up</td>\n",
       "    </tr>\n",
       "    <tr>\n",
       "      <th>95255</th>\n",
       "      <td>106411248</td>\n",
       "      <td>28</td>\n",
       "      <td>2018-09-30 22:25:00</td>\n",
       "      <td>2018-09-30 22:53:00</td>\n",
       "      <td>3067</td>\n",
       "      <td>34.045181</td>\n",
       "      <td>-118.250237</td>\n",
       "      <td>3051</td>\n",
       "      <td>34.045422</td>\n",
       "      <td>-118.253517</td>\n",
       "      <td>6278</td>\n",
       "      <td>30</td>\n",
       "      <td>One Way</td>\n",
       "      <td>Monthly Pass</td>\n",
       "    </tr>\n",
       "    <tr>\n",
       "      <th>95256</th>\n",
       "      <td>106411247</td>\n",
       "      <td>4</td>\n",
       "      <td>2018-09-30 22:34:00</td>\n",
       "      <td>2018-09-30 22:38:00</td>\n",
       "      <td>3046</td>\n",
       "      <td>34.052872</td>\n",
       "      <td>-118.247490</td>\n",
       "      <td>3067</td>\n",
       "      <td>34.045181</td>\n",
       "      <td>-118.250237</td>\n",
       "      <td>12062</td>\n",
       "      <td>1</td>\n",
       "      <td>One Way</td>\n",
       "      <td>Walk-up</td>\n",
       "    </tr>\n",
       "    <tr>\n",
       "      <th>95257</th>\n",
       "      <td>106411246</td>\n",
       "      <td>24</td>\n",
       "      <td>2018-09-30 22:35:00</td>\n",
       "      <td>2018-09-30 22:59:00</td>\n",
       "      <td>3045</td>\n",
       "      <td>34.028511</td>\n",
       "      <td>-118.256668</td>\n",
       "      <td>3054</td>\n",
       "      <td>34.039219</td>\n",
       "      <td>-118.236488</td>\n",
       "      <td>5752</td>\n",
       "      <td>30</td>\n",
       "      <td>One Way</td>\n",
       "      <td>Monthly Pass</td>\n",
       "    </tr>\n",
       "    <tr>\n",
       "      <th>95258</th>\n",
       "      <td>106411245</td>\n",
       "      <td>5</td>\n",
       "      <td>2018-09-30 22:40:00</td>\n",
       "      <td>2018-09-30 22:45:00</td>\n",
       "      <td>3068</td>\n",
       "      <td>34.053200</td>\n",
       "      <td>-118.250954</td>\n",
       "      <td>3024</td>\n",
       "      <td>34.057720</td>\n",
       "      <td>-118.248970</td>\n",
       "      <td>6547</td>\n",
       "      <td>30</td>\n",
       "      <td>One Way</td>\n",
       "      <td>Monthly Pass</td>\n",
       "    </tr>\n",
       "    <tr>\n",
       "      <th>95259</th>\n",
       "      <td>106411244</td>\n",
       "      <td>10</td>\n",
       "      <td>2018-09-30 22:41:00</td>\n",
       "      <td>2018-09-30 22:51:00</td>\n",
       "      <td>4249</td>\n",
       "      <td>34.020302</td>\n",
       "      <td>-118.281181</td>\n",
       "      <td>4246</td>\n",
       "      <td>34.023708</td>\n",
       "      <td>-118.279167</td>\n",
       "      <td>6375</td>\n",
       "      <td>1</td>\n",
       "      <td>One Way</td>\n",
       "      <td>Walk-up</td>\n",
       "    </tr>\n",
       "    <tr>\n",
       "      <th>95260</th>\n",
       "      <td>106411243</td>\n",
       "      <td>5</td>\n",
       "      <td>2018-09-30 22:45:00</td>\n",
       "      <td>2018-09-30 22:50:00</td>\n",
       "      <td>4249</td>\n",
       "      <td>34.020302</td>\n",
       "      <td>-118.281181</td>\n",
       "      <td>4246</td>\n",
       "      <td>34.023708</td>\n",
       "      <td>-118.279167</td>\n",
       "      <td>12064</td>\n",
       "      <td>1</td>\n",
       "      <td>One Way</td>\n",
       "      <td>Walk-up</td>\n",
       "    </tr>\n",
       "    <tr>\n",
       "      <th>95261</th>\n",
       "      <td>106411469</td>\n",
       "      <td>78</td>\n",
       "      <td>2018-09-30 22:45:00</td>\n",
       "      <td>2018-10-01 00:03:00</td>\n",
       "      <td>4210</td>\n",
       "      <td>33.984341</td>\n",
       "      <td>-118.471550</td>\n",
       "      <td>4210</td>\n",
       "      <td>33.984341</td>\n",
       "      <td>-118.471550</td>\n",
       "      <td>12424</td>\n",
       "      <td>1</td>\n",
       "      <td>Round Trip</td>\n",
       "      <td>One Day Pass</td>\n",
       "    </tr>\n",
       "    <tr>\n",
       "      <th>95262</th>\n",
       "      <td>106411242</td>\n",
       "      <td>6</td>\n",
       "      <td>2018-09-30 22:46:00</td>\n",
       "      <td>2018-09-30 22:52:00</td>\n",
       "      <td>3035</td>\n",
       "      <td>34.048401</td>\n",
       "      <td>-118.260948</td>\n",
       "      <td>3063</td>\n",
       "      <td>34.048038</td>\n",
       "      <td>-118.253738</td>\n",
       "      <td>5868</td>\n",
       "      <td>30</td>\n",
       "      <td>One Way</td>\n",
       "      <td>Monthly Pass</td>\n",
       "    </tr>\n",
       "    <tr>\n",
       "      <th>95263</th>\n",
       "      <td>106411241</td>\n",
       "      <td>37</td>\n",
       "      <td>2018-09-30 22:49:00</td>\n",
       "      <td>2018-09-30 23:26:00</td>\n",
       "      <td>3067</td>\n",
       "      <td>34.045181</td>\n",
       "      <td>-118.250237</td>\n",
       "      <td>3063</td>\n",
       "      <td>34.048038</td>\n",
       "      <td>-118.253738</td>\n",
       "      <td>6073</td>\n",
       "      <td>30</td>\n",
       "      <td>One Way</td>\n",
       "      <td>Monthly Pass</td>\n",
       "    </tr>\n",
       "    <tr>\n",
       "      <th>95264</th>\n",
       "      <td>106411240</td>\n",
       "      <td>11</td>\n",
       "      <td>2018-09-30 22:53:00</td>\n",
       "      <td>2018-09-30 23:04:00</td>\n",
       "      <td>3032</td>\n",
       "      <td>34.049889</td>\n",
       "      <td>-118.255882</td>\n",
       "      <td>3026</td>\n",
       "      <td>34.063179</td>\n",
       "      <td>-118.245880</td>\n",
       "      <td>6121</td>\n",
       "      <td>30</td>\n",
       "      <td>One Way</td>\n",
       "      <td>Monthly Pass</td>\n",
       "    </tr>\n",
       "    <tr>\n",
       "      <th>95265</th>\n",
       "      <td>106411239</td>\n",
       "      <td>3</td>\n",
       "      <td>2018-09-30 22:54:00</td>\n",
       "      <td>2018-09-30 22:57:00</td>\n",
       "      <td>3051</td>\n",
       "      <td>34.045422</td>\n",
       "      <td>-118.253517</td>\n",
       "      <td>3067</td>\n",
       "      <td>34.045181</td>\n",
       "      <td>-118.250237</td>\n",
       "      <td>6278</td>\n",
       "      <td>30</td>\n",
       "      <td>One Way</td>\n",
       "      <td>Monthly Pass</td>\n",
       "    </tr>\n",
       "    <tr>\n",
       "      <th>95266</th>\n",
       "      <td>106411238</td>\n",
       "      <td>54</td>\n",
       "      <td>2018-09-30 22:56:00</td>\n",
       "      <td>2018-09-30 23:50:00</td>\n",
       "      <td>4214</td>\n",
       "      <td>33.995560</td>\n",
       "      <td>-118.481552</td>\n",
       "      <td>4214</td>\n",
       "      <td>33.995560</td>\n",
       "      <td>-118.481552</td>\n",
       "      <td>12280</td>\n",
       "      <td>1</td>\n",
       "      <td>Round Trip</td>\n",
       "      <td>Walk-up</td>\n",
       "    </tr>\n",
       "    <tr>\n",
       "      <th>95267</th>\n",
       "      <td>106411237</td>\n",
       "      <td>13</td>\n",
       "      <td>2018-09-30 22:57:00</td>\n",
       "      <td>2018-09-30 23:10:00</td>\n",
       "      <td>3046</td>\n",
       "      <td>34.052872</td>\n",
       "      <td>-118.247490</td>\n",
       "      <td>3048</td>\n",
       "      <td>34.041691</td>\n",
       "      <td>-118.235352</td>\n",
       "      <td>6458</td>\n",
       "      <td>30</td>\n",
       "      <td>One Way</td>\n",
       "      <td>Monthly Pass</td>\n",
       "    </tr>\n",
       "    <tr>\n",
       "      <th>95268</th>\n",
       "      <td>106411236</td>\n",
       "      <td>8</td>\n",
       "      <td>2018-09-30 22:58:00</td>\n",
       "      <td>2018-09-30 23:06:00</td>\n",
       "      <td>3068</td>\n",
       "      <td>34.053200</td>\n",
       "      <td>-118.250954</td>\n",
       "      <td>3034</td>\n",
       "      <td>34.042061</td>\n",
       "      <td>-118.263382</td>\n",
       "      <td>5974</td>\n",
       "      <td>30</td>\n",
       "      <td>One Way</td>\n",
       "      <td>Monthly Pass</td>\n",
       "    </tr>\n",
       "    <tr>\n",
       "      <th>95269</th>\n",
       "      <td>106411235</td>\n",
       "      <td>10</td>\n",
       "      <td>2018-09-30 23:00:00</td>\n",
       "      <td>2018-09-30 23:10:00</td>\n",
       "      <td>3054</td>\n",
       "      <td>34.039219</td>\n",
       "      <td>-118.236488</td>\n",
       "      <td>3022</td>\n",
       "      <td>34.046070</td>\n",
       "      <td>-118.233093</td>\n",
       "      <td>5752</td>\n",
       "      <td>30</td>\n",
       "      <td>One Way</td>\n",
       "      <td>Monthly Pass</td>\n",
       "    </tr>\n",
       "    <tr>\n",
       "      <th>95270</th>\n",
       "      <td>106411234</td>\n",
       "      <td>51</td>\n",
       "      <td>2018-09-30 23:04:00</td>\n",
       "      <td>2018-09-30 23:55:00</td>\n",
       "      <td>4220</td>\n",
       "      <td>34.074829</td>\n",
       "      <td>-118.258728</td>\n",
       "      <td>3076</td>\n",
       "      <td>34.040600</td>\n",
       "      <td>-118.253838</td>\n",
       "      <td>5935</td>\n",
       "      <td>1</td>\n",
       "      <td>One Way</td>\n",
       "      <td>Walk-up</td>\n",
       "    </tr>\n",
       "    <tr>\n",
       "      <th>95271</th>\n",
       "      <td>106411233</td>\n",
       "      <td>30</td>\n",
       "      <td>2018-09-30 23:11:00</td>\n",
       "      <td>2018-09-30 23:41:00</td>\n",
       "      <td>3022</td>\n",
       "      <td>34.046070</td>\n",
       "      <td>-118.233093</td>\n",
       "      <td>3038</td>\n",
       "      <td>34.046822</td>\n",
       "      <td>-118.248352</td>\n",
       "      <td>5752</td>\n",
       "      <td>30</td>\n",
       "      <td>One Way</td>\n",
       "      <td>Monthly Pass</td>\n",
       "    </tr>\n",
       "    <tr>\n",
       "      <th>95272</th>\n",
       "      <td>106411232</td>\n",
       "      <td>15</td>\n",
       "      <td>2018-09-30 23:14:00</td>\n",
       "      <td>2018-09-30 23:29:00</td>\n",
       "      <td>3036</td>\n",
       "      <td>34.039188</td>\n",
       "      <td>-118.232529</td>\n",
       "      <td>3063</td>\n",
       "      <td>34.048038</td>\n",
       "      <td>-118.253738</td>\n",
       "      <td>6508</td>\n",
       "      <td>1</td>\n",
       "      <td>One Way</td>\n",
       "      <td>Walk-up</td>\n",
       "    </tr>\n",
       "    <tr>\n",
       "      <th>95273</th>\n",
       "      <td>106411231</td>\n",
       "      <td>14</td>\n",
       "      <td>2018-09-30 23:15:00</td>\n",
       "      <td>2018-09-30 23:29:00</td>\n",
       "      <td>3036</td>\n",
       "      <td>34.039188</td>\n",
       "      <td>-118.232529</td>\n",
       "      <td>3063</td>\n",
       "      <td>34.048038</td>\n",
       "      <td>-118.253738</td>\n",
       "      <td>11967</td>\n",
       "      <td>1</td>\n",
       "      <td>One Way</td>\n",
       "      <td>Walk-up</td>\n",
       "    </tr>\n",
       "    <tr>\n",
       "      <th>95274</th>\n",
       "      <td>106411685</td>\n",
       "      <td>34</td>\n",
       "      <td>2018-09-30 23:34:00</td>\n",
       "      <td>2018-10-01 00:08:00</td>\n",
       "      <td>3051</td>\n",
       "      <td>34.045422</td>\n",
       "      <td>-118.253517</td>\n",
       "      <td>3051</td>\n",
       "      <td>34.045422</td>\n",
       "      <td>-118.253517</td>\n",
       "      <td>11977</td>\n",
       "      <td>1</td>\n",
       "      <td>Round Trip</td>\n",
       "      <td>Walk-up</td>\n",
       "    </tr>\n",
       "    <tr>\n",
       "      <th>95275</th>\n",
       "      <td>106411684</td>\n",
       "      <td>31</td>\n",
       "      <td>2018-09-30 23:36:00</td>\n",
       "      <td>2018-10-01 00:07:00</td>\n",
       "      <td>3051</td>\n",
       "      <td>34.045422</td>\n",
       "      <td>-118.253517</td>\n",
       "      <td>3051</td>\n",
       "      <td>34.045422</td>\n",
       "      <td>-118.253517</td>\n",
       "      <td>6728</td>\n",
       "      <td>1</td>\n",
       "      <td>Round Trip</td>\n",
       "      <td>Walk-up</td>\n",
       "    </tr>\n",
       "    <tr>\n",
       "      <th>95276</th>\n",
       "      <td>106412144</td>\n",
       "      <td>40</td>\n",
       "      <td>2018-09-30 23:36:00</td>\n",
       "      <td>2018-10-01 00:16:00</td>\n",
       "      <td>3069</td>\n",
       "      <td>34.050880</td>\n",
       "      <td>-118.248253</td>\n",
       "      <td>3069</td>\n",
       "      <td>34.050880</td>\n",
       "      <td>-118.248253</td>\n",
       "      <td>6255</td>\n",
       "      <td>1</td>\n",
       "      <td>Round Trip</td>\n",
       "      <td>Walk-up</td>\n",
       "    </tr>\n",
       "    <tr>\n",
       "      <th>95277</th>\n",
       "      <td>106411230</td>\n",
       "      <td>12</td>\n",
       "      <td>2018-09-30 23:41:00</td>\n",
       "      <td>2018-09-30 23:53:00</td>\n",
       "      <td>3026</td>\n",
       "      <td>34.063179</td>\n",
       "      <td>-118.245880</td>\n",
       "      <td>3029</td>\n",
       "      <td>34.048851</td>\n",
       "      <td>-118.246422</td>\n",
       "      <td>6103</td>\n",
       "      <td>1</td>\n",
       "      <td>One Way</td>\n",
       "      <td>Walk-up</td>\n",
       "    </tr>\n",
       "    <tr>\n",
       "      <th>95278</th>\n",
       "      <td>106412141</td>\n",
       "      <td>30</td>\n",
       "      <td>2018-09-30 23:47:00</td>\n",
       "      <td>2018-10-01 00:17:00</td>\n",
       "      <td>3038</td>\n",
       "      <td>34.046822</td>\n",
       "      <td>-118.248352</td>\n",
       "      <td>3038</td>\n",
       "      <td>34.046822</td>\n",
       "      <td>-118.248352</td>\n",
       "      <td>6258</td>\n",
       "      <td>1</td>\n",
       "      <td>Round Trip</td>\n",
       "      <td>Walk-up</td>\n",
       "    </tr>\n",
       "    <tr>\n",
       "      <th>95279</th>\n",
       "      <td>106411454</td>\n",
       "      <td>10</td>\n",
       "      <td>2018-09-30 23:52:00</td>\n",
       "      <td>2018-10-01 00:02:00</td>\n",
       "      <td>3035</td>\n",
       "      <td>34.048401</td>\n",
       "      <td>-118.260948</td>\n",
       "      <td>3074</td>\n",
       "      <td>34.044170</td>\n",
       "      <td>-118.261169</td>\n",
       "      <td>5931</td>\n",
       "      <td>30</td>\n",
       "      <td>One Way</td>\n",
       "      <td>Monthly Pass</td>\n",
       "    </tr>\n",
       "    <tr>\n",
       "      <th>95280</th>\n",
       "      <td>106411455</td>\n",
       "      <td>11</td>\n",
       "      <td>2018-09-30 23:52:00</td>\n",
       "      <td>2018-10-01 00:03:00</td>\n",
       "      <td>3024</td>\n",
       "      <td>34.057720</td>\n",
       "      <td>-118.248970</td>\n",
       "      <td>3055</td>\n",
       "      <td>34.044159</td>\n",
       "      <td>-118.251579</td>\n",
       "      <td>6100</td>\n",
       "      <td>30</td>\n",
       "      <td>One Way</td>\n",
       "      <td>Monthly Pass</td>\n",
       "    </tr>\n",
       "    <tr>\n",
       "      <th>95281</th>\n",
       "      <td>106411453</td>\n",
       "      <td>9</td>\n",
       "      <td>2018-09-30 23:54:00</td>\n",
       "      <td>2018-10-01 00:03:00</td>\n",
       "      <td>3008</td>\n",
       "      <td>34.046612</td>\n",
       "      <td>-118.262733</td>\n",
       "      <td>3052</td>\n",
       "      <td>34.051102</td>\n",
       "      <td>-118.264557</td>\n",
       "      <td>5879</td>\n",
       "      <td>1</td>\n",
       "      <td>One Way</td>\n",
       "      <td>Walk-up</td>\n",
       "    </tr>\n",
       "    <tr>\n",
       "      <th>95282</th>\n",
       "      <td>106411452</td>\n",
       "      <td>7</td>\n",
       "      <td>2018-09-30 23:57:00</td>\n",
       "      <td>2018-10-01 00:04:00</td>\n",
       "      <td>3026</td>\n",
       "      <td>34.063179</td>\n",
       "      <td>-118.245880</td>\n",
       "      <td>3049</td>\n",
       "      <td>34.056969</td>\n",
       "      <td>-118.253593</td>\n",
       "      <td>6121</td>\n",
       "      <td>30</td>\n",
       "      <td>One Way</td>\n",
       "      <td>Monthly Pass</td>\n",
       "    </tr>\n",
       "  </tbody>\n",
       "</table>\n",
       "<p>93199 rows × 14 columns</p>\n",
       "</div>"
      ],
      "text/plain": [
       "         trip_id  duration           start_time             end_time  \\\n",
       "0       94851140         8  2018-07-01 00:04:00  2018-07-01 00:12:00   \n",
       "1       94851141         8  2018-07-01 00:04:00  2018-07-01 00:12:00   \n",
       "2       94851138        15  2018-07-01 00:09:00  2018-07-01 00:24:00   \n",
       "3       94851137         7  2018-07-01 00:22:00  2018-07-01 00:29:00   \n",
       "4       94851136        35  2018-07-01 00:23:00  2018-07-01 00:58:00   \n",
       "5       94851135         6  2018-07-01 00:38:00  2018-07-01 00:44:00   \n",
       "6       94851134         5  2018-07-01 00:39:00  2018-07-01 00:44:00   \n",
       "7       94857739        33  2018-07-01 00:40:00  2018-07-01 01:13:00   \n",
       "8       94851133         6  2018-07-01 00:44:00  2018-07-01 00:50:00   \n",
       "9       94851132         3  2018-07-01 00:46:00  2018-07-01 00:49:00   \n",
       "10      94851130         7  2018-07-01 00:49:00  2018-07-01 00:56:00   \n",
       "11      94851131         7  2018-07-01 00:49:00  2018-07-01 00:56:00   \n",
       "12      94857733        19  2018-07-01 00:51:00  2018-07-01 01:10:00   \n",
       "13      94857734        19  2018-07-01 00:51:00  2018-07-01 01:10:00   \n",
       "14      94857732        16  2018-07-01 01:10:00  2018-07-01 01:26:00   \n",
       "15      94857731         2  2018-07-01 01:29:00  2018-07-01 01:31:00   \n",
       "16      94857730        21  2018-07-01 01:32:00  2018-07-01 01:53:00   \n",
       "17      94897462       383  2018-07-01 01:35:00  2018-07-01 07:58:00   \n",
       "18      94864344        17  2018-07-01 01:47:00  2018-07-01 02:04:00   \n",
       "19      94864345        17  2018-07-01 01:47:00  2018-07-01 02:04:00   \n",
       "20      94864343        16  2018-07-01 01:48:00  2018-07-01 02:04:00   \n",
       "21      94864342        15  2018-07-01 01:49:00  2018-07-01 02:04:00   \n",
       "22      94864341        12  2018-07-01 01:51:00  2018-07-01 02:03:00   \n",
       "23      94857729         2  2018-07-01 01:52:00  2018-07-01 01:54:00   \n",
       "24      94924451       591  2018-07-01 02:01:00  2018-07-01 11:52:00   \n",
       "25      94864339         8  2018-07-01 02:03:00  2018-07-01 02:11:00   \n",
       "26      94864337        10  2018-07-01 02:09:00  2018-07-01 02:19:00   \n",
       "27      94864338         7  2018-07-01 02:09:00  2018-07-01 02:16:00   \n",
       "28      94864335        24  2018-07-01 02:20:00  2018-07-01 02:44:00   \n",
       "29      94864336         6  2018-07-01 02:20:00  2018-07-01 02:26:00   \n",
       "...          ...       ...                  ...                  ...   \n",
       "95253  106411249         5  2018-09-30 22:23:00  2018-09-30 22:28:00   \n",
       "95254  106469958       691  2018-09-30 22:24:00  2018-10-01 09:55:00   \n",
       "95255  106411248        28  2018-09-30 22:25:00  2018-09-30 22:53:00   \n",
       "95256  106411247         4  2018-09-30 22:34:00  2018-09-30 22:38:00   \n",
       "95257  106411246        24  2018-09-30 22:35:00  2018-09-30 22:59:00   \n",
       "95258  106411245         5  2018-09-30 22:40:00  2018-09-30 22:45:00   \n",
       "95259  106411244        10  2018-09-30 22:41:00  2018-09-30 22:51:00   \n",
       "95260  106411243         5  2018-09-30 22:45:00  2018-09-30 22:50:00   \n",
       "95261  106411469        78  2018-09-30 22:45:00  2018-10-01 00:03:00   \n",
       "95262  106411242         6  2018-09-30 22:46:00  2018-09-30 22:52:00   \n",
       "95263  106411241        37  2018-09-30 22:49:00  2018-09-30 23:26:00   \n",
       "95264  106411240        11  2018-09-30 22:53:00  2018-09-30 23:04:00   \n",
       "95265  106411239         3  2018-09-30 22:54:00  2018-09-30 22:57:00   \n",
       "95266  106411238        54  2018-09-30 22:56:00  2018-09-30 23:50:00   \n",
       "95267  106411237        13  2018-09-30 22:57:00  2018-09-30 23:10:00   \n",
       "95268  106411236         8  2018-09-30 22:58:00  2018-09-30 23:06:00   \n",
       "95269  106411235        10  2018-09-30 23:00:00  2018-09-30 23:10:00   \n",
       "95270  106411234        51  2018-09-30 23:04:00  2018-09-30 23:55:00   \n",
       "95271  106411233        30  2018-09-30 23:11:00  2018-09-30 23:41:00   \n",
       "95272  106411232        15  2018-09-30 23:14:00  2018-09-30 23:29:00   \n",
       "95273  106411231        14  2018-09-30 23:15:00  2018-09-30 23:29:00   \n",
       "95274  106411685        34  2018-09-30 23:34:00  2018-10-01 00:08:00   \n",
       "95275  106411684        31  2018-09-30 23:36:00  2018-10-01 00:07:00   \n",
       "95276  106412144        40  2018-09-30 23:36:00  2018-10-01 00:16:00   \n",
       "95277  106411230        12  2018-09-30 23:41:00  2018-09-30 23:53:00   \n",
       "95278  106412141        30  2018-09-30 23:47:00  2018-10-01 00:17:00   \n",
       "95279  106411454        10  2018-09-30 23:52:00  2018-10-01 00:02:00   \n",
       "95280  106411455        11  2018-09-30 23:52:00  2018-10-01 00:03:00   \n",
       "95281  106411453         9  2018-09-30 23:54:00  2018-10-01 00:03:00   \n",
       "95282  106411452         7  2018-09-30 23:57:00  2018-10-01 00:04:00   \n",
       "\n",
       "       start_station  start_lat   start_lon  end_station    end_lat  \\\n",
       "0               3058  34.035801 -118.233170         3082  34.046520   \n",
       "1               3058  34.035801 -118.233170         3082  34.046520   \n",
       "2               4147  34.145248 -118.150070         4174  34.165291   \n",
       "3               4157  34.140999 -118.132088         4162  34.147499   \n",
       "4               3013  33.779819 -118.263023         3013  33.779819   \n",
       "5               3029  34.048851 -118.246422         3082  34.046520   \n",
       "6               3029  34.048851 -118.246422         3082  34.046520   \n",
       "7               3069  34.050880 -118.248253         3075  34.042110   \n",
       "8               3067  34.045181 -118.250237         3062  34.047749   \n",
       "9               3034  34.042061 -118.263382         3074  34.044170   \n",
       "10              3008  34.046612 -118.262733         3049  34.056969   \n",
       "11              3008  34.046612 -118.262733         3049  34.056969   \n",
       "12              4147  34.145248 -118.150070         4163  34.150471   \n",
       "13              4147  34.145248 -118.150070         4163  34.150471   \n",
       "14              3022  34.046070 -118.233093         3078  34.064281   \n",
       "15              3064  34.046810 -118.256981         3031  34.044701   \n",
       "16              4159  34.145901 -118.116539         4163  34.150471   \n",
       "17              3063  34.048038 -118.253738         3038  34.046822   \n",
       "18              3067  34.045181 -118.250237         3066  34.063389   \n",
       "19              3067  34.045181 -118.250237         3066  34.063389   \n",
       "20              3067  34.045181 -118.250237         3066  34.063389   \n",
       "21              3067  34.045181 -118.250237         3066  34.063389   \n",
       "22              3051  34.045422 -118.253517         3052  34.051102   \n",
       "23              3051  34.045422 -118.253517         3051  34.045422   \n",
       "24              4142  34.144588 -118.144592         4151  34.142361   \n",
       "25              4138  34.145691 -118.148239         4183  34.146069   \n",
       "26              3007  34.050480 -118.254593         3082  34.046520   \n",
       "27              4215  34.014309 -118.491341         4215  34.014309   \n",
       "28              4215  34.014309 -118.491341         4208  33.998680   \n",
       "29              3008  34.046612 -118.262733         3031  34.044701   \n",
       "...              ...        ...         ...          ...        ...   \n",
       "95253           3049  34.056969 -118.253593         3007  34.050480   \n",
       "95254           3029  34.048851 -118.246422         3029  34.048851   \n",
       "95255           3067  34.045181 -118.250237         3051  34.045422   \n",
       "95256           3046  34.052872 -118.247490         3067  34.045181   \n",
       "95257           3045  34.028511 -118.256668         3054  34.039219   \n",
       "95258           3068  34.053200 -118.250954         3024  34.057720   \n",
       "95259           4249  34.020302 -118.281181         4246  34.023708   \n",
       "95260           4249  34.020302 -118.281181         4246  34.023708   \n",
       "95261           4210  33.984341 -118.471550         4210  33.984341   \n",
       "95262           3035  34.048401 -118.260948         3063  34.048038   \n",
       "95263           3067  34.045181 -118.250237         3063  34.048038   \n",
       "95264           3032  34.049889 -118.255882         3026  34.063179   \n",
       "95265           3051  34.045422 -118.253517         3067  34.045181   \n",
       "95266           4214  33.995560 -118.481552         4214  33.995560   \n",
       "95267           3046  34.052872 -118.247490         3048  34.041691   \n",
       "95268           3068  34.053200 -118.250954         3034  34.042061   \n",
       "95269           3054  34.039219 -118.236488         3022  34.046070   \n",
       "95270           4220  34.074829 -118.258728         3076  34.040600   \n",
       "95271           3022  34.046070 -118.233093         3038  34.046822   \n",
       "95272           3036  34.039188 -118.232529         3063  34.048038   \n",
       "95273           3036  34.039188 -118.232529         3063  34.048038   \n",
       "95274           3051  34.045422 -118.253517         3051  34.045422   \n",
       "95275           3051  34.045422 -118.253517         3051  34.045422   \n",
       "95276           3069  34.050880 -118.248253         3069  34.050880   \n",
       "95277           3026  34.063179 -118.245880         3029  34.048851   \n",
       "95278           3038  34.046822 -118.248352         3038  34.046822   \n",
       "95279           3035  34.048401 -118.260948         3074  34.044170   \n",
       "95280           3024  34.057720 -118.248970         3055  34.044159   \n",
       "95281           3008  34.046612 -118.262733         3052  34.051102   \n",
       "95282           3026  34.063179 -118.245880         3049  34.056969   \n",
       "\n",
       "          end_lon  bike_id  plan_duration trip_route_category passholder_type  \n",
       "0     -118.237411     6279             30             One Way    Monthly Pass  \n",
       "1     -118.237411     6518            365             One Way       Flex Pass  \n",
       "2     -118.150970     4823            365             One Way    Monthly Pass  \n",
       "3     -118.148010     6115             30             One Way    Monthly Pass  \n",
       "4     -118.263023    12055              1          Round Trip         Walk-up  \n",
       "5     -118.237411     6370              1             One Way         Walk-up  \n",
       "6     -118.237411     6566              1             One Way         Walk-up  \n",
       "7     -118.256187     6407              1             One Way         Walk-up  \n",
       "8     -118.243172     5859             30             One Way    Monthly Pass  \n",
       "9     -118.261169     6562             30             One Way    Monthly Pass  \n",
       "10    -118.253593    12411              1             One Way    One Day Pass  \n",
       "11    -118.253593    12025              1             One Way    One Day Pass  \n",
       "12    -118.132019     6671              1             One Way         Walk-up  \n",
       "13    -118.132019     5824              1             One Way         Walk-up  \n",
       "14    -118.238937     6404             30             One Way    Monthly Pass  \n",
       "15    -118.252441    12091             30             One Way    Monthly Pass  \n",
       "16    -118.132019     5742              1             One Way         Walk-up  \n",
       "17    -118.248352     6137             30             One Way    Monthly Pass  \n",
       "18    -118.236160     5787              1             One Way         Walk-up  \n",
       "19    -118.236160     5936              1             One Way         Walk-up  \n",
       "20    -118.236160     6535              1             One Way         Walk-up  \n",
       "21    -118.236160     6613              1             One Way         Walk-up  \n",
       "22    -118.264557     5782              1             One Way         Walk-up  \n",
       "23    -118.253517     5972              1          Round Trip         Walk-up  \n",
       "24    -118.141510     5839              1             One Way         Walk-up  \n",
       "25    -118.129181    12454              1             One Way         Walk-up  \n",
       "26    -118.237411    12006             30             One Way    Monthly Pass  \n",
       "27    -118.491341    12039              1          Round Trip    One Day Pass  \n",
       "28    -118.472977    12039              1             One Way    One Day Pass  \n",
       "29    -118.252441    12383             30             One Way    Monthly Pass  \n",
       "...           ...      ...            ...                 ...             ...  \n",
       "95253 -118.254593    12330             30             One Way    Monthly Pass  \n",
       "95254 -118.246422    12163              1          Round Trip         Walk-up  \n",
       "95255 -118.253517     6278             30             One Way    Monthly Pass  \n",
       "95256 -118.250237    12062              1             One Way         Walk-up  \n",
       "95257 -118.236488     5752             30             One Way    Monthly Pass  \n",
       "95258 -118.248970     6547             30             One Way    Monthly Pass  \n",
       "95259 -118.279167     6375              1             One Way         Walk-up  \n",
       "95260 -118.279167    12064              1             One Way         Walk-up  \n",
       "95261 -118.471550    12424              1          Round Trip    One Day Pass  \n",
       "95262 -118.253738     5868             30             One Way    Monthly Pass  \n",
       "95263 -118.253738     6073             30             One Way    Monthly Pass  \n",
       "95264 -118.245880     6121             30             One Way    Monthly Pass  \n",
       "95265 -118.250237     6278             30             One Way    Monthly Pass  \n",
       "95266 -118.481552    12280              1          Round Trip         Walk-up  \n",
       "95267 -118.235352     6458             30             One Way    Monthly Pass  \n",
       "95268 -118.263382     5974             30             One Way    Monthly Pass  \n",
       "95269 -118.233093     5752             30             One Way    Monthly Pass  \n",
       "95270 -118.253838     5935              1             One Way         Walk-up  \n",
       "95271 -118.248352     5752             30             One Way    Monthly Pass  \n",
       "95272 -118.253738     6508              1             One Way         Walk-up  \n",
       "95273 -118.253738    11967              1             One Way         Walk-up  \n",
       "95274 -118.253517    11977              1          Round Trip         Walk-up  \n",
       "95275 -118.253517     6728              1          Round Trip         Walk-up  \n",
       "95276 -118.248253     6255              1          Round Trip         Walk-up  \n",
       "95277 -118.246422     6103              1             One Way         Walk-up  \n",
       "95278 -118.248352     6258              1          Round Trip         Walk-up  \n",
       "95279 -118.261169     5931             30             One Way    Monthly Pass  \n",
       "95280 -118.251579     6100             30             One Way    Monthly Pass  \n",
       "95281 -118.264557     5879              1             One Way         Walk-up  \n",
       "95282 -118.253593     6121             30             One Way    Monthly Pass  \n",
       "\n",
       "[93199 rows x 14 columns]"
      ]
     },
     "execution_count": 59,
     "metadata": {},
     "output_type": "execute_result"
    }
   ],
   "source": [
    "bike_df_cleaned = bike_df.dropna(axis=0) \n",
    "bike_df_cleaned"
   ]
  },
  {
   "cell_type": "code",
   "execution_count": 60,
   "metadata": {},
   "outputs": [
    {
     "data": {
      "text/html": [
       "<div>\n",
       "<style scoped>\n",
       "    .dataframe tbody tr th:only-of-type {\n",
       "        vertical-align: middle;\n",
       "    }\n",
       "\n",
       "    .dataframe tbody tr th {\n",
       "        vertical-align: top;\n",
       "    }\n",
       "\n",
       "    .dataframe thead th {\n",
       "        text-align: right;\n",
       "    }\n",
       "</style>\n",
       "<table border=\"1\" class=\"dataframe\">\n",
       "  <thead>\n",
       "    <tr style=\"text-align: right;\">\n",
       "      <th></th>\n",
       "      <th>trip_id</th>\n",
       "      <th>duration</th>\n",
       "      <th>start_station</th>\n",
       "      <th>start_lat</th>\n",
       "      <th>start_lon</th>\n",
       "      <th>end_station</th>\n",
       "      <th>end_lat</th>\n",
       "      <th>end_lon</th>\n",
       "      <th>bike_id</th>\n",
       "      <th>plan_duration</th>\n",
       "    </tr>\n",
       "  </thead>\n",
       "  <tbody>\n",
       "    <tr>\n",
       "      <th>count</th>\n",
       "      <td>9.319900e+04</td>\n",
       "      <td>93199.000000</td>\n",
       "      <td>93199.000000</td>\n",
       "      <td>93199.000000</td>\n",
       "      <td>93199.000000</td>\n",
       "      <td>93199.000000</td>\n",
       "      <td>93199.000000</td>\n",
       "      <td>93199.000000</td>\n",
       "      <td>93199.000000</td>\n",
       "      <td>93199.000000</td>\n",
       "    </tr>\n",
       "    <tr>\n",
       "      <th>mean</th>\n",
       "      <td>1.020450e+08</td>\n",
       "      <td>39.150903</td>\n",
       "      <td>3453.815921</td>\n",
       "      <td>34.031744</td>\n",
       "      <td>-118.297169</td>\n",
       "      <td>3454.848282</td>\n",
       "      <td>34.031997</td>\n",
       "      <td>-118.297607</td>\n",
       "      <td>8329.991781</td>\n",
       "      <td>22.573000</td>\n",
       "    </tr>\n",
       "    <tr>\n",
       "      <th>std</th>\n",
       "      <td>3.391003e+06</td>\n",
       "      <td>106.635812</td>\n",
       "      <td>555.496890</td>\n",
       "      <td>0.064308</td>\n",
       "      <td>0.102349</td>\n",
       "      <td>556.044923</td>\n",
       "      <td>0.063870</td>\n",
       "      <td>0.103344</td>\n",
       "      <td>2889.897390</td>\n",
       "      <td>51.592113</td>\n",
       "    </tr>\n",
       "    <tr>\n",
       "      <th>min</th>\n",
       "      <td>9.485113e+07</td>\n",
       "      <td>1.000000</td>\n",
       "      <td>3005.000000</td>\n",
       "      <td>33.710979</td>\n",
       "      <td>-118.491341</td>\n",
       "      <td>3005.000000</td>\n",
       "      <td>33.710979</td>\n",
       "      <td>-118.491341</td>\n",
       "      <td>4727.000000</td>\n",
       "      <td>1.000000</td>\n",
       "    </tr>\n",
       "    <tr>\n",
       "      <th>25%</th>\n",
       "      <td>9.919732e+07</td>\n",
       "      <td>7.000000</td>\n",
       "      <td>3030.000000</td>\n",
       "      <td>34.014309</td>\n",
       "      <td>-118.282722</td>\n",
       "      <td>3031.000000</td>\n",
       "      <td>34.014309</td>\n",
       "      <td>-118.283409</td>\n",
       "      <td>6087.000000</td>\n",
       "      <td>1.000000</td>\n",
       "    </tr>\n",
       "    <tr>\n",
       "      <th>50%</th>\n",
       "      <td>1.033932e+08</td>\n",
       "      <td>14.000000</td>\n",
       "      <td>3064.000000</td>\n",
       "      <td>34.045422</td>\n",
       "      <td>-118.256187</td>\n",
       "      <td>3064.000000</td>\n",
       "      <td>34.045181</td>\n",
       "      <td>-118.256187</td>\n",
       "      <td>6484.000000</td>\n",
       "      <td>30.000000</td>\n",
       "    </tr>\n",
       "    <tr>\n",
       "      <th>75%</th>\n",
       "      <td>1.048693e+08</td>\n",
       "      <td>33.000000</td>\n",
       "      <td>4204.000000</td>\n",
       "      <td>34.050880</td>\n",
       "      <td>-118.243530</td>\n",
       "      <td>4204.000000</td>\n",
       "      <td>34.049889</td>\n",
       "      <td>-118.243530</td>\n",
       "      <td>12110.000000</td>\n",
       "      <td>30.000000</td>\n",
       "    </tr>\n",
       "    <tr>\n",
       "      <th>max</th>\n",
       "      <td>1.065433e+08</td>\n",
       "      <td>1440.000000</td>\n",
       "      <td>4267.000000</td>\n",
       "      <td>34.165291</td>\n",
       "      <td>-118.116539</td>\n",
       "      <td>4267.000000</td>\n",
       "      <td>34.165291</td>\n",
       "      <td>-118.116539</td>\n",
       "      <td>12456.000000</td>\n",
       "      <td>365.000000</td>\n",
       "    </tr>\n",
       "  </tbody>\n",
       "</table>\n",
       "</div>"
      ],
      "text/plain": [
       "            trip_id      duration  start_station     start_lat     start_lon  \\\n",
       "count  9.319900e+04  93199.000000   93199.000000  93199.000000  93199.000000   \n",
       "mean   1.020450e+08     39.150903    3453.815921     34.031744   -118.297169   \n",
       "std    3.391003e+06    106.635812     555.496890      0.064308      0.102349   \n",
       "min    9.485113e+07      1.000000    3005.000000     33.710979   -118.491341   \n",
       "25%    9.919732e+07      7.000000    3030.000000     34.014309   -118.282722   \n",
       "50%    1.033932e+08     14.000000    3064.000000     34.045422   -118.256187   \n",
       "75%    1.048693e+08     33.000000    4204.000000     34.050880   -118.243530   \n",
       "max    1.065433e+08   1440.000000    4267.000000     34.165291   -118.116539   \n",
       "\n",
       "        end_station       end_lat       end_lon       bike_id  plan_duration  \n",
       "count  93199.000000  93199.000000  93199.000000  93199.000000   93199.000000  \n",
       "mean    3454.848282     34.031997   -118.297607   8329.991781      22.573000  \n",
       "std      556.044923      0.063870      0.103344   2889.897390      51.592113  \n",
       "min     3005.000000     33.710979   -118.491341   4727.000000       1.000000  \n",
       "25%     3031.000000     34.014309   -118.283409   6087.000000       1.000000  \n",
       "50%     3064.000000     34.045181   -118.256187   6484.000000      30.000000  \n",
       "75%     4204.000000     34.049889   -118.243530  12110.000000      30.000000  \n",
       "max     4267.000000     34.165291   -118.116539  12456.000000     365.000000  "
      ]
     },
     "execution_count": 60,
     "metadata": {},
     "output_type": "execute_result"
    }
   ],
   "source": [
    "bike_df_cleaned.describe()"
   ]
  },
  {
   "cell_type": "code",
   "execution_count": 61,
   "metadata": {},
   "outputs": [
    {
     "data": {
      "text/plain": [
       "Walk-up         0.472924\n",
       "Monthly Pass    0.462473\n",
       "One Day Pass    0.047694\n",
       "Flex Pass       0.016803\n",
       "Annual Pass     0.000107\n",
       "Name: passholder_type, dtype: float64"
      ]
     },
     "execution_count": 61,
     "metadata": {},
     "output_type": "execute_result"
    }
   ],
   "source": [
    "bike_df_cleaned['passholder_type'].value_counts(normalize=True)"
   ]
  },
  {
   "cell_type": "markdown",
   "metadata": {},
   "source": [
    "Above we can see some basic statistics for the numeric columns, and the normalized category counts for each passholder type."
   ]
  },
  {
   "cell_type": "markdown",
   "metadata": {},
   "source": [
    "# Distribution of duration"
   ]
  },
  {
   "cell_type": "code",
   "execution_count": 62,
   "metadata": {},
   "outputs": [
    {
     "data": {
      "image/png": "[encoded data removed]",
      "text/plain": [
       "<Figure size 432x288 with 1 Axes>"
      ]
     },
     "metadata": {
      "needs_background": "light"
     },
     "output_type": "display_data"
    }
   ],
   "source": [
    "bike_df_cleaned['duration'].plot.hist(bins=100, logy=True);"
   ]
  },
  {
   "cell_type": "code",
   "execution_count": 63,
   "metadata": {},
   "outputs": [
    {
     "data": {
      "image/png": "[encoded data removed]",
      "text/plain": [
       "<Figure size 432x288 with 1 Axes>"
      ]
     },
     "metadata": {
      "needs_background": "light"
     },
     "output_type": "display_data"
    }
   ],
   "source": [
    "bike_df_duration_station_3000 = bike_df[bike_df['start_lat'].isnull() | bike_df['end_lat'].isnull()]\n",
    "# null values for start_lat/end_lat indicate station 3000 (virtual station)\n",
    "bike_df_duration_station_3000['duration'].plot.hist(bins=100, logy=True);"
   ]
  },
  {
   "cell_type": "markdown",
   "metadata": {},
   "source": [
    "Above it can be seen that the trips associated with bike station 3000 have a disproportionately high probability of having the maximum duration value, 1440 minutes. This is shown below with a statistical test."
   ]
  },
  {
   "cell_type": "code",
   "execution_count": 64,
   "metadata": {},
   "outputs": [
    {
     "name": "stdout",
     "output_type": "stream",
     "text": [
      "count    2084.000000\n",
      "mean      458.312860\n",
      "std       570.550371\n",
      "min         1.000000\n",
      "25%        49.000000\n",
      "50%       129.000000\n",
      "75%      1087.500000\n",
      "max      1440.000000\n",
      "Name: duration, dtype: float64 \n",
      " count    93199.000000\n",
      "mean        39.150903\n",
      "std        106.635812\n",
      "min          1.000000\n",
      "25%          7.000000\n",
      "50%         14.000000\n",
      "75%         33.000000\n",
      "max       1440.000000\n",
      "Name: duration, dtype: float64\n"
     ]
    }
   ],
   "source": [
    "print(bike_df_duration_station_3000['duration'].describe(),'\\n', bike_df_cleaned['duration'].describe())"
   ]
  },
  {
   "cell_type": "code",
   "execution_count": 65,
   "metadata": {},
   "outputs": [
    {
     "name": "stdout",
     "output_type": "stream",
     "text": [
      "MannwhitneyuResult(statistic=26171405.5, pvalue=0.0)\n",
      "Ks_2sampResult(statistic=0.5833840850194882, pvalue=0.0)\n"
     ]
    }
   ],
   "source": [
    "from scipy.stats import mannwhitneyu\n",
    "print(mannwhitneyu(bike_df_duration_station_3000['duration'], bike_df_cleaned['duration']))\n",
    "from scipy.stats import ks_2samp\n",
    "print(ks_2samp(bike_df_duration_station_3000['duration'], bike_df_cleaned['duration']))"
   ]
  },
  {
   "cell_type": "markdown",
   "metadata": {},
   "source": [
    "H0 -> They are the same distribution\n",
    "\n",
    "H1 -> They follow different distributions\n",
    "\n",
    "With a pvalues of ~0.0 from Mann-Whitney U and Kolmogorov-Smirnov tests, H0 is rejected (and H1 accepted) at any confidence interval. Therefore the distribution of these durations is different, and the inclusion of the durations involving bike station 3000 would skew the duration value; providing a potentially inaccurate representation of journey durations.\n",
    "\n",
    "Chi-squared was not used as this is not a multinomial distribution."
   ]
  },
  {
   "cell_type": "code",
   "execution_count": 66,
   "metadata": {},
   "outputs": [
    {
     "data": {
      "text/plain": [
       "count    93199.000000\n",
       "mean        39.150903\n",
       "std        106.635812\n",
       "min          1.000000\n",
       "25%          7.000000\n",
       "50%         14.000000\n",
       "75%         33.000000\n",
       "max       1440.000000\n",
       "Name: duration, dtype: float64"
      ]
     },
     "execution_count": 66,
     "metadata": {},
     "output_type": "execute_result"
    }
   ],
   "source": [
    "bike_df_cleaned['duration'].describe()"
   ]
  },
  {
   "cell_type": "code",
   "execution_count": 67,
   "metadata": {},
   "outputs": [
    {
     "data": {
      "text/plain": [
       "8.914564904653744"
      ]
     },
     "execution_count": 67,
     "metadata": {},
     "output_type": "execute_result"
    }
   ],
   "source": [
    "from scipy.stats import skew\n",
    "skew(bike_df_cleaned['duration'])"
   ]
  },
  {
   "cell_type": "code",
   "execution_count": 68,
   "metadata": {},
   "outputs": [
    {
     "data": {
      "image/png": "[encoded data removed]",
      "text/plain": [
       "<Figure size 432x288 with 1 Axes>"
      ]
     },
     "metadata": {
      "needs_background": "light"
     },
     "output_type": "display_data"
    }
   ],
   "source": [
    "bike_df_cleaned['duration'].plot.hist(bins=100, logy=True);"
   ]
  },
  {
   "cell_type": "markdown",
   "metadata": {},
   "source": [
    "The duration field is heavily skewed positively, as shown by the 'skew' statistic above, as well as the fact that the median < mean. The majority of the data is contained within a small range of values, as shown by the interquartile range (25th to 75th percentiles). As can be seen from the histogram above, there seems to be a disproportionate amount of values which take the maximum values, however this can be explained with the datasheet and data description as 'Trip lengths are capped at 24 hours' which equates to 1440 minutes."
   ]
  },
  {
   "cell_type": "code",
   "execution_count": 69,
   "metadata": {},
   "outputs": [
    {
     "name": "stderr",
     "output_type": "stream",
     "text": [
      "/opt/conda/lib/python3.7/site-packages/scipy/stats/_continuous_distns.py:437: RuntimeWarning: invalid value encountered in sqrt\n",
      "  sk = 2*(b-a)*np.sqrt(a + b + 1) / (a + b + 2) / np.sqrt(a*b)\n",
      "/opt/conda/lib/python3.7/site-packages/scipy/optimize/minpack.py:163: RuntimeWarning: The iteration is not making good progress, as measured by the \n",
      "  improvement from the last ten iterations.\n",
      "  warnings.warn(msg, RuntimeWarning)\n"
     ]
    },
    {
     "name": "stdout",
     "output_type": "stream",
     "text": [
      "0.7656718165833696 501.8008336500243 0.9999999999999999 12915.724505093036\n"
     ]
    },
    {
     "data": {
      "text/plain": [
       "[<matplotlib.lines.Line2D at 0x7f6b8ba9e550>]"
      ]
     },
     "execution_count": 69,
     "metadata": {},
     "output_type": "execute_result"
    },
    {
     "data": {
      "image/png": "[encoded data removed]",
      "text/plain": [
       "<Figure size 432x288 with 1 Axes>"
      ]
     },
     "metadata": {
      "needs_background": "light"
     },
     "output_type": "display_data"
    }
   ],
   "source": [
    "from scipy.stats import beta\n",
    "a, b, loc, scale = beta.fit(bike_df_cleaned['duration'])\n",
    "print(a, b, loc, scale)\n",
    "\n",
    "x = np.linspace(beta.ppf(0.001, a, b), beta.ppf(0.999, a, b), 10000)\n",
    "fig, ax = plt.subplots(1, 1)\n",
    "ax.plot(x, beta.pdf(x, a, b), 'r-', lw=1)"
   ]
  },
  {
   "cell_type": "code",
   "execution_count": 70,
   "metadata": {},
   "outputs": [],
   "source": [
    "# n_loglike = lambda a: -sum(beta.logpdf(duration_0_to_1, a[0], a[1]))\n",
    "# from scipy.optimize import minimize, Bounds\n",
    "# import numpy as np\n",
    "# opt = minimize(n_loglike, (0.5, 0.1), bounds=Bounds(0, np.inf))\n",
    "# opt\n",
    "# DOESNT WORK!?!"
   ]
  },
  {
   "cell_type": "markdown",
   "metadata": {},
   "source": [
    "# Comparison of passholder type and duration"
   ]
  },
  {
   "cell_type": "code",
   "execution_count": 71,
   "metadata": {},
   "outputs": [
    {
     "data": {
      "text/plain": [
       "passholder_type\n",
       "Annual Pass     AxesSubplot(0.125,0.125;0.775x0.755)\n",
       "Flex Pass       AxesSubplot(0.125,0.125;0.775x0.755)\n",
       "Monthly Pass    AxesSubplot(0.125,0.125;0.775x0.755)\n",
       "One Day Pass    AxesSubplot(0.125,0.125;0.775x0.755)\n",
       "Walk-up         AxesSubplot(0.125,0.125;0.775x0.755)\n",
       "dtype: object"
      ]
     },
     "execution_count": 71,
     "metadata": {},
     "output_type": "execute_result"
    },
    {
     "data": {
      "image/png": "[encoded data removed]",
      "text/plain": [
       "<Figure size 432x288 with 1 Axes>"
      ]
     },
     "metadata": {
      "needs_background": "light"
     },
     "output_type": "display_data"
    },
    {
     "data": {
      "image/png": "[encoded data removed]",
      "text/plain": [
       "<Figure size 432x288 with 1 Axes>"
      ]
     },
     "metadata": {
      "needs_background": "light"
     },
     "output_type": "display_data"
    },
    {
     "data": {
      "image/png": "[encoded data removed]",
      "text/plain": [
       "<Figure size 432x288 with 1 Axes>"
      ]
     },
     "metadata": {
      "needs_background": "light"
     },
     "output_type": "display_data"
    },
    {
     "data": {
      "image/png": "[encoded data removed]",
      "text/plain": [
       "<Figure size 432x288 with 1 Axes>"
      ]
     },
     "metadata": {
      "needs_background": "light"
     },
     "output_type": "display_data"
    },
    {
     "data": {
      "image/png": "[encoded data removed]",
      "text/plain": [
       "<Figure size 432x288 with 1 Axes>"
      ]
     },
     "metadata": {
      "needs_background": "light"
     },
     "output_type": "display_data"
    },
    {
     "data": {
      "image/png": "[encoded data removed]",
      "text/plain": [
       "<Figure size 432x288 with 1 Axes>"
      ]
     },
     "metadata": {
      "needs_background": "light"
     },
     "output_type": "display_data"
    }
   ],
   "source": [
    "bike_df_cleaned[['passholder_type','duration']].groupby('passholder_type').apply(lambda x: x.plot.hist(logy=True, bins=100))"
   ]
  },
  {
   "cell_type": "code",
   "execution_count": 72,
   "metadata": {},
   "outputs": [
    {
     "data": {
      "text/plain": [
       "Text(0.5,0,'passholder type')"
      ]
     },
     "execution_count": 72,
     "metadata": {},
     "output_type": "execute_result"
    },
    {
     "data": {
      "image/png": "[encoded data removed]",
      "text/plain": [
       "<Figure size 432x288 with 1 Axes>"
      ]
     },
     "metadata": {
      "needs_background": "light"
     },
     "output_type": "display_data"
    }
   ],
   "source": [
    "fig, ax = plt.subplots()\n",
    "bike_df_cleaned[['passholder_type', 'duration']].boxplot(by='passholder_type', ax=ax)\n",
    "ax.set_yscale('log')\n",
    "plt.ylabel('duration')\n",
    "plt.xlabel('passholder type')"
   ]
  },
  {
   "cell_type": "markdown",
   "metadata": {},
   "source": [
    "From the boxplots above with a log(duration) scale, it can be seen that Annual Pass users fit within a smaller range than the other passholder types and also have a lower interquartile range (IQR). This may be because Annual Pass holders may be daily commuters, so will be completing the same journeys, however cannot be for certain as the number of samples within each category is not known from this plot. \n",
    "\n",
    "One Day Pass and Walk-up passes have the highest average duration and the highest IQRs, potentially reflecting that these are not often used by commuters/people making short journeys. One Day passes are slightly positively skewed, whereas walk-up passes do not seem to be highly skewed.\n",
    "\n",
    "Flex and Monthly passes have the lowest average journey duration, and do not seem to be skewed.\n",
    "\n",
    "Despite the differences in average journey duration between Flex, Monthly, One Day, and Walk-up passes, they each have the same range."
   ]
  },
  {
   "cell_type": "code",
   "execution_count": 73,
   "metadata": {},
   "outputs": [
    {
     "data": {
      "text/plain": [
       "Walk-up         44076\n",
       "Monthly Pass    43102\n",
       "One Day Pass     4445\n",
       "Flex Pass        1566\n",
       "Annual Pass        10\n",
       "Name: passholder_type, dtype: int64"
      ]
     },
     "execution_count": 73,
     "metadata": {},
     "output_type": "execute_result"
    }
   ],
   "source": [
    "bike_df_cleaned['passholder_type'].value_counts()"
   ]
  },
  {
   "cell_type": "markdown",
   "metadata": {},
   "source": [
    "Now given the number of each pass type, it is likely that it cannot be inferred that annual pass holders are distributed in a different fashion to the other distributions due to the number of samples within this category. This would need to be proven using a statistical test, such as A/B testing using a Chi-Squared test."
   ]
  },
  {
   "cell_type": "markdown",
   "metadata": {},
   "source": [
    "# One Day Pass vs Flex Pass Mean Duration Statistical Test"
   ]
  },
  {
   "cell_type": "markdown",
   "metadata": {},
   "source": [
    "From the boxplots above, it seems there is a meaningful difference in the mean duration between these two passholder types, however it is still necessary to conduct a statistical test to be sure.\n",
    "\n",
    "To measure the similarity of the means of two distributions the Student's t-test is used. However this test assumes that the variance of both distributions is equal and also works better when the distributions contain a similar number of samples."
   ]
  },
  {
   "cell_type": "code",
   "execution_count": 74,
   "metadata": {},
   "outputs": [],
   "source": [
    "one_day_pass_df = bike_df_cleaned[bike_df_cleaned['passholder_type'] == 'One Day Pass']\n",
    "flex_pass_df = bike_df_cleaned[bike_df_cleaned['passholder_type'] == 'Flex Pass']"
   ]
  },
  {
   "cell_type": "code",
   "execution_count": 75,
   "metadata": {},
   "outputs": [
    {
     "name": "stdout",
     "output_type": "stream",
     "text": [
      "Sample size difference: 2879\tVariance difference: 11438.896814626716\n"
     ]
    }
   ],
   "source": [
    "var_one_day_pass = np.var(one_day_pass_df['duration'].values)\n",
    "var_flex_pass = np.var(flex_pass_df['duration'].values)\n",
    "sample_size_difference = np.abs(len(flex_pass_df) - len(one_day_pass_df))\n",
    "var_difference = np.abs(var_one_day_pass - var_flex_pass)\n",
    "print(\"Sample size difference: {}\\tVariance difference: {}\".format(sample_size_difference, var_difference))"
   ]
  },
  {
   "cell_type": "markdown",
   "metadata": {},
   "source": [
    "As can be seen above, the difference in sample size and variance seems non-negligible; potentially another measure should be used."
   ]
  },
  {
   "cell_type": "code",
   "execution_count": 76,
   "metadata": {},
   "outputs": [
    {
     "data": {
      "image/png": "[encoded data removed]",
      "text/plain": [
       "<Figure size 432x288 with 1 Axes>"
      ]
     },
     "metadata": {
      "needs_background": "light"
     },
     "output_type": "display_data"
    }
   ],
   "source": [
    "one_day_pass_df['duration'].plot.hist(bins=100, logy=True);"
   ]
  },
  {
   "cell_type": "code",
   "execution_count": 77,
   "metadata": {},
   "outputs": [
    {
     "data": {
      "image/png": "[encoded data removed]",
      "text/plain": [
       "<Figure size 432x288 with 1 Axes>"
      ]
     },
     "metadata": {
      "needs_background": "light"
     },
     "output_type": "display_data"
    }
   ],
   "source": [
    "flex_pass_df['duration'].plot.hist(bins=100, logy=True);"
   ]
  },
  {
   "cell_type": "markdown",
   "metadata": {},
   "source": [
    "The histograms for these distributions also seems to show a difference in both variance and number of samples\n",
    "\n",
    "A variant of the Student's t-test for equal means is Welch's t-test, which is more suited to the comparison of two distributions where they have differing variances and sample sizes.\n",
    "\n",
    "For this test:\n",
    "\n",
    "H0 -> Both distributions have equal means\n",
    "\n",
    "H1 -> The distributions have different means\n",
    "\n",
    "Assumptions:\n",
    "- The independant variable is categorical\n",
    "- Distribution of each should follow the normal distribution (However, using sample means with large sample sizes, Central Limit Theorum allows us to generate distributions from each that are approximately normal)"
   ]
  },
  {
   "cell_type": "code",
   "execution_count": 78,
   "metadata": {},
   "outputs": [
    {
     "data": {
      "image/png": "[encoded data removed]",
      "text/plain": [
       "<Figure size 432x288 with 1 Axes>"
      ]
     },
     "metadata": {
      "needs_background": "light"
     },
     "output_type": "display_data"
    },
    {
     "name": "stdout",
     "output_type": "stream",
     "text": [
      "Variance: 126.1449625658435\n"
     ]
    },
    {
     "data": {
      "image/png": "[encoded data removed]",
      "text/plain": [
       "<Figure size 432x288 with 1 Axes>"
      ]
     },
     "metadata": {
      "needs_background": "light"
     },
     "output_type": "display_data"
    },
    {
     "name": "stdout",
     "output_type": "stream",
     "text": [
      "Variance: 32.14868080685451\n"
     ]
    }
   ],
   "source": [
    "sample_size = 125\n",
    "samples_one_day_pass = np.array_split(one_day_pass_df['duration'].sample(frac=1, random_state=0).values, int(len(one_day_pass_df)/sample_size))\n",
    "sample_means_one_day_pass = list(map(lambda x: np.mean(x), samples_one_day_pass))\n",
    "samples_flex_pass = np.array_split(flex_pass_df['duration'].sample(frac=1, random_state=0).values, int(len(flex_pass_df)/sample_size))\n",
    "sample_means_flex_pass = list(map(lambda x: np.mean(x), samples_flex_pass))\n",
    "\n",
    "sample_means_one_day_pass_var = np.var(sample_means_one_day_pass)\n",
    "sample_means_flex_pass_var = np.var(sample_means_flex_pass)\n",
    "# np.apply_along_axis(np.mean, 0, samples)\n",
    "\n",
    "\n",
    "plt.hist(sample_means_one_day_pass)\n",
    "plt.title(\"One Day pass\")\n",
    "plt.show()\n",
    "print(\"Variance: {}\".format(sample_means_one_day_pass_var))\n",
    "\n",
    "plt.title(\"Flex pass\")\n",
    "plt.hist(sample_means_flex_pass)\n",
    "plt.show()\n",
    "print(\"Variance: {}\".format(sample_means_flex_pass_var))"
   ]
  },
  {
   "cell_type": "code",
   "execution_count": 79,
   "metadata": {},
   "outputs": [
    {
     "name": "stdout",
     "output_type": "stream",
     "text": [
      "Student's t-test:\n",
      "\tOriginal t-test p-value: 7.9422977182875e-47\tSample means t-test p-value: 7.183881240730067e-18\n",
      "\n",
      "Welch's t-test:\n",
      "\tOriginal t-test p-value: 9.675791373602982e-80\tSample means t-test p-value: 1.8528723623048546e-20\n"
     ]
    }
   ],
   "source": [
    "from scipy.stats import ttest_ind\n",
    "\n",
    "print(\"Student's t-test:\")\n",
    "\n",
    "t_test = ttest_ind(one_day_pass_df['duration'], flex_pass_df['duration'], equal_var=True)\n",
    "t_test2 = ttest_ind(sample_means_one_day_pass, sample_means_flex_pass, equal_var=True)\n",
    "\n",
    "print(\"\\tOriginal t-test p-value: {}\\tSample means t-test p-value: {}\".format(t_test.pvalue, t_test2.pvalue))\n",
    "\n",
    "\n",
    "\n",
    "print(\"\\nWelch's t-test:\")\n",
    "\n",
    "t_test = ttest_ind(one_day_pass_df['duration'], flex_pass_df['duration'], equal_var=False)\n",
    "t_test2 = ttest_ind(sample_means_one_day_pass, sample_means_flex_pass, equal_var=False)\n",
    "\n",
    "print(\"\\tOriginal t-test p-value: {}\\tSample means t-test p-value: {}\".format(t_test.pvalue, t_test2.pvalue))"
   ]
  },
  {
   "cell_type": "markdown",
   "metadata": {},
   "source": [
    "From the two p-values from the Welch t-tests conducted it can be seen that using the sample means rather than original values does have an effect on the p-value score as the original distributions were not normally distributed, whereas the sample means distributions approximate a normal distribution.\n",
    "\n",
    "The impact of performing a Welch's t-test vs a Student's t-test is also shown by the difference in results between the two; despite this, in this example all tests provide the same outcome; allowing for the rejection of H0, and acceptance of H1. Implying that the means of the two samples are unequal.  "
   ]
  },
  {
   "cell_type": "markdown",
   "metadata": {},
   "source": [
    "# Convert columns to datetime\n",
    "As can be seen below, the start_time and end_time columns are not 'datetime' format"
   ]
  },
  {
   "cell_type": "code",
   "execution_count": 80,
   "metadata": {},
   "outputs": [
    {
     "data": {
      "text/plain": [
       "trip_id                  int64\n",
       "duration                 int64\n",
       "start_time              object\n",
       "end_time                object\n",
       "start_station            int64\n",
       "start_lat              float64\n",
       "start_lon              float64\n",
       "end_station              int64\n",
       "end_lat                float64\n",
       "end_lon                float64\n",
       "bike_id                  int64\n",
       "plan_duration            int64\n",
       "trip_route_category     object\n",
       "passholder_type         object\n",
       "dtype: object"
      ]
     },
     "execution_count": 80,
     "metadata": {},
     "output_type": "execute_result"
    }
   ],
   "source": [
    "bike_df_cleaned.dtypes"
   ]
  },
  {
   "cell_type": "code",
   "execution_count": 86,
   "metadata": {},
   "outputs": [
    {
     "data": {
      "text/plain": [
       "trip_id                         int64\n",
       "duration                        int64\n",
       "start_time             datetime64[ns]\n",
       "end_time               datetime64[ns]\n",
       "start_station                   int64\n",
       "start_lat                     float64\n",
       "start_lon                     float64\n",
       "end_station                     int64\n",
       "end_lat                       float64\n",
       "end_lon                       float64\n",
       "bike_id                         int64\n",
       "plan_duration                   int64\n",
       "trip_route_category            object\n",
       "passholder_type                object\n",
       "hour_of_day                     int64\n",
       "day_of_week                    object\n",
       "dtype: object"
      ]
     },
     "execution_count": 86,
     "metadata": {},
     "output_type": "execute_result"
    }
   ],
   "source": [
    "pd.options.mode.chained_assignment = None # stops SettingWithCopy Warning from being displayed where not required\n",
    "bike_df_cleaned['start_time'] = pd.to_datetime(bike_df_cleaned['start_time'], format='%Y-%m-%d %H:%M:%S')\n",
    "bike_df_cleaned['end_time'] = pd.to_datetime(bike_df_cleaned['end_time'], format='%Y-%m-%d %H:%M:%S') \n",
    "bike_df_cleaned.dtypes"
   ]
  },
  {
   "cell_type": "markdown",
   "metadata": {},
   "source": [
    "# New column for hour of day"
   ]
  },
  {
   "cell_type": "code",
   "execution_count": 82,
   "metadata": {},
   "outputs": [],
   "source": [
    "bike_df_cleaned['hour_of_day'] = bike_df_cleaned.apply(lambda x: x['start_time'].hour, axis=1)"
   ]
  },
  {
   "cell_type": "markdown",
   "metadata": {},
   "source": [
    "# Exploration of the effect of start hour on the journey duration"
   ]
  },
  {
   "cell_type": "code",
   "execution_count": 83,
   "metadata": {},
   "outputs": [
    {
     "data": {
      "image/png": "[encoded data removed]",
      "text/plain": [
       "<Figure size 432x288 with 1 Axes>"
      ]
     },
     "metadata": {
      "needs_background": "light"
     },
     "output_type": "display_data"
    }
   ],
   "source": [
    "fig, ax = plt.subplots()\n",
    "bike_df_cleaned[['hour_of_day', 'duration']].boxplot(by='hour_of_day', ax=ax)\n",
    "ax.set_yscale('log')\n",
    "ax.axhline(bike_df_cleaned['duration'].median())\n",
    "plt.ylabel('Duration')\n",
    "plt.xlabel('Hour of day');"
   ]
  },
  {
   "cell_type": "code",
   "execution_count": 84,
   "metadata": {},
   "outputs": [
    {
     "name": "stdout",
     "output_type": "stream",
     "text": [
      "hour_of_day\n",
      "0     17211.124196\n",
      "1     23100.063520\n",
      "2     28540.688759\n",
      "3     14977.824648\n",
      "4     10374.362386\n",
      "5      4285.971799\n",
      "6      9177.973730\n",
      "7      6550.102917\n",
      "8      6965.480094\n",
      "9      9411.412643\n",
      "10    10982.250697\n",
      "11    12048.505833\n",
      "12    11592.320073\n",
      "13    11215.017459\n",
      "14    10837.950546\n",
      "15    12226.488265\n",
      "16    12776.224872\n",
      "17    10619.741301\n",
      "18    10625.685861\n",
      "19    11209.325856\n",
      "20     9392.130746\n",
      "21    11823.796522\n",
      "22    21190.929756\n",
      "23    14851.349039\n",
      "dtype: float64\n"
     ]
    }
   ],
   "source": [
    "var = bike_df_cleaned[['hour_of_day', 'duration']].groupby('hour_of_day').apply(lambda x: np.var(x['duration']))\n",
    "print(var)"
   ]
  },
  {
   "cell_type": "code",
   "execution_count": 99,
   "metadata": {},
   "outputs": [
    {
     "name": "stdout",
     "output_type": "stream",
     "text": [
      "Number of samples at each hour\n",
      "hour_of_day\n",
      "0     1036\n",
      "1      701\n",
      "2      352\n",
      "3      160\n",
      "4      192\n",
      "5      466\n",
      "6     1088\n",
      "7     2880\n",
      "8     4682\n",
      "9     4410\n",
      "10    4435\n",
      "11    5385\n",
      "12    6186\n",
      "13    6335\n",
      "14    6080\n",
      "15    6278\n",
      "16    7434\n",
      "17    8563\n",
      "18    7707\n",
      "19    6519\n",
      "20    4602\n",
      "21    3652\n",
      "22    2404\n",
      "23    1652\n",
      "dtype: int64\n"
     ]
    }
   ],
   "source": [
    "print(\"Number of samples at each hour\")\n",
    "print(bike_df_cleaned[['hour_of_day', 'duration']].groupby('hour_of_day').apply(lambda x: len(x['duration'])))"
   ]
  },
  {
   "cell_type": "markdown",
   "metadata": {},
   "source": [
    "The boxplots above seem to indicate that between 3 AM and 9 AM the average journey duration is lower than the median journey duration. The variance of the journeys between 6 AM and 8 AM is also lower than the other times, potentially indicating that most of these journeys are similar and is likely that these represent the commuter traffic.\n",
    "\n",
    "The range of the values for times 3 AM until 5 AM was also lower than that of the other times, however this may be partly due to a lower number of samples within these time ranges as shown above. Despite this, 2 AM has a much wider range, despite also having a relatively low number of samples, potentially indicating a more meaningful difference in distribution."
   ]
  },
  {
   "cell_type": "markdown",
   "metadata": {},
   "source": [
    "# Exploration of the effect of start day on the journey duration"
   ]
  },
  {
   "cell_type": "code",
   "execution_count": 88,
   "metadata": {},
   "outputs": [],
   "source": [
    "week_days = ['Monday', 'Tuesday', 'Wednesday', 'Thursday', 'Friday', 'Saturday', 'Sunday']\n",
    "bike_df_cleaned['day_of_week'] = bike_df_cleaned.apply(lambda x: x['start_time'].weekday(), axis=1)"
   ]
  },
  {
   "cell_type": "code",
   "execution_count": 96,
   "metadata": {},
   "outputs": [
    {
     "data": {
      "image/png": "[encoded data removed]",
      "text/plain": [
       "<Figure size 432x288 with 1 Axes>"
      ]
     },
     "metadata": {
      "needs_background": "light"
     },
     "output_type": "display_data"
    }
   ],
   "source": [
    "fig, ax = plt.subplots()\n",
    "bike_df_cleaned[['day_of_week', 'duration']].boxplot(by='day_of_week', ax=ax, labels=week_days)\n",
    "ax.set_yscale('log')\n",
    "ax.axhline(bike_df_cleaned['duration'].median())\n",
    "plt.ylabel('Duration')\n",
    "plt.xlabel('Day of week');"
   ]
  },
  {
   "cell_type": "markdown",
   "metadata": {},
   "source": [
    "This boxplot seems to indicate that there is a difference in trip length between week days and weekends."
   ]
  }
 ],
 "metadata": {
  "kernelspec": {
   "display_name": "Python 3",
   "language": "python",
   "name": "python3"
  },
  "language_info": {
   "codemirror_mode": {
    "name": "ipython",
    "version": 3
   },
   "file_extension": ".py",
   "mimetype": "text/x-python",
   "name": "python",
   "nbconvert_exporter": "python",
   "pygments_lexer": "ipython3",
   "version": "3.6.7"
  }
 },
 "nbformat": 4,
 "nbformat_minor": 2
}
