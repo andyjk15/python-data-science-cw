{
 "cells": [
  {
   "cell_type": "code",
   "execution_count": 1,
   "metadata": {},
   "outputs": [],
   "source": [
    "import pandas as pd\n",
    "import matplotlib.pyplot as plt\n",
    "import numpy as np\n",
    "import seaborn as sea\n",
    "from scipy.stats import mannwhitneyu, skew, ttest_ind\n",
    "import networkx as nx\n",
    "from sklearn.mixture import GaussianMixture"
   ]
  },
  {
   "cell_type": "code",
   "execution_count": 2,
   "metadata": {},
   "outputs": [],
   "source": [
    "%matplotlib inline"
   ]
  },
  {
   "cell_type": "markdown",
   "metadata": {},
   "source": [
    "# Task 1 - Bike journey data"
   ]
  },
  {
   "cell_type": "code",
   "execution_count": 3,
   "metadata": {},
   "outputs": [
    {
     "data": {
      "text/plain": [
       "(95283, 14)"
      ]
     },
     "execution_count": 3,
     "metadata": {},
     "output_type": "execute_result"
    }
   ],
   "source": [
    "bike = pd.read_csv(\"metro.csv\")\n",
    "bike.shape"
   ]
  },
  {
   "cell_type": "code",
   "execution_count": 4,
   "metadata": {
    "scrolled": true
   },
   "outputs": [
    {
     "name": "stdout",
     "output_type": "stream",
     "text": [
      "     start_lat   start_lon   end_lat     end_lon\n",
      "50   34.014309 -118.491341       NaN         NaN\n",
      "198  34.049889 -118.255882       NaN         NaN\n",
      "250  34.046070 -118.233093       NaN         NaN\n",
      "287  34.023392 -118.479637       NaN         NaN\n",
      "338        NaN         NaN  34.05088 -118.248253\n"
     ]
    }
   ],
   "source": [
    "#Identify null and empty values\n",
    "\n",
    "null_columns=bike.columns[bike.isnull().any()]\n",
    "\n",
    "#print(bike[null_columns].isnull().sum())\n",
    "nulls = bike[bike.isnull().any(axis=1)][null_columns].head()\n",
    "print(nulls)"
   ]
  },
  {
   "cell_type": "markdown",
   "metadata": {},
   "source": [
    "Trips in the matrix - 50, 198, 250 and 287 can be identified as trips were the bike have either, not finished the trip or have not been returned to a station. Therefore it may be wise to drop these from the dataset"
   ]
  },
  {
   "cell_type": "code",
   "execution_count": 5,
   "metadata": {},
   "outputs": [
    {
     "name": "stdout",
     "output_type": "stream",
     "text": [
      "trip_id                           94952010\n",
      "duration                                23\n",
      "start_time             2018-07-01 14:44:00\n",
      "end_time               2018-07-01 15:07:00\n",
      "start_station                         3000\n",
      "start_lat                              NaN\n",
      "start_lon                              NaN\n",
      "end_station                           3069\n",
      "end_lat                            34.0509\n",
      "end_lon                           -118.248\n",
      "bike_id                              12100\n",
      "plan_duration                            1\n",
      "trip_route_category                One Way\n",
      "passholder_type               One Day Pass\n",
      "Name: 338, dtype: object\n"
     ]
    },
    {
     "data": {
      "text/html": [
       "<div>\n",
       "<style scoped>\n",
       "    .dataframe tbody tr th:only-of-type {\n",
       "        vertical-align: middle;\n",
       "    }\n",
       "\n",
       "    .dataframe tbody tr th {\n",
       "        vertical-align: top;\n",
       "    }\n",
       "\n",
       "    .dataframe thead th {\n",
       "        text-align: right;\n",
       "    }\n",
       "</style>\n",
       "<table border=\"1\" class=\"dataframe\">\n",
       "  <thead>\n",
       "    <tr style=\"text-align: right;\">\n",
       "      <th></th>\n",
       "      <th>Station_ID</th>\n",
       "      <th>Station_Name</th>\n",
       "      <th>Go_live_date</th>\n",
       "      <th>Region</th>\n",
       "      <th>Status</th>\n",
       "    </tr>\n",
       "  </thead>\n",
       "  <tbody>\n",
       "    <tr>\n",
       "      <th>0</th>\n",
       "      <td>3000</td>\n",
       "      <td>Virtual Station</td>\n",
       "      <td>2016-07-07</td>\n",
       "      <td>NaN</td>\n",
       "      <td>Active</td>\n",
       "    </tr>\n",
       "  </tbody>\n",
       "</table>\n",
       "</div>"
      ],
      "text/plain": [
       "   Station_ID     Station_Name  Go_live_date Region  Status\n",
       "0        3000  Virtual Station   2016-07-07     NaN  Active"
      ]
     },
     "execution_count": 5,
     "metadata": {},
     "output_type": "execute_result"
    }
   ],
   "source": [
    "print(bike.loc[338])\n",
    "\n",
    "stations = pd.read_csv(\"stations.csv\")\n",
    "\n",
    "stations[stations['Region'].isnull()]"
   ]
  },
  {
   "cell_type": "code",
   "execution_count": 6,
   "metadata": {},
   "outputs": [
    {
     "data": {
      "text/html": [
       "<div>\n",
       "<style scoped>\n",
       "    .dataframe tbody tr th:only-of-type {\n",
       "        vertical-align: middle;\n",
       "    }\n",
       "\n",
       "    .dataframe tbody tr th {\n",
       "        vertical-align: top;\n",
       "    }\n",
       "\n",
       "    .dataframe thead th {\n",
       "        text-align: right;\n",
       "    }\n",
       "</style>\n",
       "<table border=\"1\" class=\"dataframe\">\n",
       "  <thead>\n",
       "    <tr style=\"text-align: right;\">\n",
       "      <th></th>\n",
       "      <th>start_station</th>\n",
       "      <th>start_lat</th>\n",
       "      <th>start_lon</th>\n",
       "      <th>end_station</th>\n",
       "      <th>end_lat</th>\n",
       "      <th>end_lon</th>\n",
       "    </tr>\n",
       "  </thead>\n",
       "  <tbody>\n",
       "    <tr>\n",
       "      <th>50</th>\n",
       "      <td>4215</td>\n",
       "      <td>34.014309</td>\n",
       "      <td>-118.491341</td>\n",
       "      <td>3000</td>\n",
       "      <td>NaN</td>\n",
       "      <td>NaN</td>\n",
       "    </tr>\n",
       "    <tr>\n",
       "      <th>198</th>\n",
       "      <td>3032</td>\n",
       "      <td>34.049889</td>\n",
       "      <td>-118.255882</td>\n",
       "      <td>3000</td>\n",
       "      <td>NaN</td>\n",
       "      <td>NaN</td>\n",
       "    </tr>\n",
       "    <tr>\n",
       "      <th>250</th>\n",
       "      <td>3022</td>\n",
       "      <td>34.046070</td>\n",
       "      <td>-118.233093</td>\n",
       "      <td>3000</td>\n",
       "      <td>NaN</td>\n",
       "      <td>NaN</td>\n",
       "    </tr>\n",
       "    <tr>\n",
       "      <th>287</th>\n",
       "      <td>4216</td>\n",
       "      <td>34.023392</td>\n",
       "      <td>-118.479637</td>\n",
       "      <td>3000</td>\n",
       "      <td>NaN</td>\n",
       "      <td>NaN</td>\n",
       "    </tr>\n",
       "    <tr>\n",
       "      <th>338</th>\n",
       "      <td>3000</td>\n",
       "      <td>NaN</td>\n",
       "      <td>NaN</td>\n",
       "      <td>3069</td>\n",
       "      <td>34.050880</td>\n",
       "      <td>-118.248253</td>\n",
       "    </tr>\n",
       "    <tr>\n",
       "      <th>340</th>\n",
       "      <td>3000</td>\n",
       "      <td>NaN</td>\n",
       "      <td>NaN</td>\n",
       "      <td>3069</td>\n",
       "      <td>34.050880</td>\n",
       "      <td>-118.248253</td>\n",
       "    </tr>\n",
       "    <tr>\n",
       "      <th>341</th>\n",
       "      <td>4207</td>\n",
       "      <td>34.000881</td>\n",
       "      <td>-118.468910</td>\n",
       "      <td>3000</td>\n",
       "      <td>NaN</td>\n",
       "      <td>NaN</td>\n",
       "    </tr>\n",
       "    <tr>\n",
       "      <th>350</th>\n",
       "      <td>3000</td>\n",
       "      <td>NaN</td>\n",
       "      <td>NaN</td>\n",
       "      <td>3032</td>\n",
       "      <td>34.049889</td>\n",
       "      <td>-118.255882</td>\n",
       "    </tr>\n",
       "    <tr>\n",
       "      <th>428</th>\n",
       "      <td>3079</td>\n",
       "      <td>34.050140</td>\n",
       "      <td>-118.233238</td>\n",
       "      <td>3000</td>\n",
       "      <td>NaN</td>\n",
       "      <td>NaN</td>\n",
       "    </tr>\n",
       "    <tr>\n",
       "      <th>452</th>\n",
       "      <td>3058</td>\n",
       "      <td>34.035801</td>\n",
       "      <td>-118.233170</td>\n",
       "      <td>3000</td>\n",
       "      <td>NaN</td>\n",
       "      <td>NaN</td>\n",
       "    </tr>\n",
       "    <tr>\n",
       "      <th>735</th>\n",
       "      <td>4154</td>\n",
       "      <td>34.156120</td>\n",
       "      <td>-118.151192</td>\n",
       "      <td>3000</td>\n",
       "      <td>NaN</td>\n",
       "      <td>NaN</td>\n",
       "    </tr>\n",
       "    <tr>\n",
       "      <th>736</th>\n",
       "      <td>4208</td>\n",
       "      <td>33.998680</td>\n",
       "      <td>-118.472977</td>\n",
       "      <td>3000</td>\n",
       "      <td>NaN</td>\n",
       "      <td>NaN</td>\n",
       "    </tr>\n",
       "    <tr>\n",
       "      <th>754</th>\n",
       "      <td>3069</td>\n",
       "      <td>34.050880</td>\n",
       "      <td>-118.248253</td>\n",
       "      <td>3000</td>\n",
       "      <td>NaN</td>\n",
       "      <td>NaN</td>\n",
       "    </tr>\n",
       "    <tr>\n",
       "      <th>1036</th>\n",
       "      <td>3040</td>\n",
       "      <td>34.053570</td>\n",
       "      <td>-118.266357</td>\n",
       "      <td>3000</td>\n",
       "      <td>NaN</td>\n",
       "      <td>NaN</td>\n",
       "    </tr>\n",
       "    <tr>\n",
       "      <th>1044</th>\n",
       "      <td>4138</td>\n",
       "      <td>34.145691</td>\n",
       "      <td>-118.148239</td>\n",
       "      <td>3000</td>\n",
       "      <td>NaN</td>\n",
       "      <td>NaN</td>\n",
       "    </tr>\n",
       "    <tr>\n",
       "      <th>1325</th>\n",
       "      <td>4177</td>\n",
       "      <td>34.144981</td>\n",
       "      <td>-118.138260</td>\n",
       "      <td>3000</td>\n",
       "      <td>NaN</td>\n",
       "      <td>NaN</td>\n",
       "    </tr>\n",
       "    <tr>\n",
       "      <th>1414</th>\n",
       "      <td>3049</td>\n",
       "      <td>34.056969</td>\n",
       "      <td>-118.253593</td>\n",
       "      <td>3000</td>\n",
       "      <td>NaN</td>\n",
       "      <td>NaN</td>\n",
       "    </tr>\n",
       "    <tr>\n",
       "      <th>1451</th>\n",
       "      <td>3049</td>\n",
       "      <td>34.056969</td>\n",
       "      <td>-118.253593</td>\n",
       "      <td>3000</td>\n",
       "      <td>NaN</td>\n",
       "      <td>NaN</td>\n",
       "    </tr>\n",
       "    <tr>\n",
       "      <th>1499</th>\n",
       "      <td>4212</td>\n",
       "      <td>33.988129</td>\n",
       "      <td>-118.471741</td>\n",
       "      <td>3000</td>\n",
       "      <td>NaN</td>\n",
       "      <td>NaN</td>\n",
       "    </tr>\n",
       "    <tr>\n",
       "      <th>1506</th>\n",
       "      <td>3042</td>\n",
       "      <td>34.049301</td>\n",
       "      <td>-118.238808</td>\n",
       "      <td>3000</td>\n",
       "      <td>NaN</td>\n",
       "      <td>NaN</td>\n",
       "    </tr>\n",
       "    <tr>\n",
       "      <th>1797</th>\n",
       "      <td>4214</td>\n",
       "      <td>33.995560</td>\n",
       "      <td>-118.481552</td>\n",
       "      <td>3000</td>\n",
       "      <td>NaN</td>\n",
       "      <td>NaN</td>\n",
       "    </tr>\n",
       "    <tr>\n",
       "      <th>1884</th>\n",
       "      <td>3023</td>\n",
       "      <td>34.050911</td>\n",
       "      <td>-118.240967</td>\n",
       "      <td>3000</td>\n",
       "      <td>NaN</td>\n",
       "      <td>NaN</td>\n",
       "    </tr>\n",
       "    <tr>\n",
       "      <th>1919</th>\n",
       "      <td>4214</td>\n",
       "      <td>33.995560</td>\n",
       "      <td>-118.481552</td>\n",
       "      <td>3000</td>\n",
       "      <td>NaN</td>\n",
       "      <td>NaN</td>\n",
       "    </tr>\n",
       "    <tr>\n",
       "      <th>2233</th>\n",
       "      <td>4214</td>\n",
       "      <td>33.995560</td>\n",
       "      <td>-118.481552</td>\n",
       "      <td>3000</td>\n",
       "      <td>NaN</td>\n",
       "      <td>NaN</td>\n",
       "    </tr>\n",
       "    <tr>\n",
       "      <th>2249</th>\n",
       "      <td>3075</td>\n",
       "      <td>34.042110</td>\n",
       "      <td>-118.256187</td>\n",
       "      <td>3000</td>\n",
       "      <td>NaN</td>\n",
       "      <td>NaN</td>\n",
       "    </tr>\n",
       "    <tr>\n",
       "      <th>2275</th>\n",
       "      <td>3078</td>\n",
       "      <td>34.064281</td>\n",
       "      <td>-118.238937</td>\n",
       "      <td>3000</td>\n",
       "      <td>NaN</td>\n",
       "      <td>NaN</td>\n",
       "    </tr>\n",
       "    <tr>\n",
       "      <th>2298</th>\n",
       "      <td>3082</td>\n",
       "      <td>34.046520</td>\n",
       "      <td>-118.237411</td>\n",
       "      <td>3000</td>\n",
       "      <td>NaN</td>\n",
       "      <td>NaN</td>\n",
       "    </tr>\n",
       "    <tr>\n",
       "      <th>2363</th>\n",
       "      <td>4166</td>\n",
       "      <td>34.145908</td>\n",
       "      <td>-118.121750</td>\n",
       "      <td>3000</td>\n",
       "      <td>NaN</td>\n",
       "      <td>NaN</td>\n",
       "    </tr>\n",
       "    <tr>\n",
       "      <th>2369</th>\n",
       "      <td>4212</td>\n",
       "      <td>33.988129</td>\n",
       "      <td>-118.471741</td>\n",
       "      <td>3000</td>\n",
       "      <td>NaN</td>\n",
       "      <td>NaN</td>\n",
       "    </tr>\n",
       "    <tr>\n",
       "      <th>2374</th>\n",
       "      <td>4142</td>\n",
       "      <td>34.144588</td>\n",
       "      <td>-118.144592</td>\n",
       "      <td>3000</td>\n",
       "      <td>NaN</td>\n",
       "      <td>NaN</td>\n",
       "    </tr>\n",
       "    <tr>\n",
       "      <th>...</th>\n",
       "      <td>...</td>\n",
       "      <td>...</td>\n",
       "      <td>...</td>\n",
       "      <td>...</td>\n",
       "      <td>...</td>\n",
       "      <td>...</td>\n",
       "    </tr>\n",
       "    <tr>\n",
       "      <th>94759</th>\n",
       "      <td>3000</td>\n",
       "      <td>NaN</td>\n",
       "      <td>NaN</td>\n",
       "      <td>3064</td>\n",
       "      <td>34.046810</td>\n",
       "      <td>-118.256981</td>\n",
       "    </tr>\n",
       "    <tr>\n",
       "      <th>94760</th>\n",
       "      <td>3068</td>\n",
       "      <td>34.053200</td>\n",
       "      <td>-118.250954</td>\n",
       "      <td>3000</td>\n",
       "      <td>NaN</td>\n",
       "      <td>NaN</td>\n",
       "    </tr>\n",
       "    <tr>\n",
       "      <th>94765</th>\n",
       "      <td>3068</td>\n",
       "      <td>34.053200</td>\n",
       "      <td>-118.250954</td>\n",
       "      <td>3000</td>\n",
       "      <td>NaN</td>\n",
       "      <td>NaN</td>\n",
       "    </tr>\n",
       "    <tr>\n",
       "      <th>94766</th>\n",
       "      <td>3000</td>\n",
       "      <td>NaN</td>\n",
       "      <td>NaN</td>\n",
       "      <td>3000</td>\n",
       "      <td>NaN</td>\n",
       "      <td>NaN</td>\n",
       "    </tr>\n",
       "    <tr>\n",
       "      <th>94769</th>\n",
       "      <td>3000</td>\n",
       "      <td>NaN</td>\n",
       "      <td>NaN</td>\n",
       "      <td>3032</td>\n",
       "      <td>34.049889</td>\n",
       "      <td>-118.255882</td>\n",
       "    </tr>\n",
       "    <tr>\n",
       "      <th>94773</th>\n",
       "      <td>3040</td>\n",
       "      <td>34.053570</td>\n",
       "      <td>-118.266357</td>\n",
       "      <td>3000</td>\n",
       "      <td>NaN</td>\n",
       "      <td>NaN</td>\n",
       "    </tr>\n",
       "    <tr>\n",
       "      <th>94774</th>\n",
       "      <td>3000</td>\n",
       "      <td>NaN</td>\n",
       "      <td>NaN</td>\n",
       "      <td>3032</td>\n",
       "      <td>34.049889</td>\n",
       "      <td>-118.255882</td>\n",
       "    </tr>\n",
       "    <tr>\n",
       "      <th>94778</th>\n",
       "      <td>3000</td>\n",
       "      <td>NaN</td>\n",
       "      <td>NaN</td>\n",
       "      <td>3032</td>\n",
       "      <td>34.049889</td>\n",
       "      <td>-118.255882</td>\n",
       "    </tr>\n",
       "    <tr>\n",
       "      <th>94779</th>\n",
       "      <td>3000</td>\n",
       "      <td>NaN</td>\n",
       "      <td>NaN</td>\n",
       "      <td>3000</td>\n",
       "      <td>NaN</td>\n",
       "      <td>NaN</td>\n",
       "    </tr>\n",
       "    <tr>\n",
       "      <th>94782</th>\n",
       "      <td>3000</td>\n",
       "      <td>NaN</td>\n",
       "      <td>NaN</td>\n",
       "      <td>3000</td>\n",
       "      <td>NaN</td>\n",
       "      <td>NaN</td>\n",
       "    </tr>\n",
       "    <tr>\n",
       "      <th>94786</th>\n",
       "      <td>3000</td>\n",
       "      <td>NaN</td>\n",
       "      <td>NaN</td>\n",
       "      <td>3064</td>\n",
       "      <td>34.046810</td>\n",
       "      <td>-118.256981</td>\n",
       "    </tr>\n",
       "    <tr>\n",
       "      <th>94788</th>\n",
       "      <td>3000</td>\n",
       "      <td>NaN</td>\n",
       "      <td>NaN</td>\n",
       "      <td>3069</td>\n",
       "      <td>34.050880</td>\n",
       "      <td>-118.248253</td>\n",
       "    </tr>\n",
       "    <tr>\n",
       "      <th>94790</th>\n",
       "      <td>3000</td>\n",
       "      <td>NaN</td>\n",
       "      <td>NaN</td>\n",
       "      <td>3040</td>\n",
       "      <td>34.053570</td>\n",
       "      <td>-118.266357</td>\n",
       "    </tr>\n",
       "    <tr>\n",
       "      <th>94791</th>\n",
       "      <td>3000</td>\n",
       "      <td>NaN</td>\n",
       "      <td>NaN</td>\n",
       "      <td>3069</td>\n",
       "      <td>34.050880</td>\n",
       "      <td>-118.248253</td>\n",
       "    </tr>\n",
       "    <tr>\n",
       "      <th>94795</th>\n",
       "      <td>3000</td>\n",
       "      <td>NaN</td>\n",
       "      <td>NaN</td>\n",
       "      <td>3040</td>\n",
       "      <td>34.053570</td>\n",
       "      <td>-118.266357</td>\n",
       "    </tr>\n",
       "    <tr>\n",
       "      <th>94796</th>\n",
       "      <td>3000</td>\n",
       "      <td>NaN</td>\n",
       "      <td>NaN</td>\n",
       "      <td>3007</td>\n",
       "      <td>34.050480</td>\n",
       "      <td>-118.254593</td>\n",
       "    </tr>\n",
       "    <tr>\n",
       "      <th>94797</th>\n",
       "      <td>3000</td>\n",
       "      <td>NaN</td>\n",
       "      <td>NaN</td>\n",
       "      <td>3069</td>\n",
       "      <td>34.050880</td>\n",
       "      <td>-118.248253</td>\n",
       "    </tr>\n",
       "    <tr>\n",
       "      <th>94804</th>\n",
       "      <td>3000</td>\n",
       "      <td>NaN</td>\n",
       "      <td>NaN</td>\n",
       "      <td>3024</td>\n",
       "      <td>34.057720</td>\n",
       "      <td>-118.248970</td>\n",
       "    </tr>\n",
       "    <tr>\n",
       "      <th>94814</th>\n",
       "      <td>3000</td>\n",
       "      <td>NaN</td>\n",
       "      <td>NaN</td>\n",
       "      <td>3069</td>\n",
       "      <td>34.050880</td>\n",
       "      <td>-118.248253</td>\n",
       "    </tr>\n",
       "    <tr>\n",
       "      <th>94818</th>\n",
       "      <td>3000</td>\n",
       "      <td>NaN</td>\n",
       "      <td>NaN</td>\n",
       "      <td>3069</td>\n",
       "      <td>34.050880</td>\n",
       "      <td>-118.248253</td>\n",
       "    </tr>\n",
       "    <tr>\n",
       "      <th>94842</th>\n",
       "      <td>3000</td>\n",
       "      <td>NaN</td>\n",
       "      <td>NaN</td>\n",
       "      <td>3063</td>\n",
       "      <td>34.048038</td>\n",
       "      <td>-118.253738</td>\n",
       "    </tr>\n",
       "    <tr>\n",
       "      <th>94852</th>\n",
       "      <td>3000</td>\n",
       "      <td>NaN</td>\n",
       "      <td>NaN</td>\n",
       "      <td>3063</td>\n",
       "      <td>34.048038</td>\n",
       "      <td>-118.253738</td>\n",
       "    </tr>\n",
       "    <tr>\n",
       "      <th>94873</th>\n",
       "      <td>3000</td>\n",
       "      <td>NaN</td>\n",
       "      <td>NaN</td>\n",
       "      <td>3063</td>\n",
       "      <td>34.048038</td>\n",
       "      <td>-118.253738</td>\n",
       "    </tr>\n",
       "    <tr>\n",
       "      <th>94874</th>\n",
       "      <td>3040</td>\n",
       "      <td>34.053570</td>\n",
       "      <td>-118.266357</td>\n",
       "      <td>3000</td>\n",
       "      <td>NaN</td>\n",
       "      <td>NaN</td>\n",
       "    </tr>\n",
       "    <tr>\n",
       "      <th>94884</th>\n",
       "      <td>3040</td>\n",
       "      <td>34.053570</td>\n",
       "      <td>-118.266357</td>\n",
       "      <td>3000</td>\n",
       "      <td>NaN</td>\n",
       "      <td>NaN</td>\n",
       "    </tr>\n",
       "    <tr>\n",
       "      <th>94902</th>\n",
       "      <td>3069</td>\n",
       "      <td>34.050880</td>\n",
       "      <td>-118.248253</td>\n",
       "      <td>3000</td>\n",
       "      <td>NaN</td>\n",
       "      <td>NaN</td>\n",
       "    </tr>\n",
       "    <tr>\n",
       "      <th>94916</th>\n",
       "      <td>3032</td>\n",
       "      <td>34.049889</td>\n",
       "      <td>-118.255882</td>\n",
       "      <td>3000</td>\n",
       "      <td>NaN</td>\n",
       "      <td>NaN</td>\n",
       "    </tr>\n",
       "    <tr>\n",
       "      <th>95014</th>\n",
       "      <td>3069</td>\n",
       "      <td>34.050880</td>\n",
       "      <td>-118.248253</td>\n",
       "      <td>3000</td>\n",
       "      <td>NaN</td>\n",
       "      <td>NaN</td>\n",
       "    </tr>\n",
       "    <tr>\n",
       "      <th>95165</th>\n",
       "      <td>4215</td>\n",
       "      <td>34.014309</td>\n",
       "      <td>-118.491341</td>\n",
       "      <td>3000</td>\n",
       "      <td>NaN</td>\n",
       "      <td>NaN</td>\n",
       "    </tr>\n",
       "    <tr>\n",
       "      <th>95189</th>\n",
       "      <td>4202</td>\n",
       "      <td>33.991161</td>\n",
       "      <td>-118.468292</td>\n",
       "      <td>3000</td>\n",
       "      <td>NaN</td>\n",
       "      <td>NaN</td>\n",
       "    </tr>\n",
       "  </tbody>\n",
       "</table>\n",
       "<p>2084 rows × 6 columns</p>\n",
       "</div>"
      ],
      "text/plain": [
       "       start_station  start_lat   start_lon  end_station    end_lat  \\\n",
       "50              4215  34.014309 -118.491341         3000        NaN   \n",
       "198             3032  34.049889 -118.255882         3000        NaN   \n",
       "250             3022  34.046070 -118.233093         3000        NaN   \n",
       "287             4216  34.023392 -118.479637         3000        NaN   \n",
       "338             3000        NaN         NaN         3069  34.050880   \n",
       "340             3000        NaN         NaN         3069  34.050880   \n",
       "341             4207  34.000881 -118.468910         3000        NaN   \n",
       "350             3000        NaN         NaN         3032  34.049889   \n",
       "428             3079  34.050140 -118.233238         3000        NaN   \n",
       "452             3058  34.035801 -118.233170         3000        NaN   \n",
       "735             4154  34.156120 -118.151192         3000        NaN   \n",
       "736             4208  33.998680 -118.472977         3000        NaN   \n",
       "754             3069  34.050880 -118.248253         3000        NaN   \n",
       "1036            3040  34.053570 -118.266357         3000        NaN   \n",
       "1044            4138  34.145691 -118.148239         3000        NaN   \n",
       "1325            4177  34.144981 -118.138260         3000        NaN   \n",
       "1414            3049  34.056969 -118.253593         3000        NaN   \n",
       "1451            3049  34.056969 -118.253593         3000        NaN   \n",
       "1499            4212  33.988129 -118.471741         3000        NaN   \n",
       "1506            3042  34.049301 -118.238808         3000        NaN   \n",
       "1797            4214  33.995560 -118.481552         3000        NaN   \n",
       "1884            3023  34.050911 -118.240967         3000        NaN   \n",
       "1919            4214  33.995560 -118.481552         3000        NaN   \n",
       "2233            4214  33.995560 -118.481552         3000        NaN   \n",
       "2249            3075  34.042110 -118.256187         3000        NaN   \n",
       "2275            3078  34.064281 -118.238937         3000        NaN   \n",
       "2298            3082  34.046520 -118.237411         3000        NaN   \n",
       "2363            4166  34.145908 -118.121750         3000        NaN   \n",
       "2369            4212  33.988129 -118.471741         3000        NaN   \n",
       "2374            4142  34.144588 -118.144592         3000        NaN   \n",
       "...              ...        ...         ...          ...        ...   \n",
       "94759           3000        NaN         NaN         3064  34.046810   \n",
       "94760           3068  34.053200 -118.250954         3000        NaN   \n",
       "94765           3068  34.053200 -118.250954         3000        NaN   \n",
       "94766           3000        NaN         NaN         3000        NaN   \n",
       "94769           3000        NaN         NaN         3032  34.049889   \n",
       "94773           3040  34.053570 -118.266357         3000        NaN   \n",
       "94774           3000        NaN         NaN         3032  34.049889   \n",
       "94778           3000        NaN         NaN         3032  34.049889   \n",
       "94779           3000        NaN         NaN         3000        NaN   \n",
       "94782           3000        NaN         NaN         3000        NaN   \n",
       "94786           3000        NaN         NaN         3064  34.046810   \n",
       "94788           3000        NaN         NaN         3069  34.050880   \n",
       "94790           3000        NaN         NaN         3040  34.053570   \n",
       "94791           3000        NaN         NaN         3069  34.050880   \n",
       "94795           3000        NaN         NaN         3040  34.053570   \n",
       "94796           3000        NaN         NaN         3007  34.050480   \n",
       "94797           3000        NaN         NaN         3069  34.050880   \n",
       "94804           3000        NaN         NaN         3024  34.057720   \n",
       "94814           3000        NaN         NaN         3069  34.050880   \n",
       "94818           3000        NaN         NaN         3069  34.050880   \n",
       "94842           3000        NaN         NaN         3063  34.048038   \n",
       "94852           3000        NaN         NaN         3063  34.048038   \n",
       "94873           3000        NaN         NaN         3063  34.048038   \n",
       "94874           3040  34.053570 -118.266357         3000        NaN   \n",
       "94884           3040  34.053570 -118.266357         3000        NaN   \n",
       "94902           3069  34.050880 -118.248253         3000        NaN   \n",
       "94916           3032  34.049889 -118.255882         3000        NaN   \n",
       "95014           3069  34.050880 -118.248253         3000        NaN   \n",
       "95165           4215  34.014309 -118.491341         3000        NaN   \n",
       "95189           4202  33.991161 -118.468292         3000        NaN   \n",
       "\n",
       "          end_lon  \n",
       "50            NaN  \n",
       "198           NaN  \n",
       "250           NaN  \n",
       "287           NaN  \n",
       "338   -118.248253  \n",
       "340   -118.248253  \n",
       "341           NaN  \n",
       "350   -118.255882  \n",
       "428           NaN  \n",
       "452           NaN  \n",
       "735           NaN  \n",
       "736           NaN  \n",
       "754           NaN  \n",
       "1036          NaN  \n",
       "1044          NaN  \n",
       "1325          NaN  \n",
       "1414          NaN  \n",
       "1451          NaN  \n",
       "1499          NaN  \n",
       "1506          NaN  \n",
       "1797          NaN  \n",
       "1884          NaN  \n",
       "1919          NaN  \n",
       "2233          NaN  \n",
       "2249          NaN  \n",
       "2275          NaN  \n",
       "2298          NaN  \n",
       "2363          NaN  \n",
       "2369          NaN  \n",
       "2374          NaN  \n",
       "...           ...  \n",
       "94759 -118.256981  \n",
       "94760         NaN  \n",
       "94765         NaN  \n",
       "94766         NaN  \n",
       "94769 -118.255882  \n",
       "94773         NaN  \n",
       "94774 -118.255882  \n",
       "94778 -118.255882  \n",
       "94779         NaN  \n",
       "94782         NaN  \n",
       "94786 -118.256981  \n",
       "94788 -118.248253  \n",
       "94790 -118.266357  \n",
       "94791 -118.248253  \n",
       "94795 -118.266357  \n",
       "94796 -118.254593  \n",
       "94797 -118.248253  \n",
       "94804 -118.248970  \n",
       "94814 -118.248253  \n",
       "94818 -118.248253  \n",
       "94842 -118.253738  \n",
       "94852 -118.253738  \n",
       "94873 -118.253738  \n",
       "94874         NaN  \n",
       "94884         NaN  \n",
       "94902         NaN  \n",
       "94916         NaN  \n",
       "95014         NaN  \n",
       "95165         NaN  \n",
       "95189         NaN  \n",
       "\n",
       "[2084 rows x 6 columns]"
      ]
     },
     "execution_count": 6,
     "metadata": {},
     "output_type": "execute_result"
    }
   ],
   "source": [
    "# Output from bikes.csv\n",
    "# Check for lon lat in all entries to identify that it is the only one\n",
    "bike[bike['start_lat'].isnull() | bike['end_lat'].isnull() | bike['start_lon'].isnull() | bike['end_lon'].isnull()][['start_station', 'start_lat', 'start_lon', 'end_station', 'end_lat', 'end_lon']]"
   ]
  },
  {
   "cell_type": "markdown",
   "metadata": {},
   "source": [
    "As shown above Station 3000 is the only station to only have a missing Lon and Lat, and as stated by the metro website where the dataset can be obtained, station 3000 is stated to be a \"Virtual Station\". Therefore dropping this station from the dataset as it contains non-standard values"
   ]
  },
  {
   "cell_type": "code",
   "execution_count": 7,
   "metadata": {
    "scrolled": true
   },
   "outputs": [],
   "source": [
    "bike_cleaned = bike.dropna(how='any',axis=0)"
   ]
  },
  {
   "cell_type": "code",
   "execution_count": 8,
   "metadata": {
    "scrolled": true
   },
   "outputs": [
    {
     "data": {
      "text/html": [
       "<div>\n",
       "<style scoped>\n",
       "    .dataframe tbody tr th:only-of-type {\n",
       "        vertical-align: middle;\n",
       "    }\n",
       "\n",
       "    .dataframe tbody tr th {\n",
       "        vertical-align: top;\n",
       "    }\n",
       "\n",
       "    .dataframe thead th {\n",
       "        text-align: right;\n",
       "    }\n",
       "</style>\n",
       "<table border=\"1\" class=\"dataframe\">\n",
       "  <thead>\n",
       "    <tr style=\"text-align: right;\">\n",
       "      <th></th>\n",
       "      <th>trip_id</th>\n",
       "      <th>duration</th>\n",
       "      <th>start_station</th>\n",
       "      <th>start_lat</th>\n",
       "      <th>start_lon</th>\n",
       "      <th>end_station</th>\n",
       "      <th>end_lat</th>\n",
       "      <th>end_lon</th>\n",
       "      <th>bike_id</th>\n",
       "      <th>plan_duration</th>\n",
       "    </tr>\n",
       "  </thead>\n",
       "  <tbody>\n",
       "    <tr>\n",
       "      <th>count</th>\n",
       "      <td>9.319900e+04</td>\n",
       "      <td>93199.000000</td>\n",
       "      <td>93199.000000</td>\n",
       "      <td>93199.000000</td>\n",
       "      <td>93199.000000</td>\n",
       "      <td>93199.000000</td>\n",
       "      <td>93199.000000</td>\n",
       "      <td>93199.000000</td>\n",
       "      <td>93199.000000</td>\n",
       "      <td>93199.000000</td>\n",
       "    </tr>\n",
       "    <tr>\n",
       "      <th>mean</th>\n",
       "      <td>1.020450e+08</td>\n",
       "      <td>39.150903</td>\n",
       "      <td>3453.815921</td>\n",
       "      <td>34.031744</td>\n",
       "      <td>-118.297169</td>\n",
       "      <td>3454.848282</td>\n",
       "      <td>34.031997</td>\n",
       "      <td>-118.297607</td>\n",
       "      <td>8329.991781</td>\n",
       "      <td>22.573000</td>\n",
       "    </tr>\n",
       "    <tr>\n",
       "      <th>std</th>\n",
       "      <td>3.391003e+06</td>\n",
       "      <td>106.635812</td>\n",
       "      <td>555.496890</td>\n",
       "      <td>0.064308</td>\n",
       "      <td>0.102349</td>\n",
       "      <td>556.044923</td>\n",
       "      <td>0.063870</td>\n",
       "      <td>0.103344</td>\n",
       "      <td>2889.897390</td>\n",
       "      <td>51.592113</td>\n",
       "    </tr>\n",
       "    <tr>\n",
       "      <th>min</th>\n",
       "      <td>9.485113e+07</td>\n",
       "      <td>1.000000</td>\n",
       "      <td>3005.000000</td>\n",
       "      <td>33.710979</td>\n",
       "      <td>-118.491341</td>\n",
       "      <td>3005.000000</td>\n",
       "      <td>33.710979</td>\n",
       "      <td>-118.491341</td>\n",
       "      <td>4727.000000</td>\n",
       "      <td>1.000000</td>\n",
       "    </tr>\n",
       "    <tr>\n",
       "      <th>25%</th>\n",
       "      <td>9.919732e+07</td>\n",
       "      <td>7.000000</td>\n",
       "      <td>3030.000000</td>\n",
       "      <td>34.014309</td>\n",
       "      <td>-118.282722</td>\n",
       "      <td>3031.000000</td>\n",
       "      <td>34.014309</td>\n",
       "      <td>-118.283409</td>\n",
       "      <td>6087.000000</td>\n",
       "      <td>1.000000</td>\n",
       "    </tr>\n",
       "    <tr>\n",
       "      <th>50%</th>\n",
       "      <td>1.033932e+08</td>\n",
       "      <td>14.000000</td>\n",
       "      <td>3064.000000</td>\n",
       "      <td>34.045422</td>\n",
       "      <td>-118.256187</td>\n",
       "      <td>3064.000000</td>\n",
       "      <td>34.045181</td>\n",
       "      <td>-118.256187</td>\n",
       "      <td>6484.000000</td>\n",
       "      <td>30.000000</td>\n",
       "    </tr>\n",
       "    <tr>\n",
       "      <th>75%</th>\n",
       "      <td>1.048693e+08</td>\n",
       "      <td>33.000000</td>\n",
       "      <td>4204.000000</td>\n",
       "      <td>34.050880</td>\n",
       "      <td>-118.243530</td>\n",
       "      <td>4204.000000</td>\n",
       "      <td>34.049889</td>\n",
       "      <td>-118.243530</td>\n",
       "      <td>12110.000000</td>\n",
       "      <td>30.000000</td>\n",
       "    </tr>\n",
       "    <tr>\n",
       "      <th>max</th>\n",
       "      <td>1.065433e+08</td>\n",
       "      <td>1440.000000</td>\n",
       "      <td>4267.000000</td>\n",
       "      <td>34.165291</td>\n",
       "      <td>-118.116539</td>\n",
       "      <td>4267.000000</td>\n",
       "      <td>34.165291</td>\n",
       "      <td>-118.116539</td>\n",
       "      <td>12456.000000</td>\n",
       "      <td>365.000000</td>\n",
       "    </tr>\n",
       "  </tbody>\n",
       "</table>\n",
       "</div>"
      ],
      "text/plain": [
       "            trip_id      duration  start_station     start_lat     start_lon  \\\n",
       "count  9.319900e+04  93199.000000   93199.000000  93199.000000  93199.000000   \n",
       "mean   1.020450e+08     39.150903    3453.815921     34.031744   -118.297169   \n",
       "std    3.391003e+06    106.635812     555.496890      0.064308      0.102349   \n",
       "min    9.485113e+07      1.000000    3005.000000     33.710979   -118.491341   \n",
       "25%    9.919732e+07      7.000000    3030.000000     34.014309   -118.282722   \n",
       "50%    1.033932e+08     14.000000    3064.000000     34.045422   -118.256187   \n",
       "75%    1.048693e+08     33.000000    4204.000000     34.050880   -118.243530   \n",
       "max    1.065433e+08   1440.000000    4267.000000     34.165291   -118.116539   \n",
       "\n",
       "        end_station       end_lat       end_lon       bike_id  plan_duration  \n",
       "count  93199.000000  93199.000000  93199.000000  93199.000000   93199.000000  \n",
       "mean    3454.848282     34.031997   -118.297607   8329.991781      22.573000  \n",
       "std      556.044923      0.063870      0.103344   2889.897390      51.592113  \n",
       "min     3005.000000     33.710979   -118.491341   4727.000000       1.000000  \n",
       "25%     3031.000000     34.014309   -118.283409   6087.000000       1.000000  \n",
       "50%     3064.000000     34.045181   -118.256187   6484.000000      30.000000  \n",
       "75%     4204.000000     34.049889   -118.243530  12110.000000      30.000000  \n",
       "max     4267.000000     34.165291   -118.116539  12456.000000     365.000000  "
      ]
     },
     "execution_count": 8,
     "metadata": {},
     "output_type": "execute_result"
    }
   ],
   "source": [
    "bike_cleaned.describe()"
   ]
  },
  {
   "cell_type": "code",
   "execution_count": 9,
   "metadata": {},
   "outputs": [
    {
     "data": {
      "text/plain": [
       "count       93199\n",
       "unique          5\n",
       "top       Walk-up\n",
       "freq        44076\n",
       "Name: passholder_type, dtype: object"
      ]
     },
     "execution_count": 9,
     "metadata": {},
     "output_type": "execute_result"
    }
   ],
   "source": [
    "bike_cleaned['passholder_type'].describe()"
   ]
  },
  {
   "cell_type": "code",
   "execution_count": 10,
   "metadata": {
    "scrolled": true
   },
   "outputs": [
    {
     "data": {
      "text/plain": [
       "count       93199\n",
       "unique          2\n",
       "top       One Way\n",
       "freq        74986\n",
       "Name: trip_route_category, dtype: object"
      ]
     },
     "execution_count": 10,
     "metadata": {},
     "output_type": "execute_result"
    }
   ],
   "source": [
    "bike_cleaned['trip_route_category'].describe()"
   ]
  },
  {
   "cell_type": "markdown",
   "metadata": {},
   "source": [
    "From these basic statistics we can identify that the most popular passholder type is 'Walk-up' and people generally only go on One way trips"
   ]
  },
  {
   "cell_type": "markdown",
   "metadata": {},
   "source": [
    "## Duration statistics"
   ]
  },
  {
   "cell_type": "code",
   "execution_count": 11,
   "metadata": {
    "scrolled": true
   },
   "outputs": [
    {
     "data": {
      "text/plain": [
       "<matplotlib.axes._subplots.AxesSubplot at 0x7f17218a9fd0>"
      ]
     },
     "execution_count": 11,
     "metadata": {},
     "output_type": "execute_result"
    },
    {
     "data": {
      "image/png": "[encoded data removed]",
      "text/plain": [
       "<Figure size 432x288 with 1 Axes>"
      ]
     },
     "metadata": {
      "needs_background": "light"
     },
     "output_type": "display_data"
    }
   ],
   "source": [
    "bike_cleaned['duration'].plot.hist(bins=100, logy=True, title='Duration over time')"
   ]
  },
  {
   "cell_type": "markdown",
   "metadata": {},
   "source": [
    "#### Stats of the duration column"
   ]
  },
  {
   "cell_type": "code",
   "execution_count": 12,
   "metadata": {},
   "outputs": [
    {
     "name": "stdout",
     "output_type": "stream",
     "text": [
      "Mean\n",
      "39.15090290668355\n",
      "Median\n",
      "14.0\n",
      "Standard Deviation\n",
      "106.63523998879094\n",
      "Variance\n",
      "11371.07440746704\n"
     ]
    }
   ],
   "source": [
    "print('Mean')\n",
    "print(bike_cleaned['duration'].mean())\n",
    "print('Median')\n",
    "print(bike_cleaned['duration'].median())\n",
    "print('Standard Deviation')\n",
    "print(np.std(bike_cleaned['duration']))\n",
    "print('Variance')\n",
    "print(np.var(bike_cleaned['duration']))"
   ]
  },
  {
   "cell_type": "code",
   "execution_count": 13,
   "metadata": {},
   "outputs": [
    {
     "data": {
      "text/plain": [
       "count    93199.000000\n",
       "mean        39.150903\n",
       "std        106.635812\n",
       "min          1.000000\n",
       "25%          7.000000\n",
       "50%         14.000000\n",
       "75%         33.000000\n",
       "max       1440.000000\n",
       "Name: duration, dtype: float64"
      ]
     },
     "execution_count": 13,
     "metadata": {},
     "output_type": "execute_result"
    }
   ],
   "source": [
    "bike_cleaned['duration'].describe()"
   ]
  },
  {
   "cell_type": "code",
   "execution_count": 14,
   "metadata": {},
   "outputs": [
    {
     "name": "stdout",
     "output_type": "stream",
     "text": [
      "Walk-up         44076\n",
      "Monthly Pass    43102\n",
      "One Day Pass     4445\n",
      "Flex Pass        1566\n",
      "Annual Pass        10\n",
      "Name: passholder_type, dtype: int64 \n",
      "\n",
      " Frequency: \n",
      " Walk-up         0.472924\n",
      "Monthly Pass    0.462473\n",
      "One Day Pass    0.047694\n",
      "Flex Pass       0.016803\n",
      "Annual Pass     0.000107\n",
      "Name: passholder_type, dtype: float64\n"
     ]
    }
   ],
   "source": [
    "print(bike_cleaned['passholder_type'].value_counts(), '\\n\\n', 'Frequency: \\n', bike_cleaned['passholder_type'].value_counts(normalize=True))"
   ]
  },
  {
   "cell_type": "markdown",
   "metadata": {},
   "source": [
    "##### Station 3000 against duration and effect on data"
   ]
  },
  {
   "cell_type": "code",
   "execution_count": 15,
   "metadata": {},
   "outputs": [],
   "source": [
    "bike_station_3000 = bike[bike['start_lat'].isnull() | bike['end_lat'].isnull()]"
   ]
  },
  {
   "cell_type": "code",
   "execution_count": 16,
   "metadata": {
    "scrolled": true
   },
   "outputs": [
    {
     "data": {
      "text/plain": [
       "<matplotlib.axes._subplots.AxesSubplot at 0x7f1721d1a978>"
      ]
     },
     "execution_count": 16,
     "metadata": {},
     "output_type": "execute_result"
    },
    {
     "data": {
      "image/png": "[encoded data removed]",
      "text/plain": [
       "<Figure size 432x288 with 1 Axes>"
      ]
     },
     "metadata": {
      "needs_background": "light"
     },
     "output_type": "display_data"
    }
   ],
   "source": [
    "bike_station_3000['duration'].plot.hist(bins=100, logy=True, title='Duration over station 3000')"
   ]
  },
  {
   "cell_type": "markdown",
   "metadata": {},
   "source": [
    "As the plot shows, the duration data from station 3000 is heavily right skewed and has a high probability to have a max duration above 1400 - described in the statistics below, when comparing the duration of all other stations to station 3000\n",
    "\n"
   ]
  },
  {
   "cell_type": "code",
   "execution_count": 17,
   "metadata": {
    "scrolled": true
   },
   "outputs": [
    {
     "name": "stdout",
     "output_type": "stream",
     "text": [
      "count    93199.000000\n",
      "mean        39.150903\n",
      "std        106.635812\n",
      "min          1.000000\n",
      "25%          7.000000\n",
      "50%         14.000000\n",
      "75%         33.000000\n",
      "max       1440.000000\n",
      "Name: duration, dtype: float64 \n",
      "\n",
      "  count    2084.000000\n",
      "mean      458.312860\n",
      "std       570.550371\n",
      "min         1.000000\n",
      "25%        49.000000\n",
      "50%       129.000000\n",
      "75%      1087.500000\n",
      "max      1440.000000\n",
      "Name: duration, dtype: float64\n"
     ]
    }
   ],
   "source": [
    "print(bike_cleaned['duration'].describe(), '\\n\\n ', bike_station_3000['duration'].describe())"
   ]
  },
  {
   "cell_type": "markdown",
   "metadata": {},
   "source": [
    "Both count and standard deviation are very different from each other which may suggest that they have different distributions"
   ]
  },
  {
   "cell_type": "code",
   "execution_count": 18,
   "metadata": {},
   "outputs": [
    {
     "name": "stdout",
     "output_type": "stream",
     "text": [
      "Station 3000:  0.952220627995309\n",
      "Bike Cleaned:  8.914564904653744\n"
     ]
    }
   ],
   "source": [
    "from scipy.stats import skew\n",
    "print(\"Station 3000: \", skew(bike_station_3000['duration']))\n",
    "print(\"Bike Cleaned: \", skew(bike_cleaned['duration']))"
   ]
  },
  {
   "cell_type": "markdown",
   "metadata": {},
   "source": [
    "Station 3000: This shows that the data is positively skewed towards 0, however based on the mean being 458.31 and what the plot shows the data is heavily negatively skewed towards the mean of the data, regardless of the max value of the station\n",
    "<br>\n",
    "Bike Cleaned: This shows that the data is positively skewed, but when skewing against the mean of the data it is heavily negatively skewed\n",
    "\n",
    "Both are different skews which also indicates that they have different distributions"
   ]
  },
  {
   "cell_type": "code",
   "execution_count": 19,
   "metadata": {},
   "outputs": [
    {
     "name": "stdout",
     "output_type": "stream",
     "text": [
      "count    93199.000000\n",
      "mean        39.150903\n",
      "std        106.635812\n",
      "min          1.000000\n",
      "25%          7.000000\n",
      "50%         14.000000\n",
      "75%         33.000000\n",
      "max       1440.000000\n",
      "Name: duration, dtype: float64\n"
     ]
    },
    {
     "data": {
      "image/png": "[encoded data removed]",
      "text/plain": [
       "<Figure size 432x288 with 1 Axes>"
      ]
     },
     "metadata": {
      "needs_background": "light"
     },
     "output_type": "display_data"
    }
   ],
   "source": [
    "bike_cleaned['duration'].plot.hist(bins=100, logy=True, title='Duration over time')\n",
    "print(bike_cleaned['duration'].describe())"
   ]
  },
  {
   "cell_type": "code",
   "execution_count": 20,
   "metadata": {},
   "outputs": [
    {
     "name": "stdout",
     "output_type": "stream",
     "text": [
      "Variance of cleaned bike data: 11371.07440746704\n",
      "Variance of Station 3000 data: 325371.52208030474\n"
     ]
    }
   ],
   "source": [
    "# Compare the distrubtion type of the two data (NO NEED for P-value as it is not normally distributed) compare variance of data\n",
    "print('Variance of cleaned bike data:', np.var(bike_cleaned['duration']))\n",
    "print('Variance of Station 3000 data:', np.var(bike_station_3000['duration']))"
   ]
  },
  {
   "cell_type": "markdown",
   "metadata": {},
   "source": [
    "##### Comparing Variances\n",
    "\n",
    "An F-test will be used to compare these based on 121 samples from each dataset, the degrees of freedom will be calculated and the aplha level identified - both for single and two tailed"
   ]
  },
  {
   "cell_type": "markdown",
   "metadata": {},
   "source": [
    "Null Hypothesis H0: The distributions are the same\n",
    "<br> \n",
    "Alternative Hypothesis H1: They have different distributions\n",
    "\n",
    "##### F-Test\n",
    "\n",
    "For this a sample of 121 will be taken from each dataset, due to the variance being considerable in each dataset"
   ]
  },
  {
   "cell_type": "code",
   "execution_count": 79,
   "metadata": {},
   "outputs": [
    {
     "name": "stdout",
     "output_type": "stream",
     "text": [
      "55397.24772898026 417037.31821596884\n",
      "F-statistic: 7.528123423319492\n"
     ]
    }
   ],
   "source": [
    "bike_cleaned_sample = bike_cleaned.head(121)\n",
    "bike_3000_sample = bike_station_3000.head(121)\n",
    "\n",
    "bike_var = np.var(bike_cleaned_sample['duration'])\n",
    "bike_3000_var = np.var(bike_3000_sample['duration'])\n",
    "print(bike_var, bike_3000_var)\n",
    "\n",
    "f_value = np.divide(bike_3000_var, bike_var)\n",
    "print('F-statistic:', f_value)"
   ]
  },
  {
   "cell_type": "code",
   "execution_count": 80,
   "metadata": {},
   "outputs": [
    {
     "name": "stdout",
     "output_type": "stream",
     "text": [
      "120 120\n",
      "7.528123423319492 > 1.433 at alpha level 0.025\n",
      "Therefore the null hypothesis can be rejected for two tailed\n",
      "7.528123423319492 > 1.3519 at alpha level 0.05\n",
      "Therefore the null hypothesis can be rejected for single tailed\n"
     ]
    }
   ],
   "source": [
    "#Degrees of freedom\n",
    "freedom_3000 = len(bike_cleaned_sample['duration']) - 1\n",
    "freedom_bike = len(bike_3000_sample['duration']) -1\n",
    "\n",
    "print(freedom_3000, freedom_bike)\n",
    "\n",
    "alpha_level = 0.025 # Looking up the f-table for F-statistic 28.61.. Between DF2(3)/DF1(4-5)\n",
    "\n",
    "# 28.710\n",
    "print(f_value, '> 1.433 at alpha level 0.025')\n",
    "print('Therefore the null hypothesis can be rejected for two tailed')\n",
    "print(f_value, '> 1.3519 at alpha level 0.05')\n",
    "print('Therefore the null hypothesis can be rejected for single tailed')"
   ]
  },
  {
   "cell_type": "markdown",
   "metadata": {},
   "source": [
    "This shows that the null hypthesis does not apply here, and shows that both datasets have different distributions"
   ]
  },
  {
   "cell_type": "code",
   "execution_count": 82,
   "metadata": {},
   "outputs": [
    {
     "name": "stdout",
     "output_type": "stream",
     "text": [
      "P-Value:  0.0\n"
     ]
    }
   ],
   "source": [
    "# P-value: mannwhitneyU test\n",
    "\n",
    "print(\"P-Value: \", mannwhitneyu(bike_station_3000['duration'], bike_cleaned['duration']).pvalue)"
   ]
  },
  {
   "cell_type": "markdown",
   "metadata": {},
   "source": [
    "##### Assumptions\n",
    "\n",
    "There is only one dependant variable used in this - duration\n",
    "\n",
    "An independant variable that is split into, with/without station 3000\n",
    "\n",
    "The low Pvalue shows that the data is not normally distributed\n",
    "\n",
    "By adding station 3000 to the data it would skew the data, specifically the duration value and may provide inaccurate results in later analysis"
   ]
  },
  {
   "cell_type": "code",
   "execution_count": 25,
   "metadata": {},
   "outputs": [
    {
     "name": "stdout",
     "output_type": "stream",
     "text": [
      "Mean\n",
      "39.15090290668355\n",
      "Median\n",
      "14.0\n",
      "\n",
      "3000 Mean\n",
      "458.3128598848368\n",
      "3000 Median\n",
      "129.0\n"
     ]
    }
   ],
   "source": [
    "# median and mean\n",
    "print('Mean')\n",
    "print(bike_cleaned['duration'].mean())\n",
    "print('Median')\n",
    "print(bike_cleaned['duration'].median())\n",
    "\n",
    "print(\"\")\n",
    "print(\"3000 Mean\")\n",
    "print(bike_station_3000['duration'].mean())\n",
    "print(\"3000 Median\")\n",
    "print(bike_station_3000['duration'].median())"
   ]
  },
  {
   "cell_type": "code",
   "execution_count": 26,
   "metadata": {},
   "outputs": [
    {
     "data": {
      "text/plain": [
       "<matplotlib.axes._subplots.AxesSubplot at 0x7f171f87b780>"
      ]
     },
     "execution_count": 26,
     "metadata": {},
     "output_type": "execute_result"
    },
    {
     "data": {
      "image/png": "[encoded data removed]",
      "text/plain": [
       "<Figure size 432x288 with 1 Axes>"
      ]
     },
     "metadata": {
      "needs_background": "light"
     },
     "output_type": "display_data"
    }
   ],
   "source": [
    "bike_cleaned['duration'].plot.hist(bins=100, logy=True, title='Duration over time')"
   ]
  },
  {
   "cell_type": "markdown",
   "metadata": {},
   "source": [
    "As shown in the statistics above and the skew of this data, the duration field is positively skewed. Most of the data resides in the 25th percentile, where as fequency of the trips increase the shorter the duration. \n",
    "Although there is an unusal value residing at ~1450 which could possibly be an outlier.\n",
    "\n",
    "What can be observed from this in terms of trip length is that the majority of people are hiring the bikes for short journeys that have a low duration.\n",
    "\n",
    "The median also shows that the majority of journeys are under 14 minutes and the high sd value shows that the duration is well spread thoughout the dataset"
   ]
  },
  {
   "cell_type": "markdown",
   "metadata": {},
   "source": [
    "## Comparision of Passholder type against duration\n",
    "\n",
    "Produce a plot showing how the distribution of duration relates to passholder\n",
    "type."
   ]
  },
  {
   "cell_type": "code",
   "execution_count": 27,
   "metadata": {},
   "outputs": [
    {
     "name": "stdout",
     "output_type": "stream",
     "text": [
      "Walk-up         44076\n",
      "Monthly Pass    43102\n",
      "One Day Pass     4445\n",
      "Flex Pass        1566\n",
      "Annual Pass        10\n",
      "Name: passholder_type, dtype: int64 \n",
      "\n",
      " Frequency: \n",
      " Walk-up         0.472924\n",
      "Monthly Pass    0.462473\n",
      "One Day Pass    0.047694\n",
      "Flex Pass       0.016803\n",
      "Annual Pass     0.000107\n",
      "Name: passholder_type, dtype: float64\n"
     ]
    }
   ],
   "source": [
    "print(bike_cleaned['passholder_type'].value_counts(), '\\n\\n', 'Frequency: \\n', bike_cleaned['passholder_type'].value_counts(normalize=True))"
   ]
  },
  {
   "cell_type": "code",
   "execution_count": 28,
   "metadata": {},
   "outputs": [
    {
     "data": {
      "image/png": "[encoded data removed]",
      "text/plain": [
       "<Figure size 432x288 with 1 Axes>"
      ]
     },
     "metadata": {
      "needs_background": "light"
     },
     "output_type": "display_data"
    }
   ],
   "source": [
    "fig, ax = plt.subplots()\n",
    "\n",
    "bike_cleaned[['passholder_type', 'duration']].boxplot(by='passholder_type', ax=ax, showfliers=False)\n",
    "ax.set_yscale('log')\n",
    "plt.ylabel('duration')\n",
    "plt.xlabel('passholder type');"
   ]
  },
  {
   "cell_type": "code",
   "execution_count": 29,
   "metadata": {
    "scrolled": true
   },
   "outputs": [
    {
     "name": "stdout",
     "output_type": "stream",
     "text": [
      "With Fliers\n"
     ]
    },
    {
     "data": {
      "image/png": "[encoded data removed]",
      "text/plain": [
       "<Figure size 432x288 with 1 Axes>"
      ]
     },
     "metadata": {
      "needs_background": "light"
     },
     "output_type": "display_data"
    }
   ],
   "source": [
    "print(\"With Fliers\")\n",
    "fig, ax = plt.subplots()\n",
    "bike_cleaned[['passholder_type', 'duration']].boxplot(by='passholder_type', ax=ax, showfliers=True)\n",
    "ax.set_yscale('log')\n",
    "plt.ylabel('duration')\n",
    "plt.xlabel('passholder type');"
   ]
  },
  {
   "cell_type": "markdown",
   "metadata": {},
   "source": [
    "From both of the box plots, Annual Pass has the least amount of spread/range compared to the other pass type and the smallest range, and has the smallet upper range compared to the others. This may be due to that the holders of this pass may be daily commuters only traveling at a specific time of the day, on specific days, although this is hard to prove from the data shown in the box plots as it doesn't show the sample sizes.\n",
    "\n",
    "Both one day pass and walk up holders have the highest average duration than that of the other passes, which shows that these could be the most popular passes. While Flex and Monthly pass have the lowest average duration with the lowest range.\n",
    "This suggests that these are not the most popular passes to use.\n",
    "\n",
    "- The number of samples in each distribution is different, this is due to each of the pass types having a different number of people with those pass types.\n"
   ]
  },
  {
   "cell_type": "code",
   "execution_count": 30,
   "metadata": {
    "scrolled": true
   },
   "outputs": [
    {
     "data": {
      "text/plain": [
       "Walk-up         44076\n",
       "Monthly Pass    43102\n",
       "One Day Pass     4445\n",
       "Flex Pass        1566\n",
       "Annual Pass        10\n",
       "Name: passholder_type, dtype: int64"
      ]
     },
     "execution_count": 30,
     "metadata": {},
     "output_type": "execute_result"
    }
   ],
   "source": [
    "bike_cleaned['passholder_type'].value_counts()"
   ]
  },
  {
   "cell_type": "markdown",
   "metadata": {},
   "source": [
    "## Mean duation between One Day Pass and Flex Pass passholders. "
   ]
  },
  {
   "cell_type": "code",
   "execution_count": 31,
   "metadata": {},
   "outputs": [
    {
     "data": {
      "text/html": [
       "<div>\n",
       "<style scoped>\n",
       "    .dataframe tbody tr th:only-of-type {\n",
       "        vertical-align: middle;\n",
       "    }\n",
       "\n",
       "    .dataframe tbody tr th {\n",
       "        vertical-align: top;\n",
       "    }\n",
       "\n",
       "    .dataframe thead th {\n",
       "        text-align: right;\n",
       "    }\n",
       "</style>\n",
       "<table border=\"1\" class=\"dataframe\">\n",
       "  <thead>\n",
       "    <tr style=\"text-align: right;\">\n",
       "      <th></th>\n",
       "      <th>trip_id</th>\n",
       "      <th>duration</th>\n",
       "      <th>start_time</th>\n",
       "      <th>end_time</th>\n",
       "      <th>start_station</th>\n",
       "      <th>start_lat</th>\n",
       "      <th>start_lon</th>\n",
       "      <th>end_station</th>\n",
       "      <th>end_lat</th>\n",
       "      <th>end_lon</th>\n",
       "      <th>bike_id</th>\n",
       "      <th>plan_duration</th>\n",
       "      <th>trip_route_category</th>\n",
       "      <th>passholder_type</th>\n",
       "    </tr>\n",
       "  </thead>\n",
       "  <tbody>\n",
       "    <tr>\n",
       "      <th>0</th>\n",
       "      <td>94851140</td>\n",
       "      <td>8</td>\n",
       "      <td>2018-07-01 00:04:00</td>\n",
       "      <td>2018-07-01 00:12:00</td>\n",
       "      <td>3058</td>\n",
       "      <td>34.035801</td>\n",
       "      <td>-118.233170</td>\n",
       "      <td>3082</td>\n",
       "      <td>34.046520</td>\n",
       "      <td>-118.237411</td>\n",
       "      <td>6279</td>\n",
       "      <td>30</td>\n",
       "      <td>One Way</td>\n",
       "      <td>Monthly Pass</td>\n",
       "    </tr>\n",
       "    <tr>\n",
       "      <th>1</th>\n",
       "      <td>94851141</td>\n",
       "      <td>8</td>\n",
       "      <td>2018-07-01 00:04:00</td>\n",
       "      <td>2018-07-01 00:12:00</td>\n",
       "      <td>3058</td>\n",
       "      <td>34.035801</td>\n",
       "      <td>-118.233170</td>\n",
       "      <td>3082</td>\n",
       "      <td>34.046520</td>\n",
       "      <td>-118.237411</td>\n",
       "      <td>6518</td>\n",
       "      <td>365</td>\n",
       "      <td>One Way</td>\n",
       "      <td>Flex Pass</td>\n",
       "    </tr>\n",
       "    <tr>\n",
       "      <th>2</th>\n",
       "      <td>94851138</td>\n",
       "      <td>15</td>\n",
       "      <td>2018-07-01 00:09:00</td>\n",
       "      <td>2018-07-01 00:24:00</td>\n",
       "      <td>4147</td>\n",
       "      <td>34.145248</td>\n",
       "      <td>-118.150070</td>\n",
       "      <td>4174</td>\n",
       "      <td>34.165291</td>\n",
       "      <td>-118.150970</td>\n",
       "      <td>4823</td>\n",
       "      <td>365</td>\n",
       "      <td>One Way</td>\n",
       "      <td>Monthly Pass</td>\n",
       "    </tr>\n",
       "    <tr>\n",
       "      <th>3</th>\n",
       "      <td>94851137</td>\n",
       "      <td>7</td>\n",
       "      <td>2018-07-01 00:22:00</td>\n",
       "      <td>2018-07-01 00:29:00</td>\n",
       "      <td>4157</td>\n",
       "      <td>34.140999</td>\n",
       "      <td>-118.132088</td>\n",
       "      <td>4162</td>\n",
       "      <td>34.147499</td>\n",
       "      <td>-118.148010</td>\n",
       "      <td>6115</td>\n",
       "      <td>30</td>\n",
       "      <td>One Way</td>\n",
       "      <td>Monthly Pass</td>\n",
       "    </tr>\n",
       "    <tr>\n",
       "      <th>4</th>\n",
       "      <td>94851136</td>\n",
       "      <td>35</td>\n",
       "      <td>2018-07-01 00:23:00</td>\n",
       "      <td>2018-07-01 00:58:00</td>\n",
       "      <td>3013</td>\n",
       "      <td>33.779819</td>\n",
       "      <td>-118.263023</td>\n",
       "      <td>3013</td>\n",
       "      <td>33.779819</td>\n",
       "      <td>-118.263023</td>\n",
       "      <td>12055</td>\n",
       "      <td>1</td>\n",
       "      <td>Round Trip</td>\n",
       "      <td>Walk-up</td>\n",
       "    </tr>\n",
       "    <tr>\n",
       "      <th>5</th>\n",
       "      <td>94851135</td>\n",
       "      <td>6</td>\n",
       "      <td>2018-07-01 00:38:00</td>\n",
       "      <td>2018-07-01 00:44:00</td>\n",
       "      <td>3029</td>\n",
       "      <td>34.048851</td>\n",
       "      <td>-118.246422</td>\n",
       "      <td>3082</td>\n",
       "      <td>34.046520</td>\n",
       "      <td>-118.237411</td>\n",
       "      <td>6370</td>\n",
       "      <td>1</td>\n",
       "      <td>One Way</td>\n",
       "      <td>Walk-up</td>\n",
       "    </tr>\n",
       "    <tr>\n",
       "      <th>6</th>\n",
       "      <td>94851134</td>\n",
       "      <td>5</td>\n",
       "      <td>2018-07-01 00:39:00</td>\n",
       "      <td>2018-07-01 00:44:00</td>\n",
       "      <td>3029</td>\n",
       "      <td>34.048851</td>\n",
       "      <td>-118.246422</td>\n",
       "      <td>3082</td>\n",
       "      <td>34.046520</td>\n",
       "      <td>-118.237411</td>\n",
       "      <td>6566</td>\n",
       "      <td>1</td>\n",
       "      <td>One Way</td>\n",
       "      <td>Walk-up</td>\n",
       "    </tr>\n",
       "    <tr>\n",
       "      <th>7</th>\n",
       "      <td>94857739</td>\n",
       "      <td>33</td>\n",
       "      <td>2018-07-01 00:40:00</td>\n",
       "      <td>2018-07-01 01:13:00</td>\n",
       "      <td>3069</td>\n",
       "      <td>34.050880</td>\n",
       "      <td>-118.248253</td>\n",
       "      <td>3075</td>\n",
       "      <td>34.042110</td>\n",
       "      <td>-118.256187</td>\n",
       "      <td>6407</td>\n",
       "      <td>1</td>\n",
       "      <td>One Way</td>\n",
       "      <td>Walk-up</td>\n",
       "    </tr>\n",
       "    <tr>\n",
       "      <th>8</th>\n",
       "      <td>94851133</td>\n",
       "      <td>6</td>\n",
       "      <td>2018-07-01 00:44:00</td>\n",
       "      <td>2018-07-01 00:50:00</td>\n",
       "      <td>3067</td>\n",
       "      <td>34.045181</td>\n",
       "      <td>-118.250237</td>\n",
       "      <td>3062</td>\n",
       "      <td>34.047749</td>\n",
       "      <td>-118.243172</td>\n",
       "      <td>5859</td>\n",
       "      <td>30</td>\n",
       "      <td>One Way</td>\n",
       "      <td>Monthly Pass</td>\n",
       "    </tr>\n",
       "    <tr>\n",
       "      <th>9</th>\n",
       "      <td>94851132</td>\n",
       "      <td>3</td>\n",
       "      <td>2018-07-01 00:46:00</td>\n",
       "      <td>2018-07-01 00:49:00</td>\n",
       "      <td>3034</td>\n",
       "      <td>34.042061</td>\n",
       "      <td>-118.263382</td>\n",
       "      <td>3074</td>\n",
       "      <td>34.044170</td>\n",
       "      <td>-118.261169</td>\n",
       "      <td>6562</td>\n",
       "      <td>30</td>\n",
       "      <td>One Way</td>\n",
       "      <td>Monthly Pass</td>\n",
       "    </tr>\n",
       "    <tr>\n",
       "      <th>10</th>\n",
       "      <td>94851130</td>\n",
       "      <td>7</td>\n",
       "      <td>2018-07-01 00:49:00</td>\n",
       "      <td>2018-07-01 00:56:00</td>\n",
       "      <td>3008</td>\n",
       "      <td>34.046612</td>\n",
       "      <td>-118.262733</td>\n",
       "      <td>3049</td>\n",
       "      <td>34.056969</td>\n",
       "      <td>-118.253593</td>\n",
       "      <td>12411</td>\n",
       "      <td>1</td>\n",
       "      <td>One Way</td>\n",
       "      <td>One Day Pass</td>\n",
       "    </tr>\n",
       "    <tr>\n",
       "      <th>11</th>\n",
       "      <td>94851131</td>\n",
       "      <td>7</td>\n",
       "      <td>2018-07-01 00:49:00</td>\n",
       "      <td>2018-07-01 00:56:00</td>\n",
       "      <td>3008</td>\n",
       "      <td>34.046612</td>\n",
       "      <td>-118.262733</td>\n",
       "      <td>3049</td>\n",
       "      <td>34.056969</td>\n",
       "      <td>-118.253593</td>\n",
       "      <td>12025</td>\n",
       "      <td>1</td>\n",
       "      <td>One Way</td>\n",
       "      <td>One Day Pass</td>\n",
       "    </tr>\n",
       "    <tr>\n",
       "      <th>12</th>\n",
       "      <td>94857733</td>\n",
       "      <td>19</td>\n",
       "      <td>2018-07-01 00:51:00</td>\n",
       "      <td>2018-07-01 01:10:00</td>\n",
       "      <td>4147</td>\n",
       "      <td>34.145248</td>\n",
       "      <td>-118.150070</td>\n",
       "      <td>4163</td>\n",
       "      <td>34.150471</td>\n",
       "      <td>-118.132019</td>\n",
       "      <td>6671</td>\n",
       "      <td>1</td>\n",
       "      <td>One Way</td>\n",
       "      <td>Walk-up</td>\n",
       "    </tr>\n",
       "    <tr>\n",
       "      <th>13</th>\n",
       "      <td>94857734</td>\n",
       "      <td>19</td>\n",
       "      <td>2018-07-01 00:51:00</td>\n",
       "      <td>2018-07-01 01:10:00</td>\n",
       "      <td>4147</td>\n",
       "      <td>34.145248</td>\n",
       "      <td>-118.150070</td>\n",
       "      <td>4163</td>\n",
       "      <td>34.150471</td>\n",
       "      <td>-118.132019</td>\n",
       "      <td>5824</td>\n",
       "      <td>1</td>\n",
       "      <td>One Way</td>\n",
       "      <td>Walk-up</td>\n",
       "    </tr>\n",
       "    <tr>\n",
       "      <th>14</th>\n",
       "      <td>94857732</td>\n",
       "      <td>16</td>\n",
       "      <td>2018-07-01 01:10:00</td>\n",
       "      <td>2018-07-01 01:26:00</td>\n",
       "      <td>3022</td>\n",
       "      <td>34.046070</td>\n",
       "      <td>-118.233093</td>\n",
       "      <td>3078</td>\n",
       "      <td>34.064281</td>\n",
       "      <td>-118.238937</td>\n",
       "      <td>6404</td>\n",
       "      <td>30</td>\n",
       "      <td>One Way</td>\n",
       "      <td>Monthly Pass</td>\n",
       "    </tr>\n",
       "    <tr>\n",
       "      <th>15</th>\n",
       "      <td>94857731</td>\n",
       "      <td>2</td>\n",
       "      <td>2018-07-01 01:29:00</td>\n",
       "      <td>2018-07-01 01:31:00</td>\n",
       "      <td>3064</td>\n",
       "      <td>34.046810</td>\n",
       "      <td>-118.256981</td>\n",
       "      <td>3031</td>\n",
       "      <td>34.044701</td>\n",
       "      <td>-118.252441</td>\n",
       "      <td>12091</td>\n",
       "      <td>30</td>\n",
       "      <td>One Way</td>\n",
       "      <td>Monthly Pass</td>\n",
       "    </tr>\n",
       "    <tr>\n",
       "      <th>16</th>\n",
       "      <td>94857730</td>\n",
       "      <td>21</td>\n",
       "      <td>2018-07-01 01:32:00</td>\n",
       "      <td>2018-07-01 01:53:00</td>\n",
       "      <td>4159</td>\n",
       "      <td>34.145901</td>\n",
       "      <td>-118.116539</td>\n",
       "      <td>4163</td>\n",
       "      <td>34.150471</td>\n",
       "      <td>-118.132019</td>\n",
       "      <td>5742</td>\n",
       "      <td>1</td>\n",
       "      <td>One Way</td>\n",
       "      <td>Walk-up</td>\n",
       "    </tr>\n",
       "    <tr>\n",
       "      <th>17</th>\n",
       "      <td>94897462</td>\n",
       "      <td>383</td>\n",
       "      <td>2018-07-01 01:35:00</td>\n",
       "      <td>2018-07-01 07:58:00</td>\n",
       "      <td>3063</td>\n",
       "      <td>34.048038</td>\n",
       "      <td>-118.253738</td>\n",
       "      <td>3038</td>\n",
       "      <td>34.046822</td>\n",
       "      <td>-118.248352</td>\n",
       "      <td>6137</td>\n",
       "      <td>30</td>\n",
       "      <td>One Way</td>\n",
       "      <td>Monthly Pass</td>\n",
       "    </tr>\n",
       "    <tr>\n",
       "      <th>18</th>\n",
       "      <td>94864344</td>\n",
       "      <td>17</td>\n",
       "      <td>2018-07-01 01:47:00</td>\n",
       "      <td>2018-07-01 02:04:00</td>\n",
       "      <td>3067</td>\n",
       "      <td>34.045181</td>\n",
       "      <td>-118.250237</td>\n",
       "      <td>3066</td>\n",
       "      <td>34.063389</td>\n",
       "      <td>-118.236160</td>\n",
       "      <td>5787</td>\n",
       "      <td>1</td>\n",
       "      <td>One Way</td>\n",
       "      <td>Walk-up</td>\n",
       "    </tr>\n",
       "    <tr>\n",
       "      <th>19</th>\n",
       "      <td>94864345</td>\n",
       "      <td>17</td>\n",
       "      <td>2018-07-01 01:47:00</td>\n",
       "      <td>2018-07-01 02:04:00</td>\n",
       "      <td>3067</td>\n",
       "      <td>34.045181</td>\n",
       "      <td>-118.250237</td>\n",
       "      <td>3066</td>\n",
       "      <td>34.063389</td>\n",
       "      <td>-118.236160</td>\n",
       "      <td>5936</td>\n",
       "      <td>1</td>\n",
       "      <td>One Way</td>\n",
       "      <td>Walk-up</td>\n",
       "    </tr>\n",
       "    <tr>\n",
       "      <th>20</th>\n",
       "      <td>94864343</td>\n",
       "      <td>16</td>\n",
       "      <td>2018-07-01 01:48:00</td>\n",
       "      <td>2018-07-01 02:04:00</td>\n",
       "      <td>3067</td>\n",
       "      <td>34.045181</td>\n",
       "      <td>-118.250237</td>\n",
       "      <td>3066</td>\n",
       "      <td>34.063389</td>\n",
       "      <td>-118.236160</td>\n",
       "      <td>6535</td>\n",
       "      <td>1</td>\n",
       "      <td>One Way</td>\n",
       "      <td>Walk-up</td>\n",
       "    </tr>\n",
       "    <tr>\n",
       "      <th>21</th>\n",
       "      <td>94864342</td>\n",
       "      <td>15</td>\n",
       "      <td>2018-07-01 01:49:00</td>\n",
       "      <td>2018-07-01 02:04:00</td>\n",
       "      <td>3067</td>\n",
       "      <td>34.045181</td>\n",
       "      <td>-118.250237</td>\n",
       "      <td>3066</td>\n",
       "      <td>34.063389</td>\n",
       "      <td>-118.236160</td>\n",
       "      <td>6613</td>\n",
       "      <td>1</td>\n",
       "      <td>One Way</td>\n",
       "      <td>Walk-up</td>\n",
       "    </tr>\n",
       "    <tr>\n",
       "      <th>22</th>\n",
       "      <td>94864341</td>\n",
       "      <td>12</td>\n",
       "      <td>2018-07-01 01:51:00</td>\n",
       "      <td>2018-07-01 02:03:00</td>\n",
       "      <td>3051</td>\n",
       "      <td>34.045422</td>\n",
       "      <td>-118.253517</td>\n",
       "      <td>3052</td>\n",
       "      <td>34.051102</td>\n",
       "      <td>-118.264557</td>\n",
       "      <td>5782</td>\n",
       "      <td>1</td>\n",
       "      <td>One Way</td>\n",
       "      <td>Walk-up</td>\n",
       "    </tr>\n",
       "    <tr>\n",
       "      <th>23</th>\n",
       "      <td>94857729</td>\n",
       "      <td>2</td>\n",
       "      <td>2018-07-01 01:52:00</td>\n",
       "      <td>2018-07-01 01:54:00</td>\n",
       "      <td>3051</td>\n",
       "      <td>34.045422</td>\n",
       "      <td>-118.253517</td>\n",
       "      <td>3051</td>\n",
       "      <td>34.045422</td>\n",
       "      <td>-118.253517</td>\n",
       "      <td>5972</td>\n",
       "      <td>1</td>\n",
       "      <td>Round Trip</td>\n",
       "      <td>Walk-up</td>\n",
       "    </tr>\n",
       "    <tr>\n",
       "      <th>24</th>\n",
       "      <td>94924451</td>\n",
       "      <td>591</td>\n",
       "      <td>2018-07-01 02:01:00</td>\n",
       "      <td>2018-07-01 11:52:00</td>\n",
       "      <td>4142</td>\n",
       "      <td>34.144588</td>\n",
       "      <td>-118.144592</td>\n",
       "      <td>4151</td>\n",
       "      <td>34.142361</td>\n",
       "      <td>-118.141510</td>\n",
       "      <td>5839</td>\n",
       "      <td>1</td>\n",
       "      <td>One Way</td>\n",
       "      <td>Walk-up</td>\n",
       "    </tr>\n",
       "    <tr>\n",
       "      <th>25</th>\n",
       "      <td>94864339</td>\n",
       "      <td>8</td>\n",
       "      <td>2018-07-01 02:03:00</td>\n",
       "      <td>2018-07-01 02:11:00</td>\n",
       "      <td>4138</td>\n",
       "      <td>34.145691</td>\n",
       "      <td>-118.148239</td>\n",
       "      <td>4183</td>\n",
       "      <td>34.146069</td>\n",
       "      <td>-118.129181</td>\n",
       "      <td>12454</td>\n",
       "      <td>1</td>\n",
       "      <td>One Way</td>\n",
       "      <td>Walk-up</td>\n",
       "    </tr>\n",
       "    <tr>\n",
       "      <th>26</th>\n",
       "      <td>94864337</td>\n",
       "      <td>10</td>\n",
       "      <td>2018-07-01 02:09:00</td>\n",
       "      <td>2018-07-01 02:19:00</td>\n",
       "      <td>3007</td>\n",
       "      <td>34.050480</td>\n",
       "      <td>-118.254593</td>\n",
       "      <td>3082</td>\n",
       "      <td>34.046520</td>\n",
       "      <td>-118.237411</td>\n",
       "      <td>12006</td>\n",
       "      <td>30</td>\n",
       "      <td>One Way</td>\n",
       "      <td>Monthly Pass</td>\n",
       "    </tr>\n",
       "    <tr>\n",
       "      <th>27</th>\n",
       "      <td>94864338</td>\n",
       "      <td>7</td>\n",
       "      <td>2018-07-01 02:09:00</td>\n",
       "      <td>2018-07-01 02:16:00</td>\n",
       "      <td>4215</td>\n",
       "      <td>34.014309</td>\n",
       "      <td>-118.491341</td>\n",
       "      <td>4215</td>\n",
       "      <td>34.014309</td>\n",
       "      <td>-118.491341</td>\n",
       "      <td>12039</td>\n",
       "      <td>1</td>\n",
       "      <td>Round Trip</td>\n",
       "      <td>One Day Pass</td>\n",
       "    </tr>\n",
       "    <tr>\n",
       "      <th>28</th>\n",
       "      <td>94864335</td>\n",
       "      <td>24</td>\n",
       "      <td>2018-07-01 02:20:00</td>\n",
       "      <td>2018-07-01 02:44:00</td>\n",
       "      <td>4215</td>\n",
       "      <td>34.014309</td>\n",
       "      <td>-118.491341</td>\n",
       "      <td>4208</td>\n",
       "      <td>33.998680</td>\n",
       "      <td>-118.472977</td>\n",
       "      <td>12039</td>\n",
       "      <td>1</td>\n",
       "      <td>One Way</td>\n",
       "      <td>One Day Pass</td>\n",
       "    </tr>\n",
       "    <tr>\n",
       "      <th>29</th>\n",
       "      <td>94864336</td>\n",
       "      <td>6</td>\n",
       "      <td>2018-07-01 02:20:00</td>\n",
       "      <td>2018-07-01 02:26:00</td>\n",
       "      <td>3008</td>\n",
       "      <td>34.046612</td>\n",
       "      <td>-118.262733</td>\n",
       "      <td>3031</td>\n",
       "      <td>34.044701</td>\n",
       "      <td>-118.252441</td>\n",
       "      <td>12383</td>\n",
       "      <td>30</td>\n",
       "      <td>One Way</td>\n",
       "      <td>Monthly Pass</td>\n",
       "    </tr>\n",
       "    <tr>\n",
       "      <th>...</th>\n",
       "      <td>...</td>\n",
       "      <td>...</td>\n",
       "      <td>...</td>\n",
       "      <td>...</td>\n",
       "      <td>...</td>\n",
       "      <td>...</td>\n",
       "      <td>...</td>\n",
       "      <td>...</td>\n",
       "      <td>...</td>\n",
       "      <td>...</td>\n",
       "      <td>...</td>\n",
       "      <td>...</td>\n",
       "      <td>...</td>\n",
       "      <td>...</td>\n",
       "    </tr>\n",
       "    <tr>\n",
       "      <th>95253</th>\n",
       "      <td>106411249</td>\n",
       "      <td>5</td>\n",
       "      <td>2018-09-30 22:23:00</td>\n",
       "      <td>2018-09-30 22:28:00</td>\n",
       "      <td>3049</td>\n",
       "      <td>34.056969</td>\n",
       "      <td>-118.253593</td>\n",
       "      <td>3007</td>\n",
       "      <td>34.050480</td>\n",
       "      <td>-118.254593</td>\n",
       "      <td>12330</td>\n",
       "      <td>30</td>\n",
       "      <td>One Way</td>\n",
       "      <td>Monthly Pass</td>\n",
       "    </tr>\n",
       "    <tr>\n",
       "      <th>95254</th>\n",
       "      <td>106469958</td>\n",
       "      <td>691</td>\n",
       "      <td>2018-09-30 22:24:00</td>\n",
       "      <td>2018-10-01 09:55:00</td>\n",
       "      <td>3029</td>\n",
       "      <td>34.048851</td>\n",
       "      <td>-118.246422</td>\n",
       "      <td>3029</td>\n",
       "      <td>34.048851</td>\n",
       "      <td>-118.246422</td>\n",
       "      <td>12163</td>\n",
       "      <td>1</td>\n",
       "      <td>Round Trip</td>\n",
       "      <td>Walk-up</td>\n",
       "    </tr>\n",
       "    <tr>\n",
       "      <th>95255</th>\n",
       "      <td>106411248</td>\n",
       "      <td>28</td>\n",
       "      <td>2018-09-30 22:25:00</td>\n",
       "      <td>2018-09-30 22:53:00</td>\n",
       "      <td>3067</td>\n",
       "      <td>34.045181</td>\n",
       "      <td>-118.250237</td>\n",
       "      <td>3051</td>\n",
       "      <td>34.045422</td>\n",
       "      <td>-118.253517</td>\n",
       "      <td>6278</td>\n",
       "      <td>30</td>\n",
       "      <td>One Way</td>\n",
       "      <td>Monthly Pass</td>\n",
       "    </tr>\n",
       "    <tr>\n",
       "      <th>95256</th>\n",
       "      <td>106411247</td>\n",
       "      <td>4</td>\n",
       "      <td>2018-09-30 22:34:00</td>\n",
       "      <td>2018-09-30 22:38:00</td>\n",
       "      <td>3046</td>\n",
       "      <td>34.052872</td>\n",
       "      <td>-118.247490</td>\n",
       "      <td>3067</td>\n",
       "      <td>34.045181</td>\n",
       "      <td>-118.250237</td>\n",
       "      <td>12062</td>\n",
       "      <td>1</td>\n",
       "      <td>One Way</td>\n",
       "      <td>Walk-up</td>\n",
       "    </tr>\n",
       "    <tr>\n",
       "      <th>95257</th>\n",
       "      <td>106411246</td>\n",
       "      <td>24</td>\n",
       "      <td>2018-09-30 22:35:00</td>\n",
       "      <td>2018-09-30 22:59:00</td>\n",
       "      <td>3045</td>\n",
       "      <td>34.028511</td>\n",
       "      <td>-118.256668</td>\n",
       "      <td>3054</td>\n",
       "      <td>34.039219</td>\n",
       "      <td>-118.236488</td>\n",
       "      <td>5752</td>\n",
       "      <td>30</td>\n",
       "      <td>One Way</td>\n",
       "      <td>Monthly Pass</td>\n",
       "    </tr>\n",
       "    <tr>\n",
       "      <th>95258</th>\n",
       "      <td>106411245</td>\n",
       "      <td>5</td>\n",
       "      <td>2018-09-30 22:40:00</td>\n",
       "      <td>2018-09-30 22:45:00</td>\n",
       "      <td>3068</td>\n",
       "      <td>34.053200</td>\n",
       "      <td>-118.250954</td>\n",
       "      <td>3024</td>\n",
       "      <td>34.057720</td>\n",
       "      <td>-118.248970</td>\n",
       "      <td>6547</td>\n",
       "      <td>30</td>\n",
       "      <td>One Way</td>\n",
       "      <td>Monthly Pass</td>\n",
       "    </tr>\n",
       "    <tr>\n",
       "      <th>95259</th>\n",
       "      <td>106411244</td>\n",
       "      <td>10</td>\n",
       "      <td>2018-09-30 22:41:00</td>\n",
       "      <td>2018-09-30 22:51:00</td>\n",
       "      <td>4249</td>\n",
       "      <td>34.020302</td>\n",
       "      <td>-118.281181</td>\n",
       "      <td>4246</td>\n",
       "      <td>34.023708</td>\n",
       "      <td>-118.279167</td>\n",
       "      <td>6375</td>\n",
       "      <td>1</td>\n",
       "      <td>One Way</td>\n",
       "      <td>Walk-up</td>\n",
       "    </tr>\n",
       "    <tr>\n",
       "      <th>95260</th>\n",
       "      <td>106411243</td>\n",
       "      <td>5</td>\n",
       "      <td>2018-09-30 22:45:00</td>\n",
       "      <td>2018-09-30 22:50:00</td>\n",
       "      <td>4249</td>\n",
       "      <td>34.020302</td>\n",
       "      <td>-118.281181</td>\n",
       "      <td>4246</td>\n",
       "      <td>34.023708</td>\n",
       "      <td>-118.279167</td>\n",
       "      <td>12064</td>\n",
       "      <td>1</td>\n",
       "      <td>One Way</td>\n",
       "      <td>Walk-up</td>\n",
       "    </tr>\n",
       "    <tr>\n",
       "      <th>95261</th>\n",
       "      <td>106411469</td>\n",
       "      <td>78</td>\n",
       "      <td>2018-09-30 22:45:00</td>\n",
       "      <td>2018-10-01 00:03:00</td>\n",
       "      <td>4210</td>\n",
       "      <td>33.984341</td>\n",
       "      <td>-118.471550</td>\n",
       "      <td>4210</td>\n",
       "      <td>33.984341</td>\n",
       "      <td>-118.471550</td>\n",
       "      <td>12424</td>\n",
       "      <td>1</td>\n",
       "      <td>Round Trip</td>\n",
       "      <td>One Day Pass</td>\n",
       "    </tr>\n",
       "    <tr>\n",
       "      <th>95262</th>\n",
       "      <td>106411242</td>\n",
       "      <td>6</td>\n",
       "      <td>2018-09-30 22:46:00</td>\n",
       "      <td>2018-09-30 22:52:00</td>\n",
       "      <td>3035</td>\n",
       "      <td>34.048401</td>\n",
       "      <td>-118.260948</td>\n",
       "      <td>3063</td>\n",
       "      <td>34.048038</td>\n",
       "      <td>-118.253738</td>\n",
       "      <td>5868</td>\n",
       "      <td>30</td>\n",
       "      <td>One Way</td>\n",
       "      <td>Monthly Pass</td>\n",
       "    </tr>\n",
       "    <tr>\n",
       "      <th>95263</th>\n",
       "      <td>106411241</td>\n",
       "      <td>37</td>\n",
       "      <td>2018-09-30 22:49:00</td>\n",
       "      <td>2018-09-30 23:26:00</td>\n",
       "      <td>3067</td>\n",
       "      <td>34.045181</td>\n",
       "      <td>-118.250237</td>\n",
       "      <td>3063</td>\n",
       "      <td>34.048038</td>\n",
       "      <td>-118.253738</td>\n",
       "      <td>6073</td>\n",
       "      <td>30</td>\n",
       "      <td>One Way</td>\n",
       "      <td>Monthly Pass</td>\n",
       "    </tr>\n",
       "    <tr>\n",
       "      <th>95264</th>\n",
       "      <td>106411240</td>\n",
       "      <td>11</td>\n",
       "      <td>2018-09-30 22:53:00</td>\n",
       "      <td>2018-09-30 23:04:00</td>\n",
       "      <td>3032</td>\n",
       "      <td>34.049889</td>\n",
       "      <td>-118.255882</td>\n",
       "      <td>3026</td>\n",
       "      <td>34.063179</td>\n",
       "      <td>-118.245880</td>\n",
       "      <td>6121</td>\n",
       "      <td>30</td>\n",
       "      <td>One Way</td>\n",
       "      <td>Monthly Pass</td>\n",
       "    </tr>\n",
       "    <tr>\n",
       "      <th>95265</th>\n",
       "      <td>106411239</td>\n",
       "      <td>3</td>\n",
       "      <td>2018-09-30 22:54:00</td>\n",
       "      <td>2018-09-30 22:57:00</td>\n",
       "      <td>3051</td>\n",
       "      <td>34.045422</td>\n",
       "      <td>-118.253517</td>\n",
       "      <td>3067</td>\n",
       "      <td>34.045181</td>\n",
       "      <td>-118.250237</td>\n",
       "      <td>6278</td>\n",
       "      <td>30</td>\n",
       "      <td>One Way</td>\n",
       "      <td>Monthly Pass</td>\n",
       "    </tr>\n",
       "    <tr>\n",
       "      <th>95266</th>\n",
       "      <td>106411238</td>\n",
       "      <td>54</td>\n",
       "      <td>2018-09-30 22:56:00</td>\n",
       "      <td>2018-09-30 23:50:00</td>\n",
       "      <td>4214</td>\n",
       "      <td>33.995560</td>\n",
       "      <td>-118.481552</td>\n",
       "      <td>4214</td>\n",
       "      <td>33.995560</td>\n",
       "      <td>-118.481552</td>\n",
       "      <td>12280</td>\n",
       "      <td>1</td>\n",
       "      <td>Round Trip</td>\n",
       "      <td>Walk-up</td>\n",
       "    </tr>\n",
       "    <tr>\n",
       "      <th>95267</th>\n",
       "      <td>106411237</td>\n",
       "      <td>13</td>\n",
       "      <td>2018-09-30 22:57:00</td>\n",
       "      <td>2018-09-30 23:10:00</td>\n",
       "      <td>3046</td>\n",
       "      <td>34.052872</td>\n",
       "      <td>-118.247490</td>\n",
       "      <td>3048</td>\n",
       "      <td>34.041691</td>\n",
       "      <td>-118.235352</td>\n",
       "      <td>6458</td>\n",
       "      <td>30</td>\n",
       "      <td>One Way</td>\n",
       "      <td>Monthly Pass</td>\n",
       "    </tr>\n",
       "    <tr>\n",
       "      <th>95268</th>\n",
       "      <td>106411236</td>\n",
       "      <td>8</td>\n",
       "      <td>2018-09-30 22:58:00</td>\n",
       "      <td>2018-09-30 23:06:00</td>\n",
       "      <td>3068</td>\n",
       "      <td>34.053200</td>\n",
       "      <td>-118.250954</td>\n",
       "      <td>3034</td>\n",
       "      <td>34.042061</td>\n",
       "      <td>-118.263382</td>\n",
       "      <td>5974</td>\n",
       "      <td>30</td>\n",
       "      <td>One Way</td>\n",
       "      <td>Monthly Pass</td>\n",
       "    </tr>\n",
       "    <tr>\n",
       "      <th>95269</th>\n",
       "      <td>106411235</td>\n",
       "      <td>10</td>\n",
       "      <td>2018-09-30 23:00:00</td>\n",
       "      <td>2018-09-30 23:10:00</td>\n",
       "      <td>3054</td>\n",
       "      <td>34.039219</td>\n",
       "      <td>-118.236488</td>\n",
       "      <td>3022</td>\n",
       "      <td>34.046070</td>\n",
       "      <td>-118.233093</td>\n",
       "      <td>5752</td>\n",
       "      <td>30</td>\n",
       "      <td>One Way</td>\n",
       "      <td>Monthly Pass</td>\n",
       "    </tr>\n",
       "    <tr>\n",
       "      <th>95270</th>\n",
       "      <td>106411234</td>\n",
       "      <td>51</td>\n",
       "      <td>2018-09-30 23:04:00</td>\n",
       "      <td>2018-09-30 23:55:00</td>\n",
       "      <td>4220</td>\n",
       "      <td>34.074829</td>\n",
       "      <td>-118.258728</td>\n",
       "      <td>3076</td>\n",
       "      <td>34.040600</td>\n",
       "      <td>-118.253838</td>\n",
       "      <td>5935</td>\n",
       "      <td>1</td>\n",
       "      <td>One Way</td>\n",
       "      <td>Walk-up</td>\n",
       "    </tr>\n",
       "    <tr>\n",
       "      <th>95271</th>\n",
       "      <td>106411233</td>\n",
       "      <td>30</td>\n",
       "      <td>2018-09-30 23:11:00</td>\n",
       "      <td>2018-09-30 23:41:00</td>\n",
       "      <td>3022</td>\n",
       "      <td>34.046070</td>\n",
       "      <td>-118.233093</td>\n",
       "      <td>3038</td>\n",
       "      <td>34.046822</td>\n",
       "      <td>-118.248352</td>\n",
       "      <td>5752</td>\n",
       "      <td>30</td>\n",
       "      <td>One Way</td>\n",
       "      <td>Monthly Pass</td>\n",
       "    </tr>\n",
       "    <tr>\n",
       "      <th>95272</th>\n",
       "      <td>106411232</td>\n",
       "      <td>15</td>\n",
       "      <td>2018-09-30 23:14:00</td>\n",
       "      <td>2018-09-30 23:29:00</td>\n",
       "      <td>3036</td>\n",
       "      <td>34.039188</td>\n",
       "      <td>-118.232529</td>\n",
       "      <td>3063</td>\n",
       "      <td>34.048038</td>\n",
       "      <td>-118.253738</td>\n",
       "      <td>6508</td>\n",
       "      <td>1</td>\n",
       "      <td>One Way</td>\n",
       "      <td>Walk-up</td>\n",
       "    </tr>\n",
       "    <tr>\n",
       "      <th>95273</th>\n",
       "      <td>106411231</td>\n",
       "      <td>14</td>\n",
       "      <td>2018-09-30 23:15:00</td>\n",
       "      <td>2018-09-30 23:29:00</td>\n",
       "      <td>3036</td>\n",
       "      <td>34.039188</td>\n",
       "      <td>-118.232529</td>\n",
       "      <td>3063</td>\n",
       "      <td>34.048038</td>\n",
       "      <td>-118.253738</td>\n",
       "      <td>11967</td>\n",
       "      <td>1</td>\n",
       "      <td>One Way</td>\n",
       "      <td>Walk-up</td>\n",
       "    </tr>\n",
       "    <tr>\n",
       "      <th>95274</th>\n",
       "      <td>106411685</td>\n",
       "      <td>34</td>\n",
       "      <td>2018-09-30 23:34:00</td>\n",
       "      <td>2018-10-01 00:08:00</td>\n",
       "      <td>3051</td>\n",
       "      <td>34.045422</td>\n",
       "      <td>-118.253517</td>\n",
       "      <td>3051</td>\n",
       "      <td>34.045422</td>\n",
       "      <td>-118.253517</td>\n",
       "      <td>11977</td>\n",
       "      <td>1</td>\n",
       "      <td>Round Trip</td>\n",
       "      <td>Walk-up</td>\n",
       "    </tr>\n",
       "    <tr>\n",
       "      <th>95275</th>\n",
       "      <td>106411684</td>\n",
       "      <td>31</td>\n",
       "      <td>2018-09-30 23:36:00</td>\n",
       "      <td>2018-10-01 00:07:00</td>\n",
       "      <td>3051</td>\n",
       "      <td>34.045422</td>\n",
       "      <td>-118.253517</td>\n",
       "      <td>3051</td>\n",
       "      <td>34.045422</td>\n",
       "      <td>-118.253517</td>\n",
       "      <td>6728</td>\n",
       "      <td>1</td>\n",
       "      <td>Round Trip</td>\n",
       "      <td>Walk-up</td>\n",
       "    </tr>\n",
       "    <tr>\n",
       "      <th>95276</th>\n",
       "      <td>106412144</td>\n",
       "      <td>40</td>\n",
       "      <td>2018-09-30 23:36:00</td>\n",
       "      <td>2018-10-01 00:16:00</td>\n",
       "      <td>3069</td>\n",
       "      <td>34.050880</td>\n",
       "      <td>-118.248253</td>\n",
       "      <td>3069</td>\n",
       "      <td>34.050880</td>\n",
       "      <td>-118.248253</td>\n",
       "      <td>6255</td>\n",
       "      <td>1</td>\n",
       "      <td>Round Trip</td>\n",
       "      <td>Walk-up</td>\n",
       "    </tr>\n",
       "    <tr>\n",
       "      <th>95277</th>\n",
       "      <td>106411230</td>\n",
       "      <td>12</td>\n",
       "      <td>2018-09-30 23:41:00</td>\n",
       "      <td>2018-09-30 23:53:00</td>\n",
       "      <td>3026</td>\n",
       "      <td>34.063179</td>\n",
       "      <td>-118.245880</td>\n",
       "      <td>3029</td>\n",
       "      <td>34.048851</td>\n",
       "      <td>-118.246422</td>\n",
       "      <td>6103</td>\n",
       "      <td>1</td>\n",
       "      <td>One Way</td>\n",
       "      <td>Walk-up</td>\n",
       "    </tr>\n",
       "    <tr>\n",
       "      <th>95278</th>\n",
       "      <td>106412141</td>\n",
       "      <td>30</td>\n",
       "      <td>2018-09-30 23:47:00</td>\n",
       "      <td>2018-10-01 00:17:00</td>\n",
       "      <td>3038</td>\n",
       "      <td>34.046822</td>\n",
       "      <td>-118.248352</td>\n",
       "      <td>3038</td>\n",
       "      <td>34.046822</td>\n",
       "      <td>-118.248352</td>\n",
       "      <td>6258</td>\n",
       "      <td>1</td>\n",
       "      <td>Round Trip</td>\n",
       "      <td>Walk-up</td>\n",
       "    </tr>\n",
       "    <tr>\n",
       "      <th>95279</th>\n",
       "      <td>106411454</td>\n",
       "      <td>10</td>\n",
       "      <td>2018-09-30 23:52:00</td>\n",
       "      <td>2018-10-01 00:02:00</td>\n",
       "      <td>3035</td>\n",
       "      <td>34.048401</td>\n",
       "      <td>-118.260948</td>\n",
       "      <td>3074</td>\n",
       "      <td>34.044170</td>\n",
       "      <td>-118.261169</td>\n",
       "      <td>5931</td>\n",
       "      <td>30</td>\n",
       "      <td>One Way</td>\n",
       "      <td>Monthly Pass</td>\n",
       "    </tr>\n",
       "    <tr>\n",
       "      <th>95280</th>\n",
       "      <td>106411455</td>\n",
       "      <td>11</td>\n",
       "      <td>2018-09-30 23:52:00</td>\n",
       "      <td>2018-10-01 00:03:00</td>\n",
       "      <td>3024</td>\n",
       "      <td>34.057720</td>\n",
       "      <td>-118.248970</td>\n",
       "      <td>3055</td>\n",
       "      <td>34.044159</td>\n",
       "      <td>-118.251579</td>\n",
       "      <td>6100</td>\n",
       "      <td>30</td>\n",
       "      <td>One Way</td>\n",
       "      <td>Monthly Pass</td>\n",
       "    </tr>\n",
       "    <tr>\n",
       "      <th>95281</th>\n",
       "      <td>106411453</td>\n",
       "      <td>9</td>\n",
       "      <td>2018-09-30 23:54:00</td>\n",
       "      <td>2018-10-01 00:03:00</td>\n",
       "      <td>3008</td>\n",
       "      <td>34.046612</td>\n",
       "      <td>-118.262733</td>\n",
       "      <td>3052</td>\n",
       "      <td>34.051102</td>\n",
       "      <td>-118.264557</td>\n",
       "      <td>5879</td>\n",
       "      <td>1</td>\n",
       "      <td>One Way</td>\n",
       "      <td>Walk-up</td>\n",
       "    </tr>\n",
       "    <tr>\n",
       "      <th>95282</th>\n",
       "      <td>106411452</td>\n",
       "      <td>7</td>\n",
       "      <td>2018-09-30 23:57:00</td>\n",
       "      <td>2018-10-01 00:04:00</td>\n",
       "      <td>3026</td>\n",
       "      <td>34.063179</td>\n",
       "      <td>-118.245880</td>\n",
       "      <td>3049</td>\n",
       "      <td>34.056969</td>\n",
       "      <td>-118.253593</td>\n",
       "      <td>6121</td>\n",
       "      <td>30</td>\n",
       "      <td>One Way</td>\n",
       "      <td>Monthly Pass</td>\n",
       "    </tr>\n",
       "  </tbody>\n",
       "</table>\n",
       "<p>93199 rows × 14 columns</p>\n",
       "</div>"
      ],
      "text/plain": [
       "         trip_id  duration           start_time             end_time  \\\n",
       "0       94851140         8  2018-07-01 00:04:00  2018-07-01 00:12:00   \n",
       "1       94851141         8  2018-07-01 00:04:00  2018-07-01 00:12:00   \n",
       "2       94851138        15  2018-07-01 00:09:00  2018-07-01 00:24:00   \n",
       "3       94851137         7  2018-07-01 00:22:00  2018-07-01 00:29:00   \n",
       "4       94851136        35  2018-07-01 00:23:00  2018-07-01 00:58:00   \n",
       "5       94851135         6  2018-07-01 00:38:00  2018-07-01 00:44:00   \n",
       "6       94851134         5  2018-07-01 00:39:00  2018-07-01 00:44:00   \n",
       "7       94857739        33  2018-07-01 00:40:00  2018-07-01 01:13:00   \n",
       "8       94851133         6  2018-07-01 00:44:00  2018-07-01 00:50:00   \n",
       "9       94851132         3  2018-07-01 00:46:00  2018-07-01 00:49:00   \n",
       "10      94851130         7  2018-07-01 00:49:00  2018-07-01 00:56:00   \n",
       "11      94851131         7  2018-07-01 00:49:00  2018-07-01 00:56:00   \n",
       "12      94857733        19  2018-07-01 00:51:00  2018-07-01 01:10:00   \n",
       "13      94857734        19  2018-07-01 00:51:00  2018-07-01 01:10:00   \n",
       "14      94857732        16  2018-07-01 01:10:00  2018-07-01 01:26:00   \n",
       "15      94857731         2  2018-07-01 01:29:00  2018-07-01 01:31:00   \n",
       "16      94857730        21  2018-07-01 01:32:00  2018-07-01 01:53:00   \n",
       "17      94897462       383  2018-07-01 01:35:00  2018-07-01 07:58:00   \n",
       "18      94864344        17  2018-07-01 01:47:00  2018-07-01 02:04:00   \n",
       "19      94864345        17  2018-07-01 01:47:00  2018-07-01 02:04:00   \n",
       "20      94864343        16  2018-07-01 01:48:00  2018-07-01 02:04:00   \n",
       "21      94864342        15  2018-07-01 01:49:00  2018-07-01 02:04:00   \n",
       "22      94864341        12  2018-07-01 01:51:00  2018-07-01 02:03:00   \n",
       "23      94857729         2  2018-07-01 01:52:00  2018-07-01 01:54:00   \n",
       "24      94924451       591  2018-07-01 02:01:00  2018-07-01 11:52:00   \n",
       "25      94864339         8  2018-07-01 02:03:00  2018-07-01 02:11:00   \n",
       "26      94864337        10  2018-07-01 02:09:00  2018-07-01 02:19:00   \n",
       "27      94864338         7  2018-07-01 02:09:00  2018-07-01 02:16:00   \n",
       "28      94864335        24  2018-07-01 02:20:00  2018-07-01 02:44:00   \n",
       "29      94864336         6  2018-07-01 02:20:00  2018-07-01 02:26:00   \n",
       "...          ...       ...                  ...                  ...   \n",
       "95253  106411249         5  2018-09-30 22:23:00  2018-09-30 22:28:00   \n",
       "95254  106469958       691  2018-09-30 22:24:00  2018-10-01 09:55:00   \n",
       "95255  106411248        28  2018-09-30 22:25:00  2018-09-30 22:53:00   \n",
       "95256  106411247         4  2018-09-30 22:34:00  2018-09-30 22:38:00   \n",
       "95257  106411246        24  2018-09-30 22:35:00  2018-09-30 22:59:00   \n",
       "95258  106411245         5  2018-09-30 22:40:00  2018-09-30 22:45:00   \n",
       "95259  106411244        10  2018-09-30 22:41:00  2018-09-30 22:51:00   \n",
       "95260  106411243         5  2018-09-30 22:45:00  2018-09-30 22:50:00   \n",
       "95261  106411469        78  2018-09-30 22:45:00  2018-10-01 00:03:00   \n",
       "95262  106411242         6  2018-09-30 22:46:00  2018-09-30 22:52:00   \n",
       "95263  106411241        37  2018-09-30 22:49:00  2018-09-30 23:26:00   \n",
       "95264  106411240        11  2018-09-30 22:53:00  2018-09-30 23:04:00   \n",
       "95265  106411239         3  2018-09-30 22:54:00  2018-09-30 22:57:00   \n",
       "95266  106411238        54  2018-09-30 22:56:00  2018-09-30 23:50:00   \n",
       "95267  106411237        13  2018-09-30 22:57:00  2018-09-30 23:10:00   \n",
       "95268  106411236         8  2018-09-30 22:58:00  2018-09-30 23:06:00   \n",
       "95269  106411235        10  2018-09-30 23:00:00  2018-09-30 23:10:00   \n",
       "95270  106411234        51  2018-09-30 23:04:00  2018-09-30 23:55:00   \n",
       "95271  106411233        30  2018-09-30 23:11:00  2018-09-30 23:41:00   \n",
       "95272  106411232        15  2018-09-30 23:14:00  2018-09-30 23:29:00   \n",
       "95273  106411231        14  2018-09-30 23:15:00  2018-09-30 23:29:00   \n",
       "95274  106411685        34  2018-09-30 23:34:00  2018-10-01 00:08:00   \n",
       "95275  106411684        31  2018-09-30 23:36:00  2018-10-01 00:07:00   \n",
       "95276  106412144        40  2018-09-30 23:36:00  2018-10-01 00:16:00   \n",
       "95277  106411230        12  2018-09-30 23:41:00  2018-09-30 23:53:00   \n",
       "95278  106412141        30  2018-09-30 23:47:00  2018-10-01 00:17:00   \n",
       "95279  106411454        10  2018-09-30 23:52:00  2018-10-01 00:02:00   \n",
       "95280  106411455        11  2018-09-30 23:52:00  2018-10-01 00:03:00   \n",
       "95281  106411453         9  2018-09-30 23:54:00  2018-10-01 00:03:00   \n",
       "95282  106411452         7  2018-09-30 23:57:00  2018-10-01 00:04:00   \n",
       "\n",
       "       start_station  start_lat   start_lon  end_station    end_lat  \\\n",
       "0               3058  34.035801 -118.233170         3082  34.046520   \n",
       "1               3058  34.035801 -118.233170         3082  34.046520   \n",
       "2               4147  34.145248 -118.150070         4174  34.165291   \n",
       "3               4157  34.140999 -118.132088         4162  34.147499   \n",
       "4               3013  33.779819 -118.263023         3013  33.779819   \n",
       "5               3029  34.048851 -118.246422         3082  34.046520   \n",
       "6               3029  34.048851 -118.246422         3082  34.046520   \n",
       "7               3069  34.050880 -118.248253         3075  34.042110   \n",
       "8               3067  34.045181 -118.250237         3062  34.047749   \n",
       "9               3034  34.042061 -118.263382         3074  34.044170   \n",
       "10              3008  34.046612 -118.262733         3049  34.056969   \n",
       "11              3008  34.046612 -118.262733         3049  34.056969   \n",
       "12              4147  34.145248 -118.150070         4163  34.150471   \n",
       "13              4147  34.145248 -118.150070         4163  34.150471   \n",
       "14              3022  34.046070 -118.233093         3078  34.064281   \n",
       "15              3064  34.046810 -118.256981         3031  34.044701   \n",
       "16              4159  34.145901 -118.116539         4163  34.150471   \n",
       "17              3063  34.048038 -118.253738         3038  34.046822   \n",
       "18              3067  34.045181 -118.250237         3066  34.063389   \n",
       "19              3067  34.045181 -118.250237         3066  34.063389   \n",
       "20              3067  34.045181 -118.250237         3066  34.063389   \n",
       "21              3067  34.045181 -118.250237         3066  34.063389   \n",
       "22              3051  34.045422 -118.253517         3052  34.051102   \n",
       "23              3051  34.045422 -118.253517         3051  34.045422   \n",
       "24              4142  34.144588 -118.144592         4151  34.142361   \n",
       "25              4138  34.145691 -118.148239         4183  34.146069   \n",
       "26              3007  34.050480 -118.254593         3082  34.046520   \n",
       "27              4215  34.014309 -118.491341         4215  34.014309   \n",
       "28              4215  34.014309 -118.491341         4208  33.998680   \n",
       "29              3008  34.046612 -118.262733         3031  34.044701   \n",
       "...              ...        ...         ...          ...        ...   \n",
       "95253           3049  34.056969 -118.253593         3007  34.050480   \n",
       "95254           3029  34.048851 -118.246422         3029  34.048851   \n",
       "95255           3067  34.045181 -118.250237         3051  34.045422   \n",
       "95256           3046  34.052872 -118.247490         3067  34.045181   \n",
       "95257           3045  34.028511 -118.256668         3054  34.039219   \n",
       "95258           3068  34.053200 -118.250954         3024  34.057720   \n",
       "95259           4249  34.020302 -118.281181         4246  34.023708   \n",
       "95260           4249  34.020302 -118.281181         4246  34.023708   \n",
       "95261           4210  33.984341 -118.471550         4210  33.984341   \n",
       "95262           3035  34.048401 -118.260948         3063  34.048038   \n",
       "95263           3067  34.045181 -118.250237         3063  34.048038   \n",
       "95264           3032  34.049889 -118.255882         3026  34.063179   \n",
       "95265           3051  34.045422 -118.253517         3067  34.045181   \n",
       "95266           4214  33.995560 -118.481552         4214  33.995560   \n",
       "95267           3046  34.052872 -118.247490         3048  34.041691   \n",
       "95268           3068  34.053200 -118.250954         3034  34.042061   \n",
       "95269           3054  34.039219 -118.236488         3022  34.046070   \n",
       "95270           4220  34.074829 -118.258728         3076  34.040600   \n",
       "95271           3022  34.046070 -118.233093         3038  34.046822   \n",
       "95272           3036  34.039188 -118.232529         3063  34.048038   \n",
       "95273           3036  34.039188 -118.232529         3063  34.048038   \n",
       "95274           3051  34.045422 -118.253517         3051  34.045422   \n",
       "95275           3051  34.045422 -118.253517         3051  34.045422   \n",
       "95276           3069  34.050880 -118.248253         3069  34.050880   \n",
       "95277           3026  34.063179 -118.245880         3029  34.048851   \n",
       "95278           3038  34.046822 -118.248352         3038  34.046822   \n",
       "95279           3035  34.048401 -118.260948         3074  34.044170   \n",
       "95280           3024  34.057720 -118.248970         3055  34.044159   \n",
       "95281           3008  34.046612 -118.262733         3052  34.051102   \n",
       "95282           3026  34.063179 -118.245880         3049  34.056969   \n",
       "\n",
       "          end_lon  bike_id  plan_duration trip_route_category passholder_type  \n",
       "0     -118.237411     6279             30             One Way    Monthly Pass  \n",
       "1     -118.237411     6518            365             One Way       Flex Pass  \n",
       "2     -118.150970     4823            365             One Way    Monthly Pass  \n",
       "3     -118.148010     6115             30             One Way    Monthly Pass  \n",
       "4     -118.263023    12055              1          Round Trip         Walk-up  \n",
       "5     -118.237411     6370              1             One Way         Walk-up  \n",
       "6     -118.237411     6566              1             One Way         Walk-up  \n",
       "7     -118.256187     6407              1             One Way         Walk-up  \n",
       "8     -118.243172     5859             30             One Way    Monthly Pass  \n",
       "9     -118.261169     6562             30             One Way    Monthly Pass  \n",
       "10    -118.253593    12411              1             One Way    One Day Pass  \n",
       "11    -118.253593    12025              1             One Way    One Day Pass  \n",
       "12    -118.132019     6671              1             One Way         Walk-up  \n",
       "13    -118.132019     5824              1             One Way         Walk-up  \n",
       "14    -118.238937     6404             30             One Way    Monthly Pass  \n",
       "15    -118.252441    12091             30             One Way    Monthly Pass  \n",
       "16    -118.132019     5742              1             One Way         Walk-up  \n",
       "17    -118.248352     6137             30             One Way    Monthly Pass  \n",
       "18    -118.236160     5787              1             One Way         Walk-up  \n",
       "19    -118.236160     5936              1             One Way         Walk-up  \n",
       "20    -118.236160     6535              1             One Way         Walk-up  \n",
       "21    -118.236160     6613              1             One Way         Walk-up  \n",
       "22    -118.264557     5782              1             One Way         Walk-up  \n",
       "23    -118.253517     5972              1          Round Trip         Walk-up  \n",
       "24    -118.141510     5839              1             One Way         Walk-up  \n",
       "25    -118.129181    12454              1             One Way         Walk-up  \n",
       "26    -118.237411    12006             30             One Way    Monthly Pass  \n",
       "27    -118.491341    12039              1          Round Trip    One Day Pass  \n",
       "28    -118.472977    12039              1             One Way    One Day Pass  \n",
       "29    -118.252441    12383             30             One Way    Monthly Pass  \n",
       "...           ...      ...            ...                 ...             ...  \n",
       "95253 -118.254593    12330             30             One Way    Monthly Pass  \n",
       "95254 -118.246422    12163              1          Round Trip         Walk-up  \n",
       "95255 -118.253517     6278             30             One Way    Monthly Pass  \n",
       "95256 -118.250237    12062              1             One Way         Walk-up  \n",
       "95257 -118.236488     5752             30             One Way    Monthly Pass  \n",
       "95258 -118.248970     6547             30             One Way    Monthly Pass  \n",
       "95259 -118.279167     6375              1             One Way         Walk-up  \n",
       "95260 -118.279167    12064              1             One Way         Walk-up  \n",
       "95261 -118.471550    12424              1          Round Trip    One Day Pass  \n",
       "95262 -118.253738     5868             30             One Way    Monthly Pass  \n",
       "95263 -118.253738     6073             30             One Way    Monthly Pass  \n",
       "95264 -118.245880     6121             30             One Way    Monthly Pass  \n",
       "95265 -118.250237     6278             30             One Way    Monthly Pass  \n",
       "95266 -118.481552    12280              1          Round Trip         Walk-up  \n",
       "95267 -118.235352     6458             30             One Way    Monthly Pass  \n",
       "95268 -118.263382     5974             30             One Way    Monthly Pass  \n",
       "95269 -118.233093     5752             30             One Way    Monthly Pass  \n",
       "95270 -118.253838     5935              1             One Way         Walk-up  \n",
       "95271 -118.248352     5752             30             One Way    Monthly Pass  \n",
       "95272 -118.253738     6508              1             One Way         Walk-up  \n",
       "95273 -118.253738    11967              1             One Way         Walk-up  \n",
       "95274 -118.253517    11977              1          Round Trip         Walk-up  \n",
       "95275 -118.253517     6728              1          Round Trip         Walk-up  \n",
       "95276 -118.248253     6255              1          Round Trip         Walk-up  \n",
       "95277 -118.246422     6103              1             One Way         Walk-up  \n",
       "95278 -118.248352     6258              1          Round Trip         Walk-up  \n",
       "95279 -118.261169     5931             30             One Way    Monthly Pass  \n",
       "95280 -118.251579     6100             30             One Way    Monthly Pass  \n",
       "95281 -118.264557     5879              1             One Way         Walk-up  \n",
       "95282 -118.253593     6121             30             One Way    Monthly Pass  \n",
       "\n",
       "[93199 rows x 14 columns]"
      ]
     },
     "execution_count": 31,
     "metadata": {},
     "output_type": "execute_result"
    }
   ],
   "source": [
    "bike_cleaned"
   ]
  },
  {
   "cell_type": "code",
   "execution_count": 32,
   "metadata": {
    "scrolled": true
   },
   "outputs": [
    {
     "data": {
      "image/png": "[encoded data removed]",
      "text/plain": [
       "<Figure size 432x288 with 1 Axes>"
      ]
     },
     "metadata": {
      "needs_background": "light"
     },
     "output_type": "display_data"
    }
   ],
   "source": [
    "fig, ax = plt.subplots()\n",
    "\n",
    "bike_cleaned[['passholder_type', 'duration']].boxplot(by='passholder_type', ax=ax, showfliers=False)\n",
    "ax.set_yscale('log')\n",
    "plt.ylabel('duration')\n",
    "plt.xlabel('passholder type');"
   ]
  },
  {
   "cell_type": "markdown",
   "metadata": {},
   "source": [
    "From the box plot above there is clearly a significant different between the mean average of Flex pass compared to One Day pass types.\n",
    "\n",
    "Statistical tests will help identify why this is, using a student's T-test and mannwhitneyU test. Although the student's t-test assumes that the variance are the same or similar, but this can change with different sample sizes."
   ]
  },
  {
   "cell_type": "code",
   "execution_count": 83,
   "metadata": {},
   "outputs": [
    {
     "name": "stdout",
     "output_type": "stream",
     "text": [
      "Flex Mean: 18.56257982120051 \n",
      "One Day Mean: 66.51878515185602\n"
     ]
    }
   ],
   "source": [
    "#one_day = bike_cleaned[['passholder_type', 'duration']] == 'One Day Pass'\n",
    "one_day_pass = bike_cleaned[bike_cleaned['passholder_type'] == 'One Day Pass']\n",
    "flex_pass = bike_cleaned[bike_cleaned['passholder_type'] == 'Flex Pass']\n",
    "\n",
    "flex_mean = flex_pass['duration'].mean()\n",
    "one_day_mean = one_day_pass['duration'].mean()\n",
    "print(\"Flex Mean:\", flex_mean, \"\\nOne Day Mean:\", one_day_mean)"
   ]
  },
  {
   "cell_type": "code",
   "execution_count": 84,
   "metadata": {},
   "outputs": [
    {
     "data": {
      "text/plain": [
       "Text(0, 0.5, 'sample')"
      ]
     },
     "execution_count": 84,
     "metadata": {},
     "output_type": "execute_result"
    },
    {
     "data": {
      "image/png": "[encoded data removed]",
      "text/plain": [
       "<Figure size 432x288 with 1 Axes>"
      ]
     },
     "metadata": {
      "needs_background": "light"
     },
     "output_type": "display_data"
    }
   ],
   "source": [
    "one_day_plot = one_day_pass['duration'].plot.hist(bins=100, logy=True)\n",
    "one_day_plot.set_xlabel(\"duraiton\")\n",
    "one_day_plot.set_ylabel(\"sample\")"
   ]
  },
  {
   "cell_type": "code",
   "execution_count": 85,
   "metadata": {},
   "outputs": [
    {
     "data": {
      "text/plain": [
       "Text(0, 0.5, 'sample')"
      ]
     },
     "execution_count": 85,
     "metadata": {},
     "output_type": "execute_result"
    },
    {
     "data": {
      "image/png": "[encoded data removed]",
      "text/plain": [
       "<Figure size 432x288 with 1 Axes>"
      ]
     },
     "metadata": {
      "needs_background": "light"
     },
     "output_type": "display_data"
    }
   ],
   "source": [
    "flex_plot = flex_pass['duration'].plot.hist(bins=100, logy=True)\n",
    "flex_plot.set_xlabel(\"duraiton\")\n",
    "flex_plot.set_ylabel(\"sample\")"
   ]
  },
  {
   "cell_type": "code",
   "execution_count": 36,
   "metadata": {},
   "outputs": [
    {
     "name": "stdout",
     "output_type": "stream",
     "text": [
      "Variances:  (15650.955158929093, 4212.058344302377) \n",
      "Variance Difference:  11438.896814626716 \n",
      "\n",
      "Sample Sizes:  (4445, 1566) \n",
      "Sample Difference:  2879\n"
     ]
    }
   ],
   "source": [
    "# Sample size difference\n",
    "sample_sizes = len(one_day_pass), len(flex_pass)\n",
    "# Variance difference\n",
    "variances = np.var(one_day_pass['duration']), np.var(flex_pass['duration'])\n",
    "print(\"Variances: \", variances, \"\\nVariance Difference: \", variances[0] - variances[1], \"\\n\\nSample Sizes: \", sample_sizes, \"\\nSample Difference: \", sample_sizes[0] - sample_sizes[1])"
   ]
  },
  {
   "cell_type": "markdown",
   "metadata": {},
   "source": [
    "The histograms above show there are differences in the both the variances and sample sizes, but show that both are positively skewed and normally distributed.\n",
    "\n",
    "As shown the means for either are clearly different, and both the sample size and variance are very different, therefore Student's T-test could not apply here as it is a parametric test and assumes homogeneity of the variance, whereas MannwhitneyU test is non parametric.\n",
    "\n",
    "Both will be used, but compared by their accuracy of their pvalue to validate the hypothesis'\n",
    "\n",
    "H0 - Assumes that both distributions have the same means\n",
    "\n",
    "H1 - Assumes that both distributions have different means\n"
   ]
  },
  {
   "cell_type": "code",
   "execution_count": 37,
   "metadata": {},
   "outputs": [
    {
     "name": "stdout",
     "output_type": "stream",
     "text": [
      "MannwhitneyuResult(statistic=1300630.5, pvalue=1.089459637342107e-298)\n",
      "Ttest_indResult(statistic=14.495319337859621, pvalue=7.9422977182875e-47)\n"
     ]
    }
   ],
   "source": [
    "print(mannwhitneyu(one_day_pass['duration'], flex_pass['duration']))\n",
    "print(ttest_ind(one_day_pass['duration'], flex_pass['duration'], equal_var=True))"
   ]
  },
  {
   "cell_type": "markdown",
   "metadata": {},
   "source": [
    "This shows that the original distributions are not noramlly distributed due to the difference in sample sizes, and that the Student's T-Test is not a suitable test. However the MannWhitneyU test, being non parametric, shows that the means are equal. Therefore rejecting the Null Hypothesis and supporting the alternative where the means are unequal.\n",
    "\n",
    "Additionally the central limit theorm could be used to reduce the number of samples in scale to obtain approximate normal distribution."
   ]
  },
  {
   "cell_type": "markdown",
   "metadata": {},
   "source": [
    "##### Central Limit Theorm\n",
    "The central Limit Theorm could possibly be used in this case to limit/reduce the amount of samples used. This will split the dataframe into a new dataframe / by the sample size (arrays within the dataframe that contain a sample of e.g 150 random samples from the data). The mean for each of the array sets will be made, variances of the dataframe will be calculated and this will then be used in the Student's T-Test and MannwhitneyU Test. However based on assumptions from above, due to the data not being normally distributed student's t-test still wouldn't be a suitable test to be conducted, however mannwhitneyU will return the same conclusion as it is non parametric it disregards the sample size."
   ]
  },
  {
   "cell_type": "markdown",
   "metadata": {},
   "source": [
    "### Convert start time and end time to datatime object"
   ]
  },
  {
   "cell_type": "code",
   "execution_count": 38,
   "metadata": {},
   "outputs": [
    {
     "name": "stdout",
     "output_type": "stream",
     "text": [
      "trip_id                         int64\n",
      "duration                        int64\n",
      "start_time             datetime64[ns]\n",
      "end_time               datetime64[ns]\n",
      "start_station                   int64\n",
      "start_lat                     float64\n",
      "start_lon                     float64\n",
      "end_station                     int64\n",
      "end_lat                       float64\n",
      "end_lon                       float64\n",
      "bike_id                         int64\n",
      "plan_duration                   int64\n",
      "trip_route_category            object\n",
      "passholder_type                object\n",
      "dtype: object\n"
     ]
    }
   ],
   "source": [
    "pd.options.mode.chained_assignment = None  # Removes warning - https://stackoverflow.com/questions/43367615/dataframe-warning-settingwithcopywarning-in-python\n",
    "\n",
    "bike_cleaned['start_time'] = pd.to_datetime(bike_cleaned['start_time'], format = '%Y-%m-%d %H:%M:%S')\n",
    "bike_cleaned['end_time'] = pd.to_datetime(bike_cleaned['end_time'], format = '%Y-%m-%d %H:%M:%S')\n",
    "print(bike_cleaned.dtypes)"
   ]
  },
  {
   "cell_type": "markdown",
   "metadata": {},
   "source": [
    "### New hour column"
   ]
  },
  {
   "cell_type": "code",
   "execution_count": 39,
   "metadata": {},
   "outputs": [
    {
     "data": {
      "text/html": [
       "<div>\n",
       "<style scoped>\n",
       "    .dataframe tbody tr th:only-of-type {\n",
       "        vertical-align: middle;\n",
       "    }\n",
       "\n",
       "    .dataframe tbody tr th {\n",
       "        vertical-align: top;\n",
       "    }\n",
       "\n",
       "    .dataframe thead th {\n",
       "        text-align: right;\n",
       "    }\n",
       "</style>\n",
       "<table border=\"1\" class=\"dataframe\">\n",
       "  <thead>\n",
       "    <tr style=\"text-align: right;\">\n",
       "      <th></th>\n",
       "      <th>trip_id</th>\n",
       "      <th>duration</th>\n",
       "      <th>start_time</th>\n",
       "      <th>end_time</th>\n",
       "      <th>start_station</th>\n",
       "      <th>start_lat</th>\n",
       "      <th>start_lon</th>\n",
       "      <th>end_station</th>\n",
       "      <th>end_lat</th>\n",
       "      <th>end_lon</th>\n",
       "      <th>bike_id</th>\n",
       "      <th>plan_duration</th>\n",
       "      <th>trip_route_category</th>\n",
       "      <th>passholder_type</th>\n",
       "      <th>start_hour</th>\n",
       "    </tr>\n",
       "  </thead>\n",
       "  <tbody>\n",
       "    <tr>\n",
       "      <th>0</th>\n",
       "      <td>94851140</td>\n",
       "      <td>8</td>\n",
       "      <td>2018-07-01 00:04:00</td>\n",
       "      <td>2018-07-01 00:12:00</td>\n",
       "      <td>3058</td>\n",
       "      <td>34.035801</td>\n",
       "      <td>-118.233170</td>\n",
       "      <td>3082</td>\n",
       "      <td>34.046520</td>\n",
       "      <td>-118.237411</td>\n",
       "      <td>6279</td>\n",
       "      <td>30</td>\n",
       "      <td>One Way</td>\n",
       "      <td>Monthly Pass</td>\n",
       "      <td>0</td>\n",
       "    </tr>\n",
       "    <tr>\n",
       "      <th>1</th>\n",
       "      <td>94851141</td>\n",
       "      <td>8</td>\n",
       "      <td>2018-07-01 00:04:00</td>\n",
       "      <td>2018-07-01 00:12:00</td>\n",
       "      <td>3058</td>\n",
       "      <td>34.035801</td>\n",
       "      <td>-118.233170</td>\n",
       "      <td>3082</td>\n",
       "      <td>34.046520</td>\n",
       "      <td>-118.237411</td>\n",
       "      <td>6518</td>\n",
       "      <td>365</td>\n",
       "      <td>One Way</td>\n",
       "      <td>Flex Pass</td>\n",
       "      <td>0</td>\n",
       "    </tr>\n",
       "    <tr>\n",
       "      <th>2</th>\n",
       "      <td>94851138</td>\n",
       "      <td>15</td>\n",
       "      <td>2018-07-01 00:09:00</td>\n",
       "      <td>2018-07-01 00:24:00</td>\n",
       "      <td>4147</td>\n",
       "      <td>34.145248</td>\n",
       "      <td>-118.150070</td>\n",
       "      <td>4174</td>\n",
       "      <td>34.165291</td>\n",
       "      <td>-118.150970</td>\n",
       "      <td>4823</td>\n",
       "      <td>365</td>\n",
       "      <td>One Way</td>\n",
       "      <td>Monthly Pass</td>\n",
       "      <td>0</td>\n",
       "    </tr>\n",
       "    <tr>\n",
       "      <th>3</th>\n",
       "      <td>94851137</td>\n",
       "      <td>7</td>\n",
       "      <td>2018-07-01 00:22:00</td>\n",
       "      <td>2018-07-01 00:29:00</td>\n",
       "      <td>4157</td>\n",
       "      <td>34.140999</td>\n",
       "      <td>-118.132088</td>\n",
       "      <td>4162</td>\n",
       "      <td>34.147499</td>\n",
       "      <td>-118.148010</td>\n",
       "      <td>6115</td>\n",
       "      <td>30</td>\n",
       "      <td>One Way</td>\n",
       "      <td>Monthly Pass</td>\n",
       "      <td>0</td>\n",
       "    </tr>\n",
       "    <tr>\n",
       "      <th>4</th>\n",
       "      <td>94851136</td>\n",
       "      <td>35</td>\n",
       "      <td>2018-07-01 00:23:00</td>\n",
       "      <td>2018-07-01 00:58:00</td>\n",
       "      <td>3013</td>\n",
       "      <td>33.779819</td>\n",
       "      <td>-118.263023</td>\n",
       "      <td>3013</td>\n",
       "      <td>33.779819</td>\n",
       "      <td>-118.263023</td>\n",
       "      <td>12055</td>\n",
       "      <td>1</td>\n",
       "      <td>Round Trip</td>\n",
       "      <td>Walk-up</td>\n",
       "      <td>0</td>\n",
       "    </tr>\n",
       "  </tbody>\n",
       "</table>\n",
       "</div>"
      ],
      "text/plain": [
       "    trip_id  duration          start_time            end_time  start_station  \\\n",
       "0  94851140         8 2018-07-01 00:04:00 2018-07-01 00:12:00           3058   \n",
       "1  94851141         8 2018-07-01 00:04:00 2018-07-01 00:12:00           3058   \n",
       "2  94851138        15 2018-07-01 00:09:00 2018-07-01 00:24:00           4147   \n",
       "3  94851137         7 2018-07-01 00:22:00 2018-07-01 00:29:00           4157   \n",
       "4  94851136        35 2018-07-01 00:23:00 2018-07-01 00:58:00           3013   \n",
       "\n",
       "   start_lat   start_lon  end_station    end_lat     end_lon  bike_id  \\\n",
       "0  34.035801 -118.233170         3082  34.046520 -118.237411     6279   \n",
       "1  34.035801 -118.233170         3082  34.046520 -118.237411     6518   \n",
       "2  34.145248 -118.150070         4174  34.165291 -118.150970     4823   \n",
       "3  34.140999 -118.132088         4162  34.147499 -118.148010     6115   \n",
       "4  33.779819 -118.263023         3013  33.779819 -118.263023    12055   \n",
       "\n",
       "   plan_duration trip_route_category passholder_type  start_hour  \n",
       "0             30             One Way    Monthly Pass           0  \n",
       "1            365             One Way       Flex Pass           0  \n",
       "2            365             One Way    Monthly Pass           0  \n",
       "3             30             One Way    Monthly Pass           0  \n",
       "4              1          Round Trip         Walk-up           0  "
      ]
     },
     "execution_count": 39,
     "metadata": {},
     "output_type": "execute_result"
    }
   ],
   "source": [
    "bike_cleaned['start_hour'] = bike_cleaned['start_time'].apply(lambda x: x.hour)\n",
    "bike_cleaned.head()"
   ]
  },
  {
   "cell_type": "markdown",
   "metadata": {},
   "source": [
    "###  Duration variable varies between each journey starting hour of the day"
   ]
  },
  {
   "cell_type": "code",
   "execution_count": 40,
   "metadata": {
    "scrolled": true
   },
   "outputs": [
    {
     "data": {
      "image/png": "[encoded data removed]",
      "text/plain": [
       "<Figure size 432x288 with 1 Axes>"
      ]
     },
     "metadata": {
      "needs_background": "light"
     },
     "output_type": "display_data"
    }
   ],
   "source": [
    "fig, ax = plt.subplots()\n",
    "bike_cleaned[['start_hour', 'duration']].boxplot(by='start_hour', ax=ax, showfliers=False)\n",
    "ax.set_yscale('log')\n",
    "plt.ylabel('duration')\n",
    "plt.xlabel('start hour');\n"
   ]
  },
  {
   "cell_type": "markdown",
   "metadata": {},
   "source": [
    "From the box plot above, from 4am to 10am have the lowest average duration by hour compared to the rest of the times, with 7am being the lowest. This suggests that this is peak travel time where people are either taking shorter trips or are hurrying to work. \n",
    "\n",
    "Whereas the times from 16:00 to 19:00 are roughly the same average duration, which would be peak time to travel home from work, however there wouldn't be a rush, which is displayed by the average duration hovering around the median duration. (Eye balled not plotted)"
   ]
  },
  {
   "cell_type": "markdown",
   "metadata": {},
   "source": [
    "### Distribution of the duration variable varies between each day of the week"
   ]
  },
  {
   "cell_type": "code",
   "execution_count": 41,
   "metadata": {},
   "outputs": [
    {
     "data": {
      "text/plain": [
       "[Text(0, 0, 'Monday'),\n",
       " Text(0, 0, 'Tuesday'),\n",
       " Text(0, 0, 'Wednesday'),\n",
       " Text(0, 0, 'Thursday'),\n",
       " Text(0, 0, 'Friday'),\n",
       " Text(0, 0, 'Saturday'),\n",
       " Text(0, 0, 'Sunday')]"
      ]
     },
     "execution_count": 41,
     "metadata": {},
     "output_type": "execute_result"
    },
    {
     "data": {
      "image/png": "[encoded data removed]",
      "text/plain": [
       "<Figure size 432x288 with 1 Axes>"
      ]
     },
     "metadata": {
      "needs_background": "light"
     },
     "output_type": "display_data"
    }
   ],
   "source": [
    "bike_cleaned['day'] = bike_cleaned['start_time'].apply(lambda x: x.weekday())\n",
    "\n",
    "fig, ax = plt.subplots()\n",
    "bike_cleaned[['day', 'duration']].boxplot(by='day', ax=ax, showfliers=False)\n",
    "ax.set_yscale('log')\n",
    "plt.ylabel('duration')\n",
    "plt.xlabel('day');\n",
    "ax.set_xticklabels(['Monday', 'Tuesday', 'Wednesday', 'Thursday', 'Friday', 'Saturday', 'Sunday'])"
   ]
  },
  {
   "cell_type": "markdown",
   "metadata": {},
   "source": [
    "The boxplot above shows that there is a clear difference by those traveling on weekends compared to those who travel on the weekdays - the durations of the trips are much longer\n",
    "\n",
    "Therefore the data was split to analysis, as shown in the two histograms."
   ]
  },
  {
   "cell_type": "code",
   "execution_count": 42,
   "metadata": {},
   "outputs": [
    {
     "data": {
      "image/png": "[encoded data removed]",
      "text/plain": [
       "<Figure size 432x288 with 1 Axes>"
      ]
     },
     "metadata": {
      "needs_background": "light"
     },
     "output_type": "display_data"
    }
   ],
   "source": [
    "## Check weekends and weekdays as histogram\n",
    "# 5, 6 = weekends\n",
    "\n",
    "weekend = bike_cleaned[bike_cleaned['day'] >= 5]\n",
    "weekend['duration'].plot.hist(log=True, bins=100);\n",
    "plt.ylabel('duration')\n",
    "plt.xlabel('weekend days');"
   ]
  },
  {
   "cell_type": "code",
   "execution_count": 43,
   "metadata": {},
   "outputs": [
    {
     "data": {
      "image/png": "[encoded data removed]",
      "text/plain": [
       "<Figure size 432x288 with 1 Axes>"
      ]
     },
     "metadata": {
      "needs_background": "light"
     },
     "output_type": "display_data"
    }
   ],
   "source": [
    "# 0,1,2,3,4 = weekdays\n",
    "\n",
    "weekday = bike_cleaned[bike_cleaned['day'] <= 4]\n",
    "weekday['duration'].plot.hist(log=True, bins=100);\n",
    "plt.ylabel('duration')\n",
    "plt.xlabel('weekend days');"
   ]
  },
  {
   "cell_type": "markdown",
   "metadata": {},
   "source": [
    "Although the histograms look almost identical, eyeballing it, the histogram plotting the weekend has more spread towards the upper quartile, 1000-1300 duration, than the weekday plot.\n",
    "\n",
    "This can further be shown by finding the mean and variances of both dataframes and performing a MannWhitneyU test."
   ]
  },
  {
   "cell_type": "code",
   "execution_count": 44,
   "metadata": {},
   "outputs": [
    {
     "name": "stdout",
     "output_type": "stream",
     "text": [
      "Weekend Mean:  0.8932284681166107 \n",
      "Weekend Variance:  0.09537137186266369\n",
      "\n",
      "Weekday Mean:  0.10677153188338931 \n",
      "Weekday Variance:  0.0953713718626637\n",
      "\n",
      "\n",
      " Ttest_indResult(statistic=-25.840310188737195, pvalue=1.0317618797109718e-146)\n",
      "MannwhitneyuResult(statistic=678518769.0, pvalue=0.0)\n"
     ]
    }
   ],
   "source": [
    "# Get mean and variance of each\n",
    "\n",
    "weekend_mean = np.mean(bike_cleaned['duration'] >= 5)\n",
    "weekend_var = np.var(bike_cleaned['duration'] >= 5)\n",
    "weekday_mean = np.mean(bike_cleaned['duration'] <= 4)\n",
    "weekday_var = np.var(bike_cleaned['duration'] <= 4)\n",
    "print(\"Weekend Mean: \", weekend_mean, \"\\nWeekend Variance: \", weekend_var)\n",
    "print(\"\\nWeekday Mean: \", weekday_mean, \"\\nWeekday Variance: \", weekday_var)\n",
    "\n",
    "print(\"\\n\\n\", ttest_ind(weekday['duration'], weekend['duration'], equal_var=True))\n",
    "print(mannwhitneyu(weekday['duration'], weekend['duration']))"
   ]
  },
  {
   "cell_type": "markdown",
   "metadata": {},
   "source": [
    "This shows that the means of both are different\n",
    "The p-value of the Student's t-test shows that this isn't a suitable test as it suggests that they are exactly equal and tha the data is perfectly described.\n",
    "However the p-value from the mannwhitneyU test shows that it is unlikely that the the durations from either come from the same distributions due to rejecting the null hypothesis that they are from the same distribution. \n",
    "Additionally this is shown by looking at the means for either, which shows that the weekend has a higher duration mean than the weekdays"
   ]
  },
  {
   "cell_type": "markdown",
   "metadata": {},
   "source": [
    "### Total numbers of passholders of each type travelling on each week day"
   ]
  },
  {
   "cell_type": "code",
   "execution_count": 45,
   "metadata": {},
   "outputs": [
    {
     "data": {
      "text/plain": [
       "[Text(0, 0, 'Monday'),\n",
       " Text(0, 0, 'Tuesday'),\n",
       " Text(0, 0, 'Wednesday'),\n",
       " Text(0, 0, 'Thursday'),\n",
       " Text(0, 0, 'Friday'),\n",
       " Text(0, 0, 'Saturday'),\n",
       " Text(0, 0, 'Sunday')]"
      ]
     },
     "execution_count": 45,
     "metadata": {},
     "output_type": "execute_result"
    },
    {
     "data": {
      "image/png": "[encoded data removed]",
      "text/plain": [
       "<Figure size 432x288 with 1 Axes>"
      ]
     },
     "metadata": {
      "needs_background": "light"
     },
     "output_type": "display_data"
    }
   ],
   "source": [
    "passholder_type_day = bike_cleaned.groupby(['day', 'passholder_type'])['day'].size()\n",
    "\n",
    "fig, ax = plt.subplots()\n",
    "passholder_type_day.unstack().plot.bar(by='day', ax=ax)\n",
    "ax.set_yscale('log')\n",
    "plt.ylabel('No. Journeys')\n",
    "plt.xlabel('day');\n",
    "ax.set_xticklabels(['Monday', 'Tuesday', 'Wednesday', 'Thursday', 'Friday', 'Saturday', 'Sunday'])"
   ]
  },
  {
   "cell_type": "markdown",
   "metadata": {},
   "source": [
    "This bar plot shows the total number of passholders of each type that travel on each day of the week.\n",
    "From this the amount of passholders can be seen for each type and the frequency on each day. Monthly and Walk-up passes being the most popular and having the most number of journeys. \n",
    "With Flex and one-day pass holders hovering around the average number of journeys.\n",
    "\n",
    "Also the number of journeys increase during the weekends.\n",
    "\n",
    "However, annual passes are not as popular as the others, both values for Saturday and Sunday can be seen as outliers due to such a small number of journeys made and due to Annual passes having a significantly smaller size sample, as shown in 'Comparision of Passholder type against duration' where Annual pass only has 10 samples\n"
   ]
  },
  {
   "cell_type": "markdown",
   "metadata": {},
   "source": [
    "### NetworkX"
   ]
  },
  {
   "cell_type": "markdown",
   "metadata": {},
   "source": [
    "### Visualisation of the network"
   ]
  },
  {
   "cell_type": "code",
   "execution_count": 46,
   "metadata": {
    "scrolled": true
   },
   "outputs": [
    {
     "data": {
      "text/plain": [
       "start_station  end_station\n",
       "3005           3005           306\n",
       "               3006            74\n",
       "               3007            49\n",
       "               3008            91\n",
       "               3010            29\n",
       "               3011            53\n",
       "               3014            36\n",
       "               3016             4\n",
       "               3018           115\n",
       "               3019            53\n",
       "               3020             4\n",
       "               3022            54\n",
       "               3023            34\n",
       "               3024             3\n",
       "               3025             7\n",
       "               3026            86\n",
       "               3027            12\n",
       "               3028             3\n",
       "               3029            78\n",
       "               3030            66\n",
       "               3031           322\n",
       "               3032            27\n",
       "               3033            31\n",
       "               3034            73\n",
       "               3035            16\n",
       "               3036            23\n",
       "               3037            16\n",
       "               3038            99\n",
       "               3040            30\n",
       "               3042            57\n",
       "                             ... \n",
       "4254           4214             1\n",
       "               4244             6\n",
       "               4245             3\n",
       "               4246             8\n",
       "               4248            29\n",
       "               4249            44\n",
       "               4250            17\n",
       "               4254            63\n",
       "               4267             3\n",
       "4267           3005             3\n",
       "               3006             1\n",
       "               3008             1\n",
       "               3010             1\n",
       "               3011             4\n",
       "               3018             2\n",
       "               3032             2\n",
       "               3033             2\n",
       "               3035             1\n",
       "               3056             2\n",
       "               3057             2\n",
       "               3075             1\n",
       "               3077             1\n",
       "               4227             1\n",
       "               4245            21\n",
       "               4246             3\n",
       "               4248            11\n",
       "               4249            13\n",
       "               4250             6\n",
       "               4254             6\n",
       "               4267            29\n",
       "Length: 4511, dtype: int64"
      ]
     },
     "execution_count": 46,
     "metadata": {},
     "output_type": "execute_result"
    }
   ],
   "source": [
    "bike_cleaned[['start_station', 'end_station']].groupby(['start_station', 'end_station']).size()"
   ]
  },
  {
   "cell_type": "code",
   "execution_count": 66,
   "metadata": {},
   "outputs": [],
   "source": [
    "g = nx.DiGraph() \n",
    "    \n",
    "for edge in bike_cleaned.itertuples():\n",
    "    if g.has_edge(edge.start_station, edge.end_station):\n",
    "        g[edge.start_station][edge.end_station]['weight']+=1\n",
    "    else:\n",
    "        g.add_edge(edge.start_station ,edge.end_station, weight=1)"
   ]
  },
  {
   "cell_type": "markdown",
   "metadata": {},
   "source": [
    "Generate weighted directed graph"
   ]
  },
  {
   "cell_type": "code",
   "execution_count": 86,
   "metadata": {},
   "outputs": [
    {
     "data": {
      "image/png": "[encoded data removed]",
      "text/plain": [
       "<Figure size 1200x1200 with 1 Axes>"
      ]
     },
     "metadata": {
      "needs_background": "light"
     },
     "output_type": "display_data"
    }
   ],
   "source": [
    "#bike_cleaned\n",
    "\n",
    "# Nodes are stations\n",
    "# Weights are Total number of journeys made\n",
    "\n",
    "df = bike_cleaned[['start_station', 'end_station']].groupby(['start_station', 'end_station']).size().reset_index().rename(columns={0:'weight'})\n",
    "edges = df.values.tolist()\n",
    "\n",
    "g = nx.Graph()\n",
    "\n",
    "plt.figure(figsize=(15,15), dpi=80)\n",
    "plt.axis('off')\n",
    "\n",
    "for i in edges:\n",
    "    g.add_edge(i[0], i[1], weight=i[2])\n",
    "\n",
    "\n",
    "elarge = [(u, v) for (u, v, d) in g.edges(data=True) if d['weight'] > 50]\n",
    "esmall = [(u, v) for (u, v, d) in g.edges(data=True) if d['weight'] <= 50]\n",
    "\n",
    "pos = nx.spring_layout(g)  # positions for all nodes\n",
    "\n",
    "# nodes\n",
    "nx.draw_networkx_nodes(g, pos, node_size=800)\n",
    "\n",
    "# edges\n",
    "nx.draw_networkx_edges(g, pos, edgelist=elarge,\n",
    "                       width=8)\n",
    "nx.draw_networkx_edges(g, pos, edgelist=esmall,\n",
    "                       width=8, alpha=0.5, edge_color='b', style='dashed')\n",
    "\n",
    "# labels\n",
    "nx.draw_networkx_labels(g, pos, font_size=12, font_family='sans-serif')\n",
    "\n",
    "plt.show()"
   ]
  },
  {
   "cell_type": "markdown",
   "metadata": {},
   "source": [
    "From the network graph shown above, it is clear that there are 3 distinct groups of connected stations in the network. The is also another group that is not as closely connected to each other.\n",
    "\n",
    "There are also the occasional outliers in the network that only have 1-3 connections (stations: 4108, 3080, 3079, 3013, 4125).\n",
    "\n",
    "The shorter the dashed lines, the shorter the journey between the stations."
   ]
  },
  {
   "cell_type": "markdown",
   "metadata": {},
   "source": [
    "#### Calculate statistics of the network"
   ]
  },
  {
   "cell_type": "code",
   "execution_count": 87,
   "metadata": {},
   "outputs": [
    {
     "data": {
      "text/plain": [
       "[<matplotlib.lines.Line2D at 0x7f1721a038d0>]"
      ]
     },
     "execution_count": 87,
     "metadata": {},
     "output_type": "execute_result"
    },
    {
     "data": {
      "image/png": "[encoded data removed]",
      "text/plain": [
       "<Figure size 432x288 with 1 Axes>"
      ]
     },
     "metadata": {
      "needs_background": "light"
     },
     "output_type": "display_data"
    }
   ],
   "source": [
    "## Network degrees\n",
    "ddist = nx.degree_histogram(g)[1:] # Skip 0 degree nodes\n",
    "plt.loglog(range(1,len(ddist)+1),ddist,'o')"
   ]
  },
  {
   "cell_type": "markdown",
   "metadata": {},
   "source": [
    "Showing the degree distribution, with most of the degrees around the 10^0 showing it being possibly heavy tailed"
   ]
  },
  {
   "cell_type": "code",
   "execution_count": 69,
   "metadata": {},
   "outputs": [
    {
     "data": {
      "text/plain": [
       "(array([ 2.,  0.,  0.,  0.,  1.,  0.,  0.,  0.,  0.,  0.,  2.,  3.,  4.,\n",
       "         3.,  2., 15., 27., 42., 18.,  8.]),\n",
       " array([0.  , 0.05, 0.1 , 0.15, 0.2 , 0.25, 0.3 , 0.35, 0.4 , 0.45, 0.5 ,\n",
       "        0.55, 0.6 , 0.65, 0.7 , 0.75, 0.8 , 0.85, 0.9 , 0.95, 1.  ]),\n",
       " <a list of 20 Patch objects>)"
      ]
     },
     "execution_count": 69,
     "metadata": {},
     "output_type": "execute_result"
    },
    {
     "data": {
      "image/png": "[encoded data removed]",
      "text/plain": [
       "<Figure size 432x288 with 1 Axes>"
      ]
     },
     "metadata": {
      "needs_background": "light"
     },
     "output_type": "display_data"
    }
   ],
   "source": [
    "## Clustering coeffs\n",
    "cc = nx.clustering(g)\n",
    "plt.hist(list(cc.values()),bins=20)"
   ]
  },
  {
   "cell_type": "markdown",
   "metadata": {},
   "source": [
    "Shows that the nodes are closely connected each other with the few outliers. \n",
    "\n",
    "https://github.com/gephi/gephi/wiki/Average-Clustering-Coefficient"
   ]
  },
  {
   "cell_type": "markdown",
   "metadata": {},
   "source": [
    "# Task 2 – Seed shape data"
   ]
  },
  {
   "cell_type": "markdown",
   "metadata": {},
   "source": [
    "### Load data and remove null values"
   ]
  },
  {
   "cell_type": "code",
   "execution_count": 88,
   "metadata": {},
   "outputs": [
    {
     "data": {
      "text/plain": [
       "(210, 7)"
      ]
     },
     "execution_count": 88,
     "metadata": {},
     "output_type": "execute_result"
    }
   ],
   "source": [
    "seeds = pd.read_csv(\"seeds.csv\")\n",
    "seeds.shape"
   ]
  },
  {
   "cell_type": "code",
   "execution_count": 89,
   "metadata": {},
   "outputs": [
    {
     "name": "stdout",
     "output_type": "stream",
     "text": [
      "Empty DataFrame\n",
      "Columns: []\n",
      "Index: []\n"
     ]
    }
   ],
   "source": [
    "#Identify null and empty values\n",
    "\n",
    "null_columns=seeds.columns[seeds.isnull().any()]\n",
    "\n",
    "#print(bike[null_columns].isnull().sum())\n",
    "nulls = seeds[seeds.isnull().any(axis=1)][null_columns].head()\n",
    "print(nulls)"
   ]
  },
  {
   "cell_type": "code",
   "execution_count": 90,
   "metadata": {},
   "outputs": [
    {
     "data": {
      "text/html": [
       "<div>\n",
       "<style scoped>\n",
       "    .dataframe tbody tr th:only-of-type {\n",
       "        vertical-align: middle;\n",
       "    }\n",
       "\n",
       "    .dataframe tbody tr th {\n",
       "        vertical-align: top;\n",
       "    }\n",
       "\n",
       "    .dataframe thead th {\n",
       "        text-align: right;\n",
       "    }\n",
       "</style>\n",
       "<table border=\"1\" class=\"dataframe\">\n",
       "  <thead>\n",
       "    <tr style=\"text-align: right;\">\n",
       "      <th></th>\n",
       "      <th>area</th>\n",
       "      <th>perimeter</th>\n",
       "      <th>compactness</th>\n",
       "      <th>length</th>\n",
       "      <th>width</th>\n",
       "      <th>asymmetry</th>\n",
       "      <th>groove length</th>\n",
       "    </tr>\n",
       "  </thead>\n",
       "  <tbody>\n",
       "    <tr>\n",
       "      <th>0</th>\n",
       "      <td>15.26</td>\n",
       "      <td>14.84</td>\n",
       "      <td>0.871</td>\n",
       "      <td>5.763</td>\n",
       "      <td>3.312</td>\n",
       "      <td>2.221</td>\n",
       "      <td>5.220</td>\n",
       "    </tr>\n",
       "    <tr>\n",
       "      <th>1</th>\n",
       "      <td>14.88</td>\n",
       "      <td>14.57</td>\n",
       "      <td>0.881</td>\n",
       "      <td>5.554</td>\n",
       "      <td>3.333</td>\n",
       "      <td>1.018</td>\n",
       "      <td>4.956</td>\n",
       "    </tr>\n",
       "    <tr>\n",
       "      <th>2</th>\n",
       "      <td>14.29</td>\n",
       "      <td>14.09</td>\n",
       "      <td>0.905</td>\n",
       "      <td>5.291</td>\n",
       "      <td>3.337</td>\n",
       "      <td>2.699</td>\n",
       "      <td>4.825</td>\n",
       "    </tr>\n",
       "    <tr>\n",
       "      <th>3</th>\n",
       "      <td>13.84</td>\n",
       "      <td>13.94</td>\n",
       "      <td>0.895</td>\n",
       "      <td>5.324</td>\n",
       "      <td>3.379</td>\n",
       "      <td>2.259</td>\n",
       "      <td>4.805</td>\n",
       "    </tr>\n",
       "    <tr>\n",
       "      <th>4</th>\n",
       "      <td>16.14</td>\n",
       "      <td>14.99</td>\n",
       "      <td>0.903</td>\n",
       "      <td>5.658</td>\n",
       "      <td>3.562</td>\n",
       "      <td>1.355</td>\n",
       "      <td>5.175</td>\n",
       "    </tr>\n",
       "  </tbody>\n",
       "</table>\n",
       "</div>"
      ],
      "text/plain": [
       "    area  perimeter  compactness  length  width  asymmetry  groove length\n",
       "0  15.26      14.84        0.871   5.763  3.312      2.221          5.220\n",
       "1  14.88      14.57        0.881   5.554  3.333      1.018          4.956\n",
       "2  14.29      14.09        0.905   5.291  3.337      2.699          4.825\n",
       "3  13.84      13.94        0.895   5.324  3.379      2.259          4.805\n",
       "4  16.14      14.99        0.903   5.658  3.562      1.355          5.175"
      ]
     },
     "execution_count": 90,
     "metadata": {},
     "output_type": "execute_result"
    }
   ],
   "source": [
    "seeds.head()"
   ]
  },
  {
   "cell_type": "markdown",
   "metadata": {},
   "source": [
    "Identify and remove any null values"
   ]
  },
  {
   "cell_type": "markdown",
   "metadata": {},
   "source": [
    "### Fit a Gaussian mixture model"
   ]
  },
  {
   "cell_type": "code",
   "execution_count": 91,
   "metadata": {},
   "outputs": [
    {
     "name": "stdout",
     "output_type": "stream",
     "text": [
      "[[17.40948188 15.70475724  0.88457383  5.99093194  3.58968127  3.29345818\n",
      "   5.77163874]\n",
      " [12.46292382 13.49311238  0.85836585  5.29122269  2.95044787  4.07878408\n",
      "   5.06967299]]\n",
      "\n",
      "\n",
      "[[[ 3.48896994e+00  1.55773416e+00  2.26129900e-03  5.74024446e-01\n",
      "    3.58453109e-01  6.54870492e-01  7.34561939e-01]\n",
      "  [ 1.55773416e+00  7.13524391e-01 -9.48561453e-04  2.71950814e-01\n",
      "    1.49962557e-01  3.15849865e-01  3.48720557e-01]\n",
      "  [ 2.26129900e-03 -9.48561453e-04  2.20259411e-04 -1.36565375e-03\n",
      "    1.34523996e-03 -2.37376359e-03 -1.71655868e-03]\n",
      "  [ 5.74024446e-01  2.71950814e-01 -1.36565375e-03  1.14976416e-01\n",
      "    4.92377951e-02  1.15597085e-01  1.43805523e-01]\n",
      "  [ 3.58453109e-01  1.49962557e-01  1.34523996e-03  4.92377951e-02\n",
      "    4.40846332e-02  6.36616004e-02  6.29910501e-02]\n",
      "  [ 6.54870492e-01  3.15849865e-01 -2.37376359e-03  1.15597085e-01\n",
      "    6.36616004e-02  1.63259945e+00  1.86918990e-01]\n",
      "  [ 7.34561939e-01  3.48720557e-01 -1.71655868e-03  1.43805523e-01\n",
      "    6.29910501e-02  1.86918990e-01  2.01862965e-01]]\n",
      "\n",
      " [[ 1.22575842e+00  5.36790089e-01  1.57435460e-02  1.50551185e-01\n",
      "    1.92199466e-01 -6.66795077e-01  1.57870483e-02]\n",
      "  [ 5.36790089e-01  2.55182270e-01  4.32397013e-03  8.20702386e-02\n",
      "    7.44656293e-02 -2.76754700e-01  2.56706178e-02]\n",
      "  [ 1.57435460e-02  4.32397013e-03  5.35525306e-04 -1.62279908e-04\n",
      "    3.72361035e-03 -1.05404979e-02 -2.19824106e-03]\n",
      "  [ 1.50551185e-01  8.20702386e-02 -1.62279908e-04  3.41815735e-02\n",
      "    1.52419311e-02 -6.23127302e-02  1.96900669e-02]\n",
      "  [ 1.92199466e-01  7.44656293e-02  3.72361035e-03  1.52419311e-02\n",
      "    3.61331082e-02 -9.88444780e-02 -7.71542820e-03]\n",
      "  [-6.66795077e-01 -2.76754700e-01 -1.05404979e-02 -6.23127302e-02\n",
      "   -9.88444780e-02  2.52720349e+00  7.60425630e-02]\n",
      "  [ 1.57870483e-02  2.56706178e-02 -2.19824106e-03  1.96900669e-02\n",
      "   -7.71542820e-03  7.60425630e-02  3.87324893e-02]]]\n"
     ]
    }
   ],
   "source": [
    "mixturemodel = GaussianMixture(n_components=2)\n",
    "mixturemodel.fit(seeds)\n",
    "\n",
    "print(mixturemodel.means_)\n",
    "print('\\n')\n",
    "print(mixturemodel.covariances_)"
   ]
  },
  {
   "cell_type": "code",
   "execution_count": 96,
   "metadata": {},
   "outputs": [
    {
     "data": {
      "image/png": "[encoded data removed]",
      "text/plain": [
       "<Figure size 432x288 with 1 Axes>"
      ]
     },
     "metadata": {
      "needs_background": "light"
     },
     "output_type": "display_data"
    }
   ],
   "source": [
    "plt.scatter(seeds['compactness'], seeds['groove length'], c=mixturemodel.predict(seeds))\n",
    "plt.ylabel('Groove Length')\n",
    "plt.xlabel('Compactness');\n",
    "plt.show()"
   ]
  },
  {
   "cell_type": "markdown",
   "metadata": {},
   "source": [
    "This plot shows that groove length has a significate impact on how this data is clustered whereas compactness has little impact, with a cluster focusing around 5.0-5.5 with a wide range of compactness."
   ]
  },
  {
   "cell_type": "code",
   "execution_count": 97,
   "metadata": {},
   "outputs": [
    {
     "name": "stdout",
     "output_type": "stream",
     "text": [
      "-1994.3271893766077\n",
      "-1756.6825546956675\n"
     ]
    }
   ],
   "source": [
    "print(mixturemodel.aic(seeds))\n",
    "print(mixturemodel.bic(seeds))"
   ]
  },
  {
   "cell_type": "code",
   "execution_count": 101,
   "metadata": {},
   "outputs": [
    {
     "data": {
      "image/png": "[encoded data removed]",
      "text/plain": [
       "<Figure size 432x288 with 1 Axes>"
      ]
     },
     "metadata": {
      "needs_background": "light"
     },
     "output_type": "display_data"
    }
   ],
   "source": [
    "model_aic = []\n",
    "model_bic = []\n",
    "for k in range(1,11):\n",
    "    mixturemodel = GaussianMixture(k)\n",
    "    mixturemodel.fit(seeds)\n",
    "    model_aic.append(mixturemodel.aic(seeds))\n",
    "    model_bic.append(mixturemodel.bic(seeds))\n",
    "    #mixturemodel.fit(seeds[['compactness', 'groove length']])\n",
    "    #model_aic.append(mixturemodel.aic(seeds[['compactness','groove length']]))\n",
    "    #model_bic.append(mixturemodel.bic(seeds[['compactness','groove length']]))\n",
    "    \n",
    "fig, ax = plt.subplots()\n",
    "ax.plot(range(1, 11), model_aic, label='AIC')\n",
    "ax.plot(range(1, 11), model_bic, label='BIC')\n",
    "ax.legend()\n",
    "ax.set_xticks(range(1, 11), minor=False)\n",
    "plt.show()"
   ]
  },
  {
   "cell_type": "markdown",
   "metadata": {},
   "source": [
    "This shows that both AIC and BIC perform best when the component is set to 3 or 4, with AIC performing best with 4 components and BIC at 3. As lower the score the better, therefore a guassian mixture with a component of 3 should be used based on the BIC result.\n",
    "\n",
    "Observing when a component of 3 is used"
   ]
  },
  {
   "cell_type": "code",
   "execution_count": 105,
   "metadata": {},
   "outputs": [
    {
     "data": {
      "image/png": "[encoded data removed]",
      "text/plain": [
       "<Figure size 432x288 with 1 Axes>"
      ]
     },
     "metadata": {
      "needs_background": "light"
     },
     "output_type": "display_data"
    }
   ],
   "source": [
    "mixturemodel = GaussianMixture(n_components=3)\n",
    "mixturemodel.fit(seeds)\n",
    "plt.scatter(seeds['compactness'], seeds['groove length'], c=mixturemodel.predict(seeds))\n",
    "plt.ylabel('Groove Length')\n",
    "plt.xlabel('Compactness');\n",
    "plt.show()"
   ]
  },
  {
   "cell_type": "code",
   "execution_count": 106,
   "metadata": {},
   "outputs": [
    {
     "data": {
      "image/png": "[encoded data removed]",
      "text/plain": [
       "<Figure size 432x288 with 1 Axes>"
      ]
     },
     "metadata": {
      "needs_background": "light"
     },
     "output_type": "display_data"
    }
   ],
   "source": [
    "model_aic = []\n",
    "model_bic = []\n",
    "for k in range(1,11):\n",
    "    mixturemodel = GaussianMixture(k)\n",
    "    mixturemodel.fit(seeds)\n",
    "    model_aic.append(mixturemodel.aic(seeds))\n",
    "    model_bic.append(mixturemodel.bic(seeds))\n",
    "    #mixturemodel.fit(seeds[['compactness', 'groove length']])\n",
    "    #model_aic.append(mixturemodel.aic(seeds[['compactness','groove length']]))\n",
    "    #model_bic.append(mixturemodel.bic(seeds[['compactness','groove length']]))\n",
    "    \n",
    "fig, ax = plt.subplots()\n",
    "ax.plot(range(1, 11), model_aic, label='AIC')\n",
    "ax.plot(range(1, 11), model_bic, label='BIC')\n",
    "ax.legend()\n",
    "ax.set_xticks(range(1, 11), minor=False)\n",
    "plt.show()"
   ]
  }
 ],
 "metadata": {
  "kernelspec": {
   "display_name": "Python 3",
   "language": "python",
   "name": "python3"
  },
  "language_info": {
   "codemirror_mode": {
    "name": "ipython",
    "version": 3
   },
   "file_extension": ".py",
   "mimetype": "text/x-python",
   "name": "python",
   "nbconvert_exporter": "python",
   "pygments_lexer": "ipython3",
   "version": "3.6.7"
  }
 },
 "nbformat": 4,
 "nbformat_minor": 2
}
