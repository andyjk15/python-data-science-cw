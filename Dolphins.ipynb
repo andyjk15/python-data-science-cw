{
 "cells": [
  {
   "cell_type": "markdown",
   "metadata": {},
   "source": [
    "# Reading in the network data\n",
    "\n",
    "The network data is stored in a tab separated value file, with one line for each edge in the network.\n",
    "\n",
    "The dolphin social network data, and various other network data sets, are available here:\n",
    "\n",
    "[Koblenz Network Collection](http://konect.uni-koblenz.de/)\n",
    "\n",
    "You can download the dolphins.tsv file from blackboard. It is the same as the version available from the Koblenz Network Collection but with the header line removed."
   ]
  },
  {
   "cell_type": "code",
   "execution_count": 2,
   "metadata": {},
   "outputs": [
    {
     "ename": "ValueError",
     "evalue": "not enough values to unpack (expected 2, got 1)",
     "output_type": "error",
     "traceback": [
      "\u001b[0;31m---------------------------------------------------------------------------\u001b[0m",
      "\u001b[0;31mValueError\u001b[0m                                Traceback (most recent call last)",
      "\u001b[0;32m<ipython-input-2-dd0eda5b3fd7>\u001b[0m in \u001b[0;36m<module>\u001b[0;34m\u001b[0m\n\u001b[1;32m      4\u001b[0m \u001b[0;32mwith\u001b[0m \u001b[0mopen\u001b[0m\u001b[0;34m(\u001b[0m\u001b[0;34m\"dolphins.txt\"\u001b[0m\u001b[0;34m,\u001b[0m\u001b[0;34m'r'\u001b[0m\u001b[0;34m)\u001b[0m \u001b[0;32mas\u001b[0m \u001b[0mf\u001b[0m\u001b[0;34m:\u001b[0m\u001b[0;34m\u001b[0m\u001b[0;34m\u001b[0m\u001b[0m\n\u001b[1;32m      5\u001b[0m     \u001b[0;32mfor\u001b[0m \u001b[0ml\u001b[0m \u001b[0;32min\u001b[0m \u001b[0mf\u001b[0m\u001b[0;34m:\u001b[0m\u001b[0;34m\u001b[0m\u001b[0;34m\u001b[0m\u001b[0m\n\u001b[0;32m----> 6\u001b[0;31m         \u001b[0ma\u001b[0m\u001b[0;34m,\u001b[0m\u001b[0mb\u001b[0m \u001b[0;34m=\u001b[0m \u001b[0ml\u001b[0m\u001b[0;34m.\u001b[0m\u001b[0msplit\u001b[0m\u001b[0;34m(\u001b[0m\u001b[0;34m\"\\t\"\u001b[0m\u001b[0;34m)\u001b[0m\u001b[0;34m\u001b[0m\u001b[0;34m\u001b[0m\u001b[0m\n\u001b[0m\u001b[1;32m      7\u001b[0m         \u001b[0me\u001b[0m \u001b[0;34m=\u001b[0m \u001b[0;34m(\u001b[0m\u001b[0mint\u001b[0m\u001b[0;34m(\u001b[0m\u001b[0ma\u001b[0m\u001b[0;34m)\u001b[0m\u001b[0;34m,\u001b[0m\u001b[0mint\u001b[0m\u001b[0;34m(\u001b[0m\u001b[0mb\u001b[0m\u001b[0;34m)\u001b[0m\u001b[0;34m)\u001b[0m\u001b[0;34m\u001b[0m\u001b[0;34m\u001b[0m\u001b[0m\n\u001b[1;32m      8\u001b[0m         \u001b[0medges\u001b[0m\u001b[0;34m.\u001b[0m\u001b[0madd\u001b[0m\u001b[0;34m(\u001b[0m\u001b[0me\u001b[0m\u001b[0;34m)\u001b[0m\u001b[0;34m\u001b[0m\u001b[0;34m\u001b[0m\u001b[0m\n",
      "\u001b[0;31mValueError\u001b[0m: not enough values to unpack (expected 2, got 1)"
     ]
    }
   ],
   "source": [
    "# Create an empty edge set\n",
    "edges = set()\n",
    "\n",
    "with open(\"dolphins.tsv\",'r') as f:\n",
    "    for l in f:\n",
    "        a,b = l.split(\"\\t\")\n",
    "        e = (int(a),int(b))\n",
    "        edges.add(e)"
   ]
  },
  {
   "cell_type": "markdown",
   "metadata": {},
   "source": [
    "# Convert edge list (set) to neighbours\n",
    "\n",
    "We will use a dictionary, with nodes as keys and values as neighbour sets to represent the network. This way nodes can have arbitrary names, not just integers."
   ]
  },
  {
   "cell_type": "code",
   "execution_count": null,
   "metadata": {},
   "outputs": [],
   "source": [
    "# Create an empty dictionary\n",
    "network = {}\n",
    "\n",
    "for (a,b) in edges:\n",
    "    #Check if key is in dictionary\n",
    "    if a in network:\n",
    "        network[a].add(b)\n",
    "    else:\n",
    "        network[a]={b}\n",
    "    if b in network:\n",
    "        network[b].add(a)\n",
    "    else:\n",
    "        network[b]={a}"
   ]
  },
  {
   "cell_type": "code",
   "execution_count": null,
   "metadata": {},
   "outputs": [],
   "source": [
    "network[4] # Neighbours of node 4"
   ]
  },
  {
   "cell_type": "markdown",
   "metadata": {},
   "source": [
    "# Find the degree of each node"
   ]
  },
  {
   "cell_type": "code",
   "execution_count": null,
   "metadata": {},
   "outputs": [],
   "source": [
    "degrees = []\n",
    "\n",
    "for neighbours in network.values():\n",
    "    degrees.append(len(neighbours))"
   ]
  },
  {
   "cell_type": "code",
   "execution_count": null,
   "metadata": {},
   "outputs": [],
   "source": [
    "degrees[:5] # Degrees of first five nodes"
   ]
  },
  {
   "cell_type": "code",
   "execution_count": null,
   "metadata": {},
   "outputs": [],
   "source": [
    "max(degrees) # Maximum degree of any node"
   ]
  },
  {
   "cell_type": "code",
   "execution_count": null,
   "metadata": {},
   "outputs": [],
   "source": [
    "min(degrees) # Minimum degree of any node"
   ]
  },
  {
   "cell_type": "code",
   "execution_count": null,
   "metadata": {},
   "outputs": [],
   "source": [
    "sum(degrees)/len(degrees) # Average node degree"
   ]
  },
  {
   "cell_type": "markdown",
   "metadata": {},
   "source": [
    "# Local clustering coefficients of nodes\n",
    "\n",
    "First we define a helper function to count the number of edges between some set of nodes in our network."
   ]
  },
  {
   "cell_type": "code",
   "execution_count": null,
   "metadata": {},
   "outputs": [],
   "source": [
    "def count_edges(net,ns):\n",
    "    # Count number of edges between nodes in ns\n",
    "    c = 0\n",
    "    for n in ns:\n",
    "        neighbours = net[n]\n",
    "        es = neighbours & ns\n",
    "        c = c + len(es)\n",
    "    return c/2"
   ]
  },
  {
   "cell_type": "markdown",
   "metadata": {},
   "source": [
    "The local clustering coefficient of a node is calculated as:\n",
    "\n",
    "$C = \\frac{2E_N}{k(k-1)}$\n",
    "\n",
    "where $E_N$ is the total number of edges between neighbours of the node, and $k$ is the degree of the node.\n",
    "\n",
    "(Since the node has $k$ neighbours, there are $\\frac{k(k-1)}{2}$ possible edges between them)"
   ]
  },
  {
   "cell_type": "code",
   "execution_count": null,
   "metadata": {},
   "outputs": [],
   "source": [
    "clust_coeffs = []\n",
    "\n",
    "for neighbours in network.values():\n",
    "    k = len(neighbours)\n",
    "    if k>1:\n",
    "        e = count_edges(network,neighbours)\n",
    "        lcc = e / (0.5*k*(k-1))\n",
    "        clust_coeffs.append(lcc)\n",
    "    else:\n",
    "        clust_coeffs.append(0)\n",
    "        \n",
    "sum(clust_coeffs)/len(clust_coeffs) # Average clustering coefficient\n",
    "# Jupyter note -- the value of the last statement in a cell is displayed\n",
    "# below the cell"
   ]
  }
 ],
 "metadata": {
  "kernelspec": {
   "display_name": "Python 3",
   "language": "python",
   "name": "python3"
  },
  "language_info": {
   "codemirror_mode": {
    "name": "ipython",
    "version": 3
   },
   "file_extension": ".py",
   "mimetype": "text/x-python",
   "name": "python",
   "nbconvert_exporter": "python",
   "pygments_lexer": "ipython3",
   "version": "3.6.7"
  }
 },
 "nbformat": 4,
 "nbformat_minor": 2
}
